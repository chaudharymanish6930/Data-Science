{
 "cells": [
  {
   "cell_type": "markdown",
   "id": "90039707",
   "metadata": {},
   "source": [
    "# NumPy — Complete Guide & Examples\n",
    "\n",
    "**What you'll find:** a step-by-step NumPy tutorial with runnable code cells covering arrays, indexing, operations, universal functions, reshaping, broadcasting, linear algebra, random, and many useful programs.\n",
    "\n",
    "**How to use:** download this notebook, open it in JupyterLab / Jupyter Notebook / VS Code, and run cells one-by-one.\n"
   ]
  },
  {
   "cell_type": "code",
   "execution_count": 1,
   "id": "bceb1bce",
   "metadata": {},
   "outputs": [
    {
     "name": "stdout",
     "output_type": "stream",
     "text": [
      "NumPy version: 2.2.3\n"
     ]
    }
   ],
   "source": [
    "# If NumPy is not installed, uncomment and run the following line:\n",
    "# !pip install numpy\n",
    "\n",
    "import numpy as np\n",
    "import math\n",
    "\n",
    "print('NumPy version:', np.__version__)"
   ]
  },
  {
   "cell_type": "markdown",
   "id": "2218e4ec",
   "metadata": {},
   "source": [
    "## 1) Creating Arrays\n",
    "\n",
    "Examples: from lists, zeros, ones, arange, linspace, identity, random."
   ]
  },
  {
   "cell_type": "code",
   "execution_count": 2,
   "id": "e0bc7c0f",
   "metadata": {},
   "outputs": [
    {
     "data": {
      "text/plain": [
       "(array([1, 2, 3, 4, 5]),\n",
       " array([[1, 2, 3],\n",
       "        [4, 5, 6]]),\n",
       " array([[0., 0., 0.],\n",
       "        [0., 0., 0.],\n",
       "        [0., 0., 0.]]),\n",
       " array([[1., 1., 1., 1.],\n",
       "        [1., 1., 1., 1.]]),\n",
       " array([0, 2, 4, 6, 8]),\n",
       " array([0.  , 0.25, 0.5 , 0.75, 1.  ]),\n",
       " array([[1., 0., 0.],\n",
       "        [0., 1., 0.],\n",
       "        [0., 0., 1.]]),\n",
       " array([[0.56991457, 0.25307373, 0.9818633 ],\n",
       "        [0.58750902, 0.46801173, 0.58749147]]),\n",
       " array([[ 0.87624886,  0.47752716,  0.89168789],\n",
       "        [ 0.30758797,  0.33183644, -0.61367488],\n",
       "        [ 0.20826014, -0.82039799, -1.63802031]]),\n",
       " array([[44, 35, 99, 36],\n",
       "        [ 9, 59, 74, 68],\n",
       "        [98, 14, 87, 75]], dtype=int32))"
      ]
     },
     "execution_count": 2,
     "metadata": {},
     "output_type": "execute_result"
    }
   ],
   "source": [
    "# Creating arrays\n",
    "arr1 = np.array([1, 2, 3, 4, 5])\n",
    "arr2 = np.array([[1, 2, 3], [4, 5, 6]])\n",
    "zeros = np.zeros((3,3))\n",
    "ones = np.ones((2,4))\n",
    "arr_range = np.arange(0, 10, 2)\n",
    "arr_lin = np.linspace(0, 1, 5)\n",
    "identity = np.eye(3)\n",
    "rand_uniform = np.random.rand(2,3)\n",
    "rand_normal = np.random.randn(3,3)\n",
    "rand_int = np.random.randint(1, 100, (3,4))\n",
    "\n",
    "arr1, arr2, zeros, ones, arr_range, arr_lin, identity, rand_uniform, rand_normal, rand_int"
   ]
  },
  {
   "cell_type": "markdown",
   "id": "a87ac051",
   "metadata": {},
   "source": [
    "## 2) Array Properties (ndim, shape, size, dtype, itemsize)"
   ]
  },
  {
   "cell_type": "code",
   "execution_count": 3,
   "id": "14c98bf3",
   "metadata": {},
   "outputs": [
    {
     "name": "stdout",
     "output_type": "stream",
     "text": [
      "array:\n",
      " [[1 2 3]\n",
      " [4 5 6]]\n",
      "ndim: 2\n",
      "shape: (2, 3)\n",
      "size: 6\n",
      "dtype: int64\n",
      "itemsize (bytes): 8\n"
     ]
    }
   ],
   "source": [
    "a = np.array([[1,2,3],[4,5,6]])\n",
    "print('array:\\n', a)\n",
    "print('ndim:', a.ndim)\n",
    "print('shape:', a.shape)\n",
    "print('size:', a.size)\n",
    "print('dtype:', a.dtype)\n",
    "print('itemsize (bytes):', a.itemsize)"
   ]
  },
  {
   "cell_type": "markdown",
   "id": "ba177903",
   "metadata": {},
   "source": [
    "## 3) Indexing & Slicing\n",
    "\n",
    "1D and 2D examples."
   ]
  },
  {
   "cell_type": "code",
   "execution_count": 4,
   "id": "4071115d",
   "metadata": {},
   "outputs": [
    {
     "name": "stdout",
     "output_type": "stream",
     "text": [
      "arr[0] = 10\n",
      "arr[-1] = 50\n",
      "arr[1:4] = [20 30 40]\n",
      "arr[:3] = [10 20 30]\n",
      "arr[::2] = [10 30 50]\n",
      "\n",
      "arr2:\n",
      " [[1 2 3]\n",
      " [4 5 6]\n",
      " [7 8 9]]\n",
      "arr2[0,1] = 2\n",
      "arr2[1: , :2] =\n",
      " [[4 5]\n",
      " [7 8]]\n"
     ]
    }
   ],
   "source": [
    "arr = np.array([10,20,30,40,50])\n",
    "print('arr[0] =', arr[0])\n",
    "print('arr[-1] =', arr[-1])\n",
    "print('arr[1:4] =', arr[1:4])\n",
    "print('arr[:3] =', arr[:3])\n",
    "print('arr[::2] =', arr[::2])\n",
    "\n",
    "arr2 = np.array([[1,2,3],[4,5,6],[7,8,9]])\n",
    "print('\\narr2:\\n', arr2)\n",
    "print('arr2[0,1] =', arr2[0,1])\n",
    "print('arr2[1: , :2] =\\n', arr2[1: , :2])"
   ]
  },
  {
   "cell_type": "markdown",
   "id": "e4721e0c",
   "metadata": {},
   "source": [
    "## 4) Operations & Vectorization\n",
    "\n",
    "Element-wise arithmetic and vectorized math functions."
   ]
  },
  {
   "cell_type": "code",
   "execution_count": 5,
   "id": "f9d9348b",
   "metadata": {},
   "outputs": [
    {
     "name": "stdout",
     "output_type": "stream",
     "text": [
      "a + b = [5 7 9]\n",
      "a - b = [-3 -3 -3]\n",
      "a * b = [ 4 10 18]\n",
      "a / b = [0.25 0.4  0.5 ]\n",
      "a ** 2 = [1 4 9]\n",
      "\n",
      "np.sqrt(arr) = [1.         1.41421356 1.73205081 2.         2.23606798]\n",
      "np.exp(arr) = [  2.71828183   7.3890561   20.08553692  54.59815003 148.4131591 ]\n",
      "np.log(arr) = [0.         0.69314718 1.09861229 1.38629436 1.60943791]\n",
      "np.sin(arr) = [ 0.84147098  0.90929743  0.14112001 -0.7568025  -0.95892427]\n",
      "np.cos(arr) = [ 0.54030231 -0.41614684 -0.9899925  -0.65364362  0.28366219]\n",
      "\n",
      "max, min, sum, mean, median, std:\n",
      "5 1 15 3.0 3.0 1.4142135623730951\n"
     ]
    }
   ],
   "source": [
    "a = np.array([1,2,3])\n",
    "b = np.array([4,5,6])\n",
    "print('a + b =', a + b)\n",
    "print('a - b =', a - b)\n",
    "print('a * b =', a * b)\n",
    "print('a / b =', a / b)\n",
    "print('a ** 2 =', a ** 2)\n",
    "\n",
    "arr = np.array([1,2,3,4,5])\n",
    "print('\\nnp.sqrt(arr) =', np.sqrt(arr))\n",
    "print('np.exp(arr) =', np.exp(arr))\n",
    "print('np.log(arr) =', np.log(arr))\n",
    "print('np.sin(arr) =', np.sin(arr))\n",
    "print('np.cos(arr) =', np.cos(arr))\n",
    "print('\\nmax, min, sum, mean, median, std:')\n",
    "print(np.max(arr), np.min(arr), np.sum(arr), np.mean(arr), np.median(arr), np.std(arr))"
   ]
  },
  {
   "cell_type": "markdown",
   "id": "5fb67aee",
   "metadata": {},
   "source": [
    "### np.exp vs math.exp\n",
    "\n",
    "`np.exp` is vectorized (works on arrays). `math.exp` works on scalars only."
   ]
  },
  {
   "cell_type": "code",
   "execution_count": 6,
   "id": "f8523902",
   "metadata": {},
   "outputs": [
    {
     "name": "stdout",
     "output_type": "stream",
     "text": [
      "np.exp(arr) -> [  2.71828183   7.3890561   20.08553692  54.59815003 148.4131591 ]\n",
      "math.exp applied with list comprehension -> [2.718281828459045, 7.38905609893065, 20.085536923187668, 54.598150033144236, 148.4131591025766]\n",
      "\n",
      "Elapsed (np.exp 100 runs): 0.00019860267639160156\n",
      "Elapsed (math.exp in loop 100 runs): 0.0009248256683349609\n",
      "\n",
      "Note: np.exp is implemented in C and is much faster for array work.\n"
     ]
    }
   ],
   "source": [
    "import math\n",
    "arr = np.array([1,2,3,4,5])\n",
    "print('np.exp(arr) ->', np.exp(arr))\n",
    "# math.exp applied element-wise using a Python loop\n",
    "print('math.exp applied with list comprehension ->', [math.exp(x) for x in arr])\n",
    "\n",
    "# Quick performance demo (short runs to keep it light)\n",
    "import time\n",
    "vals = np.random.rand(100)\n",
    "# time vectorized np.exp on vals repeated 100 times\n",
    "t0 = time.time()\n",
    "for _ in range(100):\n",
    "    _ = np.exp(vals)\n",
    "t1 = time.time()\n",
    "# time math.exp in a Python loop\n",
    "vals_list = vals.tolist()\n",
    "t2 = time.time()\n",
    "for _ in range(100):\n",
    "    _ = [math.exp(x) for x in vals_list]\n",
    "t3 = time.time()\n",
    "print('\\nElapsed (np.exp 100 runs):', t1-t0)\n",
    "print('Elapsed (math.exp in loop 100 runs):', t3-t2)\n",
    "print('\\nNote: np.exp is implemented in C and is much faster for array work.')"
   ]
  },
  {
   "cell_type": "markdown",
   "id": "fc392b01",
   "metadata": {},
   "source": [
    "## 5) Reshaping & Flattening\n",
    "\n",
    "Use `reshape`, `flatten`, `ravel`, and transpose."
   ]
  },
  {
   "cell_type": "code",
   "execution_count": 7,
   "id": "09760aaf",
   "metadata": {},
   "outputs": [
    {
     "name": "stdout",
     "output_type": "stream",
     "text": [
      "arr = [ 0  1  2  3  4  5  6  7  8  9 10 11]\n",
      "reshaped 3x4:\n",
      " [[ 0  1  2  3]\n",
      " [ 4  5  6  7]\n",
      " [ 8  9 10 11]]\n",
      "flatten -> [ 0  1  2  3  4  5  6  7  8  9 10 11]\n",
      "ravel (view) -> [ 0  1  2  3  4  5  6  7  8  9 10 11]\n",
      "transpose ->\n",
      " [[ 0  4  8]\n",
      " [ 1  5  9]\n",
      " [ 2  6 10]\n",
      " [ 3  7 11]]\n"
     ]
    }
   ],
   "source": [
    "arr = np.arange(12)\n",
    "print('arr =', arr)\n",
    "reshaped = arr.reshape(3,4)\n",
    "print('reshaped 3x4:\\n', reshaped)\n",
    "print('flatten ->', reshaped.flatten())\n",
    "print('ravel (view) ->', reshaped.ravel())\n",
    "print('transpose ->\\n', reshaped.T)"
   ]
  },
  {
   "cell_type": "markdown",
   "id": "c853c7e7",
   "metadata": {},
   "source": [
    "## 6) Stacking & Splitting\n",
    "\n",
    "`hstack`, `vstack`, `concatenate`, `split`."
   ]
  },
  {
   "cell_type": "code",
   "execution_count": 8,
   "id": "4cc53d75",
   "metadata": {},
   "outputs": [
    {
     "name": "stdout",
     "output_type": "stream",
     "text": [
      "hstack:\n",
      " [[1 2 5 6]\n",
      " [3 4 7 8]]\n",
      "vstack:\n",
      " [[1 2]\n",
      " [3 4]\n",
      " [5 6]\n",
      " [7 8]]\n",
      "concatenate axis=0:\n",
      " [[1 2]\n",
      " [3 4]\n",
      " [5 6]\n",
      " [7 8]]\n",
      "\n",
      "split arr into 2 -> [array([0, 1, 2, 3, 4]), array([5, 6, 7, 8, 9])]\n"
     ]
    }
   ],
   "source": [
    "a = np.array([[1,2],[3,4]])\n",
    "b = np.array([[5,6],[7,8]])\n",
    "print('hstack:\\n', np.hstack((a,b)))\n",
    "print('vstack:\\n', np.vstack((a,b)))\n",
    "print('concatenate axis=0:\\n', np.concatenate((a,b), axis=0))\n",
    "\n",
    "arr = np.arange(10)\n",
    "print('\\nsplit arr into 2 ->', np.split(arr, 2))"
   ]
  },
  {
   "cell_type": "markdown",
   "id": "aa628580",
   "metadata": {},
   "source": [
    "## 7) Broadcasting\n",
    "\n",
    "Small arrays automatically expand to match larger arrays when compatible."
   ]
  },
  {
   "cell_type": "code",
   "execution_count": 9,
   "id": "d6b30d74",
   "metadata": {},
   "outputs": [
    {
     "name": "stdout",
     "output_type": "stream",
     "text": [
      "matrix + vec ->\n",
      " [[2. 3. 4.]\n",
      " [2. 3. 4.]\n",
      " [2. 3. 4.]]\n"
     ]
    }
   ],
   "source": [
    "matrix = np.ones((3,3))\n",
    "vec = np.array([1,2,3])\n",
    "print('matrix + vec ->\\n', matrix + vec)"
   ]
  },
  {
   "cell_type": "markdown",
   "id": "93b74e4f",
   "metadata": {},
   "source": [
    "## 8) Linear Algebra\n",
    "\n",
    "Matrix multiplication, inverse, determinant, eigenvalues."
   ]
  },
  {
   "cell_type": "code",
   "execution_count": 10,
   "id": "e2534451",
   "metadata": {},
   "outputs": [
    {
     "name": "stdout",
     "output_type": "stream",
     "text": [
      "A @ B =\n",
      " [[19 22]\n",
      " [43 50]]\n",
      "\n",
      "np.dot(A,B) =\n",
      " [[19 22]\n",
      " [43 50]]\n",
      "\n",
      "inv(A) =\n",
      " [[-2.   1. ]\n",
      " [ 1.5 -0.5]]\n",
      "det(A) = -2.0000000000000004\n",
      "eig(A) = EigResult(eigenvalues=array([-0.37228132,  5.37228132]), eigenvectors=array([[-0.82456484, -0.41597356],\n",
      "       [ 0.56576746, -0.90937671]]))\n"
     ]
    }
   ],
   "source": [
    "A = np.array([[1,2],[3,4]])\n",
    "B = np.array([[5,6],[7,8]])\n",
    "print('A @ B =\\n', A @ B)\n",
    "print('\\nnp.dot(A,B) =\\n', np.dot(A,B))\n",
    "print('\\ninv(A) =\\n', np.linalg.inv(A))\n",
    "print('det(A) =', np.linalg.det(A))\n",
    "print('eig(A) =', np.linalg.eig(A))"
   ]
  },
  {
   "cell_type": "markdown",
   "id": "5bc0fbc0",
   "metadata": {},
   "source": [
    "## 9) Random Numbers\n",
    "\n",
    "`np.random.rand`, `randn`, `randint`, `choice`, and seeding for reproducibility."
   ]
  },
  {
   "cell_type": "code",
   "execution_count": 11,
   "id": "9e7c4f2b",
   "metadata": {},
   "outputs": [
    {
     "name": "stdout",
     "output_type": "stream",
     "text": [
      "rand: [0.37454012 0.95071431 0.73199394]\n",
      "randn: [-1.11188012  0.31890218  0.27904129]\n",
      "randint 2x3: [[24  3 22]\n",
      " [53  2 88]]\n",
      "choice from [1,2,3,4,5]: [4 2 4]\n"
     ]
    }
   ],
   "source": [
    "np.random.seed(42)\n",
    "print('rand:', np.random.rand(3))\n",
    "print('randn:', np.random.randn(3))\n",
    "print('randint 2x3:', np.random.randint(1, 100, (2,3)))\n",
    "print('choice from [1,2,3,4,5]:', np.random.choice([1,2,3,4,5], size=3))"
   ]
  },
  {
   "cell_type": "markdown",
   "id": "606d69dc",
   "metadata": {},
   "source": [
    "## 10) Useful Programs / Practice\n",
    "\n",
    "Small tasks to practice NumPy."
   ]
  },
  {
   "cell_type": "code",
   "execution_count": 12,
   "id": "d6380a7c",
   "metadata": {},
   "outputs": [
    {
     "name": "stdout",
     "output_type": "stream",
     "text": [
      "evens -> [ 2  4  6  8 10 12 14 16 18 20]\n",
      "\n",
      "replaced odds -> [ 0 -1  2 -1  4 -1  6 -1  8 -1]\n",
      "\n",
      "sorted -> [1 2 3 5 8]\n",
      "\n",
      "unique -> [1 2 3 4 5]\n",
      "\n",
      "A @ B ->\n",
      " [[ 4  4]\n",
      " [10  8]]\n",
      "\n",
      "max, argmax -> 40 3\n",
      "\n",
      "column vector ->\n",
      " [[0]\n",
      " [1]\n",
      " [2]\n",
      " [3]\n",
      " [4]\n",
      " [5]]\n",
      "\n",
      "col sums: [5 7 9]\n",
      "row sums: [ 6 15]\n",
      "\n",
      "identity 5:\n",
      " [[1. 0. 0. 0. 0.]\n",
      " [0. 1. 0. 0. 0.]\n",
      " [0. 0. 1. 0. 0.]\n",
      " [0. 0. 0. 1. 0.]\n",
      " [0. 0. 0. 0. 1.]]\n",
      "\n",
      "arr_large nbytes: 8000\n"
     ]
    }
   ],
   "source": [
    "# 1. Find even numbers\n",
    "arr = np.arange(1,21)\n",
    "evens = arr[arr % 2 == 0]\n",
    "print('evens ->', evens)\n",
    "\n",
    "# 2. Replace odd numbers with -1\n",
    "arr2 = np.arange(10)\n",
    "arr2[arr2 % 2 == 1] = -1\n",
    "print('\\nreplaced odds ->', arr2)\n",
    "\n",
    "# 3. Sort array\n",
    "arr3 = np.array([5,3,8,1,2])\n",
    "print('\\nsorted ->', np.sort(arr3))\n",
    "\n",
    "# 4. Unique elements\n",
    "arr4 = np.array([1,2,2,3,4,4,5])\n",
    "print('\\nunique ->', np.unique(arr4))\n",
    "\n",
    "# 5. Matrix multiplication\n",
    "A = np.array([[1,2],[3,4]])\n",
    "B = np.array([[2,0],[1,2]])\n",
    "print('\\nA @ B ->\\n', A @ B)\n",
    "\n",
    "# 6. Find max and index\n",
    "arr5 = np.array([10,20,5,40,30])\n",
    "print('\\nmax, argmax ->', np.max(arr5), np.argmax(arr5))\n",
    "\n",
    "# 7. Convert 1D to 2D column\n",
    "arr6 = np.arange(6)\n",
    "print('\\ncolumn vector ->\\n', arr6.reshape(-1,1))\n",
    "\n",
    "# 8. Sum along rows & columns\n",
    "mat = np.array([[1,2,3],[4,5,6]])\n",
    "print('\\ncol sums:', np.sum(mat, axis=0))\n",
    "print('row sums:', np.sum(mat, axis=1))\n",
    "\n",
    "# 9. Identity\n",
    "print('\\nidentity 5:\\n', np.eye(5))\n",
    "\n",
    "# 10. Memory usage\n",
    "arr_large = np.arange(1000)\n",
    "print('\\narr_large nbytes:', arr_large.nbytes)"
   ]
  },
  {
   "cell_type": "markdown",
   "id": "ce7ad4af",
   "metadata": {},
   "source": [
    "### Bonus: Convert an existing 1D random integer array into 2D shapes\n",
    "\n",
    "You can reshape only when total elements match the target shape. Examples below:"
   ]
  },
  {
   "cell_type": "code",
   "execution_count": 13,
   "id": "56c2737b",
   "metadata": {},
   "outputs": [
    {
     "name": "stdout",
     "output_type": "stream",
     "text": [
      "1D arr10: [21 33 76 58 22]\n",
      "\n",
      "row (1,5):\n",
      " [[21 33 76 58 22]]\n",
      "\n",
      "column (5,1):\n",
      " [[21]\n",
      " [33]\n",
      " [76]\n",
      " [58]\n",
      " [22]]\n",
      "\n",
      "arr6 (6 elems): [89 49 91 59 42 92]\n",
      "reshaped to (2,3):\n",
      " [[89 49 91]\n",
      " [59 42 92]]\n"
     ]
    }
   ],
   "source": [
    "arr10 = np.random.randint(1, 100, 5)\n",
    "print('1D arr10:', arr10)\n",
    "\n",
    "# row (1 x 5)\n",
    "row = arr10.reshape(1,5)\n",
    "print('\\nrow (1,5):\\n', row)\n",
    "\n",
    "# column (5 x 1)\n",
    "col = arr10.reshape(5,1)\n",
    "print('\\ncolumn (5,1):\\n', col)\n",
    "\n",
    "# if you want a different shape, total elements must match the target shape\n",
    "# e.g., to reshape to (2,3) you must have 6 elements\n",
    "arr6 = np.random.randint(1,100,6)\n",
    "print('\\narr6 (6 elems):', arr6)\n",
    "print('reshaped to (2,3):\\n', arr6.reshape(2,3))"
   ]
  }
 ],
 "metadata": {
  "kernelspec": {
   "display_name": "Python 3 (ipykernel)",
   "language": "python",
   "name": "python3"
  },
  "language_info": {
   "codemirror_mode": {
    "name": "ipython",
    "version": 3
   },
   "file_extension": ".py",
   "mimetype": "text/x-python",
   "name": "python",
   "nbconvert_exporter": "python",
   "pygments_lexer": "ipython3",
   "version": "3.13.0"
  }
 },
 "nbformat": 4,
 "nbformat_minor": 5
}
