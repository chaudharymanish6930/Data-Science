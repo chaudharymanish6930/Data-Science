{
 "cells": [
  {
   "cell_type": "markdown",
   "id": "4f9e85e6-7b3c-4e4c-98bf-cda93307cc9a",
   "metadata": {},
   "source": [
    "# Random Module"
   ]
  },
  {
   "cell_type": "code",
   "execution_count": 1,
   "id": "e482bf9c-c6ac-472e-a56c-c6a310b20c68",
   "metadata": {},
   "outputs": [],
   "source": [
    "import numpy as np"
   ]
  },
  {
   "cell_type": "code",
   "execution_count": 2,
   "id": "99701347-a91e-4278-a371-62d376287722",
   "metadata": {},
   "outputs": [
    {
     "name": "stdout",
     "output_type": "stream",
     "text": [
      "[0.50046721 0.03763459 0.02828469]\n"
     ]
    }
   ],
   "source": [
    "print(np.random.rand(3))"
   ]
  },
  {
   "cell_type": "code",
   "execution_count": 4,
   "id": "ba3d3ece-fe06-4a5a-bb1b-6f91072f5971",
   "metadata": {},
   "outputs": [
    {
     "name": "stdout",
     "output_type": "stream",
     "text": [
      "9\n"
     ]
    }
   ],
   "source": [
    "print(np.random.randint(1,10))"
   ]
  },
  {
   "cell_type": "code",
   "execution_count": 6,
   "id": "bcffc774-256a-4ec1-91e8-fd8d2a0e6e19",
   "metadata": {},
   "outputs": [
    {
     "name": "stdout",
     "output_type": "stream",
     "text": [
      "1\n"
     ]
    }
   ],
   "source": [
    "print(np.random.choice([1,2,3,4,5]))"
   ]
  },
  {
   "cell_type": "code",
   "execution_count": 8,
   "id": "8350ddcf-0d3b-43fd-ba0c-502e59da254c",
   "metadata": {},
   "outputs": [],
   "source": [
    "dt = np.random.seed(42)  "
   ]
  },
  {
   "cell_type": "code",
   "execution_count": 9,
   "id": "95b7f65a-cb9e-42e0-b8db-85e6c0635b91",
   "metadata": {},
   "outputs": [],
   "source": [
    "dt"
   ]
  }
 ],
 "metadata": {
  "kernelspec": {
   "display_name": "Python 3 (ipykernel)",
   "language": "python",
   "name": "python3"
  },
  "language_info": {
   "codemirror_mode": {
    "name": "ipython",
    "version": 3
   },
   "file_extension": ".py",
   "mimetype": "text/x-python",
   "name": "python",
   "nbconvert_exporter": "python",
   "pygments_lexer": "ipython3",
   "version": "3.13.0"
  }
 },
 "nbformat": 4,
 "nbformat_minor": 5
}
