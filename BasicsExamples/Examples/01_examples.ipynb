{
 "cells": [
  {
   "cell_type": "code",
   "execution_count": 4,
   "id": "129640a2-f820-4b47-9754-008897ffa856",
   "metadata": {
    "scrolled": true
   },
   "outputs": [
    {
     "data": {
      "text/plain": [
       "123456"
      ]
     },
     "execution_count": 4,
     "metadata": {},
     "output_type": "execute_result"
    }
   ],
   "source": [
    "123456"
   ]
  },
  {
   "cell_type": "markdown",
   "id": "07fabcc4-9af5-424e-a234-f67c2d42d277",
   "metadata": {},
   "source": [
    "# Title"
   ]
  },
  {
   "cell_type": "markdown",
   "id": "65dafe35-de46-47ac-9b8f-33ff70fbafc1",
   "metadata": {},
   "source": [
    "23723"
   ]
  },
  {
   "cell_type": "markdown",
   "id": "5b5d3b6c-55ad-4324-81da-d23f6d7e0e3a",
   "metadata": {},
   "source": [
    "## Subtitle"
   ]
  },
  {
   "cell_type": "markdown",
   "id": "2ef81f10-f3d6-48ed-a7a3-a0947737259a",
   "metadata": {},
   "source": [
    "Hello"
   ]
  },
  {
   "cell_type": "code",
   "execution_count": 8,
   "id": "209d2e11-eee9-4d4f-a84d-af10395bcfdf",
   "metadata": {},
   "outputs": [
    {
     "data": {
      "text/plain": [
       "'hello World'"
      ]
     },
     "execution_count": 8,
     "metadata": {},
     "output_type": "execute_result"
    }
   ],
   "source": [
    "\"hello World\""
   ]
  },
  {
   "cell_type": "markdown",
   "id": "38efc76f-4fcf-4d84-b8e0-c3e8e81adc7a",
   "metadata": {},
   "source": [
    "### title"
   ]
  }
 ],
 "metadata": {
  "kernelspec": {
   "display_name": "Python [conda env:base] *",
   "language": "python",
   "name": "conda-base-py"
  },
  "language_info": {
   "codemirror_mode": {
    "name": "ipython",
    "version": 3
   },
   "file_extension": ".py",
   "mimetype": "text/x-python",
   "name": "python",
   "nbconvert_exporter": "python",
   "pygments_lexer": "ipython3",
   "version": "3.13.5"
  }
 },
 "nbformat": 4,
 "nbformat_minor": 5
}
