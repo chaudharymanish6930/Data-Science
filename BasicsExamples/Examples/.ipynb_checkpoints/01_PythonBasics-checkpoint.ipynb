{
 "cells": [
  {
   "cell_type": "markdown",
   "id": "d57b411b-9f31-4bce-a109-44be8e51df27",
   "metadata": {},
   "source": [
    "# 1 Hello World"
   ]
  },
  {
   "cell_type": "code",
   "execution_count": 1,
   "id": "3be5d9e3-f820-4563-bb8e-d06a4c90c8a2",
   "metadata": {},
   "outputs": [
    {
     "name": "stdout",
     "output_type": "stream",
     "text": [
      "hello world\n"
     ]
    }
   ],
   "source": [
    "print(\"hello world\")"
   ]
  },
  {
   "cell_type": "code",
   "execution_count": 2,
   "id": "641872cd-c5f8-4168-9577-490c530e91ca",
   "metadata": {},
   "outputs": [
    {
     "data": {
      "text/plain": [
       "'Hello world'"
      ]
     },
     "execution_count": 2,
     "metadata": {},
     "output_type": "execute_result"
    }
   ],
   "source": [
    "\"Hello world\""
   ]
  },
  {
   "cell_type": "code",
   "execution_count": 3,
   "id": "a979a399-600d-4ec2-8516-dfdba53dec2a",
   "metadata": {},
   "outputs": [
    {
     "name": "stdout",
     "output_type": "stream",
     "text": [
      "Manish Choudhary\n"
     ]
    }
   ],
   "source": [
    "print(\"Manish Choudhary\")"
   ]
  },
  {
   "cell_type": "markdown",
   "id": "0ad1c730-f560-4f8c-9018-cf557fb11b57",
   "metadata": {},
   "source": [
    "# 2 Data Type"
   ]
  },
  {
   "cell_type": "code",
   "execution_count": 4,
   "id": "8788ad0c-2f01-41c2-b355-de680ec28144",
   "metadata": {},
   "outputs": [
    {
     "data": {
      "text/plain": [
       "bool"
      ]
     },
     "execution_count": 4,
     "metadata": {},
     "output_type": "execute_result"
    }
   ],
   "source": [
    "type(True)"
   ]
  },
  {
   "cell_type": "code",
   "execution_count": 5,
   "id": "65addbb0-b231-4064-81ed-2b8f0193144d",
   "metadata": {},
   "outputs": [
    {
     "data": {
      "text/plain": [
       "str"
      ]
     },
     "execution_count": 5,
     "metadata": {},
     "output_type": "execute_result"
    }
   ],
   "source": [
    "type(\"hello\")"
   ]
  },
  {
   "cell_type": "code",
   "execution_count": 6,
   "id": "d19f11e3-380f-424e-bb1a-dced194ad6d5",
   "metadata": {},
   "outputs": [
    {
     "data": {
      "text/plain": [
       "float"
      ]
     },
     "execution_count": 6,
     "metadata": {},
     "output_type": "execute_result"
    }
   ],
   "source": [
    "type(2.4)"
   ]
  },
  {
   "cell_type": "code",
   "execution_count": 7,
   "id": "d43e7ee0-200c-44e1-b264-23b596b9e5ec",
   "metadata": {},
   "outputs": [
    {
     "data": {
      "text/plain": [
       "'HELLO WORLD'"
      ]
     },
     "execution_count": 7,
     "metadata": {},
     "output_type": "execute_result"
    }
   ],
   "source": [
    "\"hello world\".upper()"
   ]
  },
  {
   "cell_type": "code",
   "execution_count": 8,
   "id": "fda24b95-4bdf-4ce1-a7b8-aa883cb7e3cf",
   "metadata": {},
   "outputs": [
    {
     "data": {
      "text/plain": [
       "'hello world'"
      ]
     },
     "execution_count": 8,
     "metadata": {},
     "output_type": "execute_result"
    }
   ],
   "source": [
    "\"HELLO world\".lower()"
   ]
  },
  {
   "cell_type": "code",
   "execution_count": 9,
   "id": "bfcc68ab-3e94-45c6-be39-c95f32beadb2",
   "metadata": {},
   "outputs": [
    {
     "name": "stdout",
     "output_type": "stream",
     "text": [
      "HELLO WORLD\n"
     ]
    }
   ],
   "source": [
    "print(\"hello world\".upper())"
   ]
  },
  {
   "cell_type": "code",
   "execution_count": 10,
   "id": "ecc53048-6623-41be-836e-7599216e598c",
   "metadata": {},
   "outputs": [
    {
     "name": "stdout",
     "output_type": "stream",
     "text": [
      "Hello World\n"
     ]
    }
   ],
   "source": [
    "print(\"hello world\".title())"
   ]
  },
  {
   "cell_type": "code",
   "execution_count": 11,
   "id": "42662160-d688-423f-8f8e-c52dfd8baf49",
   "metadata": {},
   "outputs": [
    {
     "data": {
      "text/plain": [
       "3"
      ]
     },
     "execution_count": 11,
     "metadata": {},
     "output_type": "execute_result"
    }
   ],
   "source": [
    "\"hello world\".count('l')"
   ]
  },
  {
   "cell_type": "code",
   "execution_count": 12,
   "id": "ceaaed7a-33dd-46db-aac8-b9ba0b422244",
   "metadata": {},
   "outputs": [
    {
     "data": {
      "text/plain": [
       "'heppo worpd'"
      ]
     },
     "execution_count": 12,
     "metadata": {},
     "output_type": "execute_result"
    }
   ],
   "source": [
    "\"hello world\".replace('l','p')"
   ]
  },
  {
   "cell_type": "markdown",
   "id": "4ffa3634-34a0-46f8-aebc-2f5fd0f46280",
   "metadata": {},
   "source": [
    "# 3 Varible"
   ]
  },
  {
   "cell_type": "code",
   "execution_count": 13,
   "id": "bcb38075-4db7-4d8f-9659-2c3352f39c33",
   "metadata": {},
   "outputs": [],
   "source": [
    "message_1=\"i am learning pyhton\""
   ]
  },
  {
   "cell_type": "code",
   "execution_count": 14,
   "id": "76426bde-7a83-4a6e-a6f7-f37c3ed8a4d7",
   "metadata": {},
   "outputs": [
    {
     "data": {
      "text/plain": [
       "'i am learning pyhton'"
      ]
     },
     "execution_count": 14,
     "metadata": {},
     "output_type": "execute_result"
    }
   ],
   "source": [
    "message_1"
   ]
  },
  {
   "cell_type": "code",
   "execution_count": 15,
   "id": "0bd1c1ec-83cd-4f3f-92f3-a8bdb33a4438",
   "metadata": {},
   "outputs": [],
   "source": [
    "message_2=\"it is a fun\""
   ]
  },
  {
   "cell_type": "code",
   "execution_count": 16,
   "id": "a7a28891-0289-4dd1-8508-e71af9db7c43",
   "metadata": {},
   "outputs": [
    {
     "data": {
      "text/plain": [
       "'it is a fun'"
      ]
     },
     "execution_count": 16,
     "metadata": {},
     "output_type": "execute_result"
    }
   ],
   "source": [
    "message_2"
   ]
  },
  {
   "cell_type": "code",
   "execution_count": 17,
   "id": "e7db5b61-5eef-426a-b9a7-8eb787df7d82",
   "metadata": {},
   "outputs": [],
   "source": [
    "message_3=\"hello\""
   ]
  },
  {
   "cell_type": "code",
   "execution_count": 18,
   "id": "5ae7c258-4dbb-44d7-b777-eda396b906a3",
   "metadata": {},
   "outputs": [
    {
     "data": {
      "text/plain": [
       "'hello'"
      ]
     },
     "execution_count": 18,
     "metadata": {},
     "output_type": "execute_result"
    }
   ],
   "source": [
    "message_3"
   ]
  },
  {
   "cell_type": "markdown",
   "id": "c51390b6-1bff-4b8a-a327-f824f2ff9ccc",
   "metadata": {},
   "source": [
    "\n",
    "message =message_1 +\" \"+ message_2"
   ]
  },
  {
   "cell_type": "code",
   "execution_count": 19,
   "id": "909bf8a0-d60f-49a0-a8a7-09ab7b0c4dce",
   "metadata": {},
   "outputs": [
    {
     "ename": "NameError",
     "evalue": "name 'message' is not defined",
     "output_type": "error",
     "traceback": [
      "\u001b[1;31m---------------------------------------------------------------------------\u001b[0m",
      "\u001b[1;31mNameError\u001b[0m                                 Traceback (most recent call last)",
      "Cell \u001b[1;32mIn[19], line 1\u001b[0m\n\u001b[1;32m----> 1\u001b[0m message\n",
      "\u001b[1;31mNameError\u001b[0m: name 'message' is not defined"
     ]
    }
   ],
   "source": [
    "message"
   ]
  },
  {
   "cell_type": "code",
   "execution_count": null,
   "id": "a38b5e8d-c712-4f0a-9123-f0dec109df60",
   "metadata": {},
   "outputs": [],
   "source": [
    "f'Hello World'"
   ]
  },
  {
   "cell_type": "code",
   "execution_count": null,
   "id": "072de52c-f5c4-4fe2-9dfe-08b140e8ccbd",
   "metadata": {},
   "outputs": [],
   "source": [
    "f'{message_1} {message_2}'"
   ]
  },
  {
   "cell_type": "code",
   "execution_count": null,
   "id": "b81dcea8-5e95-49f6-bdd2-180313bf8c69",
   "metadata": {},
   "outputs": [],
   "source": [
    "f'{message_1} and {message_2}'"
   ]
  },
  {
   "cell_type": "code",
   "execution_count": 20,
   "id": "f9d832eb-324c-49e3-ade6-a435f7aa11cd",
   "metadata": {},
   "outputs": [],
   "source": [
    "l=[22,22,52,53,134,67]"
   ]
  },
  {
   "cell_type": "code",
   "execution_count": 21,
   "id": "4ed39259-e535-44c5-887d-8fe480dfc27f",
   "metadata": {},
   "outputs": [
    {
     "data": {
      "text/plain": [
       "[22, 22, 52, 53, 134, 67]"
      ]
     },
     "execution_count": 21,
     "metadata": {},
     "output_type": "execute_result"
    }
   ],
   "source": [
    "l"
   ]
  },
  {
   "cell_type": "code",
   "execution_count": 22,
   "id": "9dd1b78b-10a7-4642-983a-9b4570cb67d9",
   "metadata": {},
   "outputs": [],
   "source": [
    "li=[\"anil\",\"anmol\",\"aditya\",\"abhi\",\"alka\"]\n",
    "li.insert(2,\"anuj\")"
   ]
  },
  {
   "cell_type": "code",
   "execution_count": 23,
   "id": "3d2ff82d-1d68-4e16-ba7e-78957efc990b",
   "metadata": {},
   "outputs": [
    {
     "data": {
      "text/plain": [
       "['anil', 'anmol', 'anuj', 'aditya', 'abhi', 'alka']"
      ]
     },
     "execution_count": 23,
     "metadata": {},
     "output_type": "execute_result"
    }
   ],
   "source": [
    "li"
   ]
  },
  {
   "cell_type": "markdown",
   "id": "5a8d46c8-74a6-4a38-abbc-82c8ab94330e",
   "metadata": {},
   "source": [
    "# 5 list"
   ]
  },
  {
   "cell_type": "markdown",
   "id": "7fae21f4-0b18-4818-9510-596caf0309b4",
   "metadata": {},
   "source": [
    "# list slicing"
   ]
  },
  {
   "cell_type": "code",
   "execution_count": 24,
   "id": "8f444bfb-1760-4dcc-be63-fc0b74b28120",
   "metadata": {},
   "outputs": [
    {
     "name": "stdout",
     "output_type": "stream",
     "text": [
      "[22, 33]\n",
      "[6, (2+6j), 56.8, 33]\n"
     ]
    }
   ],
   "source": [
    "list=[\"amit\",\"rohit\",22,33,56.8,2+6j,2+4]\n",
    "print(list[2:4])\n",
    "print(list[-1:-5:-1])"
   ]
  },
  {
   "cell_type": "code",
   "execution_count": 25,
   "id": "df18d2dd-75b3-4ad3-8083-a1f400ee0e87",
   "metadata": {},
   "outputs": [
    {
     "name": "stdout",
     "output_type": "stream",
     "text": [
      "['orange', 56, 0.5]\n",
      "['orange', 56, 0.5]\n",
      "[]\n",
      "banana\n",
      "0.5\n",
      "[56, 0.5]\n",
      "[]\n"
     ]
    }
   ],
   "source": [
    "ma=[\"orange\",56,0.5,\"apple\",\"banana\"]\n",
    "\n",
    "#list value(start:stop:step)\n",
    "\n",
    "#1st\n",
    "print(ma[0:3]) \n",
    "print(ma[:3])\n",
    "\n",
    "#2nd empty\n",
    "print(ma[0:0])\n",
    "\n",
    "#3rd single element\n",
    "print(ma[4])\n",
    "print(ma[2])\n",
    "\n",
    "#3rd\n",
    "print(ma[-4:3])\n",
    "\n",
    "#4th\n",
    "print(ma[-2:0])"
   ]
  },
  {
   "cell_type": "markdown",
   "id": "223fc23b-9782-4981-8334-5805bbc62f29",
   "metadata": {},
   "source": [
    "# Sort list"
   ]
  },
  {
   "cell_type": "code",
   "execution_count": 26,
   "id": "bee93618-5c9f-4e1f-a11d-3cf58e3864b6",
   "metadata": {},
   "outputs": [
    {
     "data": {
      "text/plain": [
       "[12, 13, 35, 43, 52, 67]"
      ]
     },
     "execution_count": 26,
     "metadata": {},
     "output_type": "execute_result"
    }
   ],
   "source": [
    "list = [12,43,67,13,52,35]\n",
    "list.sort()\n",
    "list"
   ]
  },
  {
   "cell_type": "markdown",
   "id": "c1691116-2f14-4dad-b51c-4b35d1c8342f",
   "metadata": {},
   "source": [
    "# Reverse sorting"
   ]
  },
  {
   "cell_type": "code",
   "execution_count": 27,
   "id": "a1444a46-1b92-4445-8f44-59ddc01ac63d",
   "metadata": {},
   "outputs": [
    {
     "data": {
      "text/plain": [
       "[67, 52, 43, 35, 13, 12]"
      ]
     },
     "execution_count": 27,
     "metadata": {},
     "output_type": "execute_result"
    }
   ],
   "source": [
    "list = [12,43,67,13,52,35]\n",
    "list.sort(reverse=True)\n",
    "list"
   ]
  },
  {
   "cell_type": "code",
   "execution_count": 28,
   "id": "10a0c2b8-242b-4b4e-b8b9-1dfa4361ef20",
   "metadata": {},
   "outputs": [
    {
     "name": "stdout",
     "output_type": "stream",
     "text": [
      "Index: 0, Value: apple\n",
      "Index: 1, Value: banana\n",
      "Index: 2, Value: cherry\n",
      "Index: 3, Value: date\n"
     ]
    }
   ],
   "source": [
    "my_list = ['apple', 'banana', 'cherry', 'date']\n",
    "\n",
    "for index, value in enumerate(my_list):\n",
    "    print(f\"Index: {index}, Value: {value}\")"
   ]
  },
  {
   "cell_type": "code",
   "execution_count": 29,
   "id": "bf47d931-234a-463b-8f45-1b8c905dcbf5",
   "metadata": {},
   "outputs": [
    {
     "name": "stdout",
     "output_type": "stream",
     "text": [
      "Key: name, Value: Alice\n",
      "Key: age, Value: 25\n",
      "Key: city, Value: New York\n"
     ]
    }
   ],
   "source": [
    "# Create a sample dictionary\n",
    "my_dict = {\n",
    "    'name': 'Alice',\n",
    "    'age': 25,\n",
    "    'city': 'New York'\n",
    "}\n",
    "\n",
    "# Print keys and values using a for loop\n",
    "for key, value in my_dict.items():\n",
    "    print(f\"Key: {key}, Value: {value}\")"
   ]
  },
  {
   "cell_type": "code",
   "execution_count": 1,
   "id": "0d9c66c9-9fc8-461e-ac4a-0c7535f18278",
   "metadata": {},
   "outputs": [
    {
     "name": "stdout",
     "output_type": "stream",
     "text": [
      "abs(-5): 5\n",
      "all([True, True, False]): False\n",
      "any([False, False, True]): True\n",
      "bin(10): 0b1010\n",
      "bool(0): False\n",
      "chr(65): A\n",
      "divmod(9, 2): (4, 1)\n",
      "enumerate: 0 -> a\n",
      "enumerate: 1 -> b\n",
      "enumerate: 2 -> c\n",
      "filter(is_even, [1,2,3,4]): [2, 4]\n",
      "float('3.14'): 3.14\n",
      "int('7'): 7\n",
      "len('hello'): 5\n",
      "list('abc'): ['a', 'b', 'c']\n",
      "map(str.upper, ['a','b']): ['A', 'B']\n",
      "max([1, 2, 3]): 3\n",
      "min([1, 2, 3]): 1\n",
      "pow(2, 3): 8\n",
      "list(range(3)): [0, 1, 2]\n",
      "list(reversed([1,2,3])): [3, 2, 1]\n",
      "round(3.14159, 2): 3.14\n",
      "sorted([3,1,2]): [1, 2, 3]\n",
      "str(123): 123\n",
      "sum([1,2,3]): 6\n",
      "type(123): <class 'int'>\n",
      "list(zip([1,2],[3,4])): [(1, 3), (2, 4)]\n"
     ]
    }
   ],
   "source": [
    "# Demonstration of various built-in functions in Python\n",
    "\n",
    "# abs()\n",
    "print(\"abs(-5):\", abs(-5))\n",
    "\n",
    "# all()\n",
    "print(\"all([True, True, False]):\", all([True, True, False]))\n",
    "\n",
    "# any()\n",
    "print(\"any([False, False, True]):\", any([False, False, True]))\n",
    "\n",
    "# bin()\n",
    "print(\"bin(10):\", bin(10))\n",
    "\n",
    "# bool()\n",
    "print(\"bool(0):\", bool(0))\n",
    "\n",
    "# chr()\n",
    "print(\"chr(65):\", chr(65))\n",
    "\n",
    "# divmod()\n",
    "print(\"divmod(9, 2):\", divmod(9, 2))\n",
    "\n",
    "# enumerate()\n",
    "for idx, val in enumerate(['a', 'b', 'c']):\n",
    "    print(f\"enumerate: {idx} -> {val}\")\n",
    "\n",
    "# filter()\n",
    "def is_even(n):\n",
    "    return n % 2 == 0\n",
    "print(\"filter(is_even, [1,2,3,4]):\", list(filter(is_even, [1,2,3,4])))\n",
    "\n",
    "# float()\n",
    "print(\"float('3.14'):\", float('3.14'))\n",
    "\n",
    "# int()\n",
    "print(\"int('7'):\", int('7'))\n",
    "\n",
    "# len()\n",
    "print(\"len('hello'):\", len('hello'))\n",
    "\n",
    "# list()\n",
    "print(\"list('abc'):\", list('abc'))\n",
    "\n",
    "# map()\n",
    "print(\"map(str.upper, ['a','b']):\", list(map(str.upper, ['a','b'])))\n",
    "\n",
    "# max()\n",
    "print(\"max([1, 2, 3]):\", max([1, 2, 3]))\n",
    "\n",
    "# min()\n",
    "print(\"min([1, 2, 3]):\", min([1, 2, 3]))\n",
    "\n",
    "# pow()\n",
    "print(\"pow(2, 3):\", pow(2, 3))\n",
    "\n",
    "# range()\n",
    "print(\"list(range(3)):\", list(range(3)))\n",
    "\n",
    "# reversed()\n",
    "print(\"list(reversed([1,2,3])):\", list(reversed([1,2,3])))\n",
    "\n",
    "# round()\n",
    "print(\"round(3.14159, 2):\", round(3.14159, 2))\n",
    "\n",
    "# sorted()\n",
    "print(\"sorted([3,1,2]):\", sorted([3,1,2]))\n",
    "\n",
    "# str()\n",
    "print(\"str(123):\", str(123))\n",
    "\n",
    "# sum()\n",
    "print(\"sum([1,2,3]):\", sum([1,2,3]))\n",
    "\n",
    "# type()\n",
    "print(\"type(123):\", type(123))\n",
    "\n",
    "# zip()\n",
    "print(\"list(zip([1,2],[3,4])):\", list(zip([1,2],[3,4])))"
   ]
  },
  {
   "cell_type": "code",
   "execution_count": null,
   "id": "e1e967be-cb4c-4ebe-a721-ae5f6eb281fb",
   "metadata": {},
   "outputs": [],
   "source": []
  }
 ],
 "metadata": {
  "kernelspec": {
   "display_name": "Python [conda env:base] *",
   "language": "python",
   "name": "conda-base-py"
  },
  "language_info": {
   "codemirror_mode": {
    "name": "ipython",
    "version": 3
   },
   "file_extension": ".py",
   "mimetype": "text/x-python",
   "name": "python",
   "nbconvert_exporter": "python",
   "pygments_lexer": "ipython3",
   "version": "3.13.5"
  }
 },
 "nbformat": 4,
 "nbformat_minor": 5
}
