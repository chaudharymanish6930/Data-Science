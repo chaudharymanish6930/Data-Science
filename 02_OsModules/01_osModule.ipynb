{
 "cells": [
  {
   "cell_type": "markdown",
   "id": "d07eca09-3aa6-4086-bdb5-2c0a21dea1a9",
   "metadata": {},
   "source": [
    "# Module"
   ]
  },
  {
   "cell_type": "code",
   "execution_count": 1,
   "id": "9702276c-b97a-4f3e-bcc5-9501fc732de0",
   "metadata": {},
   "outputs": [],
   "source": [
    "import os"
   ]
  },
  {
   "cell_type": "code",
   "execution_count": 2,
   "id": "31d5bf1a-6f67-458a-ba44-24bb0146b669",
   "metadata": {},
   "outputs": [
    {
     "data": {
      "text/plain": [
       "'C:\\\\Users\\\\mecha\\\\Data Science\\\\02_OsModules'"
      ]
     },
     "execution_count": 2,
     "metadata": {},
     "output_type": "execute_result"
    }
   ],
   "source": [
    "os.getcwd()"
   ]
  },
  {
   "cell_type": "code",
   "execution_count": 3,
   "id": "e4965592-231f-4ef3-8987-043b8295083a",
   "metadata": {},
   "outputs": [
    {
     "data": {
      "text/plain": [
       "['.ipynb_checkpoints',\n",
       " '01_osModule.ipynb',\n",
       " '02_MakeFile.ipynb',\n",
       " '03_RenameFiles.ipynb',\n",
       " '04_SearchFiles.ipynb',\n",
       " '05_osSystem.ipynb',\n",
       " '06_GetAndChange.ipynb',\n",
       " 'data Files',\n",
       " 'New folder']"
      ]
     },
     "execution_count": 3,
     "metadata": {},
     "output_type": "execute_result"
    }
   ],
   "source": [
    "os.listdir()"
   ]
  },
  {
   "cell_type": "code",
   "execution_count": 5,
   "id": "9f29bda8-d6e5-4fd9-b1c5-779e4d084fe5",
   "metadata": {},
   "outputs": [],
   "source": [
    "os.makedirs(\"New folder1\")"
   ]
  },
  {
   "cell_type": "code",
   "execution_count": 6,
   "id": "9d59aa17-a5eb-4e56-ba0c-f93e497869ca",
   "metadata": {},
   "outputs": [
    {
     "data": {
      "text/plain": [
       "['.ipynb_checkpoints',\n",
       " '01_osModule.ipynb',\n",
       " '02_MakeFile.ipynb',\n",
       " '03_RenameFiles.ipynb',\n",
       " '04_SearchFiles.ipynb',\n",
       " '05_osSystem.ipynb',\n",
       " '06_GetAndChange.ipynb',\n",
       " 'data Files',\n",
       " 'New folder',\n",
       " 'New folder1']"
      ]
     },
     "execution_count": 6,
     "metadata": {},
     "output_type": "execute_result"
    }
   ],
   "source": [
    "os.listdir()"
   ]
  }
 ],
 "metadata": {
  "kernelspec": {
   "display_name": "Python 3 (ipykernel)",
   "language": "python",
   "name": "python3"
  },
  "language_info": {
   "codemirror_mode": {
    "name": "ipython",
    "version": 3
   },
   "file_extension": ".py",
   "mimetype": "text/x-python",
   "name": "python",
   "nbconvert_exporter": "python",
   "pygments_lexer": "ipython3",
   "version": "3.13.0"
  }
 },
 "nbformat": 4,
 "nbformat_minor": 5
}
