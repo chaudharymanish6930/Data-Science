{
 "cells": [
  {
   "cell_type": "code",
   "execution_count": 1,
   "id": "ef831aa4-b189-4d90-98ef-cddef38c995e",
   "metadata": {},
   "outputs": [],
   "source": [
    "import pandas as pd"
   ]
  },
  {
   "cell_type": "markdown",
   "id": "61adf13a-9f46-41dd-9237-1417089bdc60",
   "metadata": {},
   "source": [
    "# 5. DataFrame by using the Csv file"
   ]
  },
  {
   "cell_type": "code",
   "execution_count": 5,
   "id": "386c22a1-b1dc-488c-aed3-51b8e4ded7ca",
   "metadata": {},
   "outputs": [],
   "source": [
    "df_exams = pd.read_csv('mycsvfile.csv')"
   ]
  },
  {
   "cell_type": "code",
   "execution_count": 6,
   "id": "1225ea81-909c-43e6-90c4-4a2eb58b73bd",
   "metadata": {},
   "outputs": [
    {
     "data": {
      "text/html": [
       "<div>\n",
       "<style scoped>\n",
       "    .dataframe tbody tr th:only-of-type {\n",
       "        vertical-align: middle;\n",
       "    }\n",
       "\n",
       "    .dataframe tbody tr th {\n",
       "        vertical-align: top;\n",
       "    }\n",
       "\n",
       "    .dataframe thead th {\n",
       "        text-align: right;\n",
       "    }\n",
       "</style>\n",
       "<table border=\"1\" class=\"dataframe\">\n",
       "  <thead>\n",
       "    <tr style=\"text-align: right;\">\n",
       "      <th></th>\n",
       "      <th>Name</th>\n",
       "      <th>age</th>\n",
       "      <th>classs</th>\n",
       "      <th>grade</th>\n",
       "      <th>gender</th>\n",
       "    </tr>\n",
       "  </thead>\n",
       "  <tbody>\n",
       "    <tr>\n",
       "      <th>0</th>\n",
       "      <td>shivam</td>\n",
       "      <td>3</td>\n",
       "      <td>12th</td>\n",
       "      <td>a</td>\n",
       "      <td>f</td>\n",
       "    </tr>\n",
       "    <tr>\n",
       "      <th>1</th>\n",
       "      <td>rohit</td>\n",
       "      <td>2</td>\n",
       "      <td>8th</td>\n",
       "      <td>b</td>\n",
       "      <td>m</td>\n",
       "    </tr>\n",
       "    <tr>\n",
       "      <th>2</th>\n",
       "      <td>chetan</td>\n",
       "      <td>12</td>\n",
       "      <td>6th</td>\n",
       "      <td>c</td>\n",
       "      <td>m</td>\n",
       "    </tr>\n",
       "    <tr>\n",
       "      <th>3</th>\n",
       "      <td>asshish</td>\n",
       "      <td>32</td>\n",
       "      <td>9th</td>\n",
       "      <td>b</td>\n",
       "      <td>m</td>\n",
       "    </tr>\n",
       "    <tr>\n",
       "      <th>4</th>\n",
       "      <td>mohit</td>\n",
       "      <td>12</td>\n",
       "      <td>10th</td>\n",
       "      <td>d</td>\n",
       "      <td>m</td>\n",
       "    </tr>\n",
       "  </tbody>\n",
       "</table>\n",
       "</div>"
      ],
      "text/plain": [
       "      Name  age classs grade gender\n",
       "0   shivam    3   12th     a      f\n",
       "1    rohit    2    8th     b      m\n",
       "2   chetan   12    6th     c      m\n",
       "3  asshish   32    9th     b      m\n",
       "4    mohit   12   10th     d      m"
      ]
     },
     "execution_count": 6,
     "metadata": {},
     "output_type": "execute_result"
    }
   ],
   "source": [
    "# shows first 5 rows of the dataframe\n",
    "df_exams.head()"
   ]
  },
  {
   "cell_type": "code",
   "execution_count": 7,
   "id": "2a4d409b-8763-4535-a051-8b82366cfbf0",
   "metadata": {},
   "outputs": [
    {
     "data": {
      "text/html": [
       "<div>\n",
       "<style scoped>\n",
       "    .dataframe tbody tr th:only-of-type {\n",
       "        vertical-align: middle;\n",
       "    }\n",
       "\n",
       "    .dataframe tbody tr th {\n",
       "        vertical-align: top;\n",
       "    }\n",
       "\n",
       "    .dataframe thead th {\n",
       "        text-align: right;\n",
       "    }\n",
       "</style>\n",
       "<table border=\"1\" class=\"dataframe\">\n",
       "  <thead>\n",
       "    <tr style=\"text-align: right;\">\n",
       "      <th></th>\n",
       "      <th>Name</th>\n",
       "      <th>age</th>\n",
       "      <th>classs</th>\n",
       "      <th>grade</th>\n",
       "      <th>gender</th>\n",
       "    </tr>\n",
       "  </thead>\n",
       "  <tbody>\n",
       "    <tr>\n",
       "      <th>0</th>\n",
       "      <td>shivam</td>\n",
       "      <td>3</td>\n",
       "      <td>12th</td>\n",
       "      <td>a</td>\n",
       "      <td>f</td>\n",
       "    </tr>\n",
       "    <tr>\n",
       "      <th>1</th>\n",
       "      <td>rohit</td>\n",
       "      <td>2</td>\n",
       "      <td>8th</td>\n",
       "      <td>b</td>\n",
       "      <td>m</td>\n",
       "    </tr>\n",
       "    <tr>\n",
       "      <th>2</th>\n",
       "      <td>chetan</td>\n",
       "      <td>12</td>\n",
       "      <td>6th</td>\n",
       "      <td>c</td>\n",
       "      <td>m</td>\n",
       "    </tr>\n",
       "    <tr>\n",
       "      <th>3</th>\n",
       "      <td>asshish</td>\n",
       "      <td>32</td>\n",
       "      <td>9th</td>\n",
       "      <td>b</td>\n",
       "      <td>m</td>\n",
       "    </tr>\n",
       "    <tr>\n",
       "      <th>4</th>\n",
       "      <td>mohit</td>\n",
       "      <td>12</td>\n",
       "      <td>10th</td>\n",
       "      <td>d</td>\n",
       "      <td>m</td>\n",
       "    </tr>\n",
       "    <tr>\n",
       "      <th>5</th>\n",
       "      <td>asshmit</td>\n",
       "      <td>12</td>\n",
       "      <td>4th</td>\n",
       "      <td>e</td>\n",
       "      <td>m</td>\n",
       "    </tr>\n",
       "  </tbody>\n",
       "</table>\n",
       "</div>"
      ],
      "text/plain": [
       "      Name  age classs grade gender\n",
       "0   shivam    3   12th     a      f\n",
       "1    rohit    2    8th     b      m\n",
       "2   chetan   12    6th     c      m\n",
       "3  asshish   32    9th     b      m\n",
       "4    mohit   12   10th     d      m\n",
       "5  asshmit   12    4th     e      m"
      ]
     },
     "execution_count": 7,
     "metadata": {},
     "output_type": "execute_result"
    }
   ],
   "source": [
    "df_exams"
   ]
  }
 ],
 "metadata": {
  "kernelspec": {
   "display_name": "Python [conda env:base] *",
   "language": "python",
   "name": "conda-base-py"
  },
  "language_info": {
   "codemirror_mode": {
    "name": "ipython",
    "version": 3
   },
   "file_extension": ".py",
   "mimetype": "text/x-python",
   "name": "python",
   "nbconvert_exporter": "python",
   "pygments_lexer": "ipython3",
   "version": "3.13.5"
  }
 },
 "nbformat": 4,
 "nbformat_minor": 5
}
