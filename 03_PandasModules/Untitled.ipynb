{
 "cells": [
  {
   "cell_type": "code",
   "execution_count": 2,
   "id": "08d548f0-bb41-4765-bcbd-e5528ec8c615",
   "metadata": {},
   "outputs": [],
   "source": [
    "import pandas as pd\n",
    "import numpy as np"
   ]
  },
  {
   "cell_type": "markdown",
   "id": "f575993a-3900-4c62-af53-b95b00d36025",
   "metadata": {},
   "source": [
    "# Creating the DataFrame form an Array\n",
    "\n",
    "## 1.1 Option 1"
   ]
  },
  {
   "cell_type": "code",
   "execution_count": null,
   "id": "de4eb791-f176-4f1d-b982-a468ff8ad5d0",
   "metadata": {},
   "outputs": [],
   "source": [
    "# creating an Array\n"
   ]
  }
 ],
 "metadata": {
  "kernelspec": {
   "display_name": "Python [conda env:base] *",
   "language": "python",
   "name": "conda-base-py"
  },
  "language_info": {
   "codemirror_mode": {
    "name": "ipython",
    "version": 3
   },
   "file_extension": ".py",
   "mimetype": "text/x-python",
   "name": "python",
   "nbconvert_exporter": "python",
   "pygments_lexer": "ipython3",
   "version": "3.13.5"
  }
 },
 "nbformat": 4,
 "nbformat_minor": 5
}
