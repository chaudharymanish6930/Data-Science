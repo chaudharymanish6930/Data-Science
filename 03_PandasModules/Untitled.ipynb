{
 "cells": [
  {
   "cell_type": "markdown",
   "id": "b717ac6e-0a9c-4e0a-9f98-de0e8be9bb65",
   "metadata": {},
   "source": [
    "# Sort a DataFrame"
   ]
  },
  {
   "cell_type": "code",
   "execution_count": null,
   "id": "3c0bbe82-04fe-4b9c-9847-ac41b1a9c21e",
   "metadata": {},
   "outputs": [],
   "source": []
  }
 ],
 "metadata": {
  "kernelspec": {
   "display_name": "Python [conda env:base] *",
   "language": "python",
   "name": "conda-base-py"
  },
  "language_info": {
   "codemirror_mode": {
    "name": "ipython",
    "version": 3
   },
   "file_extension": ".py",
   "mimetype": "text/x-python",
   "name": "python",
   "nbconvert_exporter": "python",
   "pygments_lexer": "ipython3",
   "version": "3.13.5"
  }
 },
 "nbformat": 4,
 "nbformat_minor": 5
}
