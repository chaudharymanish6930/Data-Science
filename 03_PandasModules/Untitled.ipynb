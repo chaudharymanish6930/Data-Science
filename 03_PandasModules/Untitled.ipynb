{
 "cells": [
  {
   "cell_type": "code",
   "execution_count": 1,
   "id": "d4c84c24-1ee8-4781-ac3a-359208513c6c",
   "metadata": {},
   "outputs": [],
   "source": [
    "import pandas as pd"
   ]
  },
  {
   "cell_type": "markdown",
   "id": "9a941bc8-c546-4e1b-95eb-1c5924050346",
   "metadata": {},
   "source": [
    "#  4. Create the DataFrame by using the Dictionary"
   ]
  },
  {
   "cell_type": "code",
   "execution_count": 2,
   "id": "bb50635a-cb8d-4f9d-aa59-ddde80829b6d",
   "metadata": {},
   "outputs": [],
   "source": [
    "# using the list in this example\n",
    "state =[\"uttar pradesh\", \"west Bnegal\", \"delhi\", \"haryana\"]\n",
    "population = [19348,57748,85744,85789]"
   ]
  },
  {
   "cell_type": "code",
   "execution_count": 3,
   "id": "5ff6bae5-f373-4868-a6a8-564945363e60",
   "metadata": {},
   "outputs": [],
   "source": [
    "#stroing the list in the dictionary\n",
    "dict_data ={\"state\":state,\"Populations\":population}"
   ]
  },
  {
   "cell_type": "code",
   "execution_count": null,
   "id": "ab1d99d9-1984-4d95-8684-ed68de9c0597",
   "metadata": {},
   "outputs": [],
   "source": [
    "df = pd."
   ]
  }
 ],
 "metadata": {
  "kernelspec": {
   "display_name": "Python [conda env:base] *",
   "language": "python",
   "name": "conda-base-py"
  },
  "language_info": {
   "codemirror_mode": {
    "name": "ipython",
    "version": 3
   },
   "file_extension": ".py",
   "mimetype": "text/x-python",
   "name": "python",
   "nbconvert_exporter": "python",
   "pygments_lexer": "ipython3",
   "version": "3.13.5"
  }
 },
 "nbformat": 4,
 "nbformat_minor": 5
}
