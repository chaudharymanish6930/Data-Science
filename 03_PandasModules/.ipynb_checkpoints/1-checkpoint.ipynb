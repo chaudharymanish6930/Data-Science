{
 "cells": [
  {
   "cell_type": "markdown",
   "id": "8022c38d-aac7-4d11-a3d0-8f7c7752d065",
   "metadata": {},
   "source": [
    "# soring"
   ]
  }
 ],
 "metadata": {
  "kernelspec": {
   "display_name": "Python [conda env:base] *",
   "language": "python",
   "name": "conda-base-py"
  },
  "language_info": {
   "codemirror_mode": {
    "name": "ipython",
    "version": 3
   },
   "file_extension": ".py",
   "mimetype": "text/x-python",
   "name": "python",
   "nbconvert_exporter": "python",
   "pygments_lexer": "ipython3",
   "version": "3.13.5"
  }
 },
 "nbformat": 4,
 "nbformat_minor": 5
}
