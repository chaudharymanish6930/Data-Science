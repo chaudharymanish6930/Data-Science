{
 "cells": [
  {
   "cell_type": "code",
   "execution_count": 1,
   "id": "7cfc0346-1ab5-4d23-87b0-47e392904cc1",
   "metadata": {},
   "outputs": [],
   "source": [
    "import pandas as pd\n",
    "import numpy as np"
   ]
  },
  {
   "cell_type": "markdown",
   "id": "7e76151e-ba9f-457f-a137-b1bbabcc857d",
   "metadata": {},
   "source": [
    "# 2. Creating the DataFrame with Indexed"
   ]
  },
  {
   "cell_type": "code",
   "execution_count": 2,
   "id": "29feb05d-c4fc-4b26-9a57-6577bd77e85c",
   "metadata": {},
   "outputs": [],
   "source": [
    "data = np.array([[1,4,7],[2,5,8],[3,6,9]])"
   ]
  },
  {
   "cell_type": "code",
   "execution_count": null,
   "id": "ffa26aa6-aab7-4a86-898f-1edf604c7698",
   "metadata": {},
   "outputs": [],
   "source": [
    "df = pd.DataFrame(data, index=['row1','row2'"
   ]
  }
 ],
 "metadata": {
  "kernelspec": {
   "display_name": "Python [conda env:base] *",
   "language": "python",
   "name": "conda-base-py"
  },
  "language_info": {
   "codemirror_mode": {
    "name": "ipython",
    "version": 3
   },
   "file_extension": ".py",
   "mimetype": "text/x-python",
   "name": "python",
   "nbconvert_exporter": "python",
   "pygments_lexer": "ipython3",
   "version": "3.13.5"
  }
 },
 "nbformat": 4,
 "nbformat_minor": 5
}
