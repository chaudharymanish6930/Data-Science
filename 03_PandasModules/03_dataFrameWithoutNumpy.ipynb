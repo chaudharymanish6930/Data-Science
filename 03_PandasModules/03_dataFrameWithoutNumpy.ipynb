{
 "cells": [
  {
   "cell_type": "code",
   "execution_count": 1,
   "id": "ddbf8066-0d89-436d-9e8a-9d72a7e88b3d",
   "metadata": {},
   "outputs": [],
   "source": [
    "import pandas as pd"
   ]
  },
  {
   "cell_type": "markdown",
   "id": "cbe52d8e-f160-4c3f-884a-e8af392b4c68",
   "metadata": {},
   "source": [
    "# 3. Creating the DataFrame without using numpy\n",
    "\n",
    "## simple way"
   ]
  },
  {
   "cell_type": "code",
   "execution_count": null,
   "id": "ae3fb529-3946-4fe0-89d6-d177b83b6ea7",
   "metadata": {},
   "outputs": [],
   "source": [
    "data = [[1,2,3],[4,5,6]"
   ]
  }
 ],
 "metadata": {
  "kernelspec": {
   "display_name": "Python [conda env:base] *",
   "language": "python",
   "name": "conda-base-py"
  },
  "language_info": {
   "codemirror_mode": {
    "name": "ipython",
    "version": 3
   },
   "file_extension": ".py",
   "mimetype": "text/x-python",
   "name": "python",
   "nbconvert_exporter": "python",
   "pygments_lexer": "ipython3",
   "version": "3.13.5"
  }
 },
 "nbformat": 4,
 "nbformat_minor": 5
}
