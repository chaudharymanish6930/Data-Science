{
 "cells": [
  {
   "cell_type": "code",
   "execution_count": 6,
   "id": "98d9f9dd-7d32-4c72-9b3e-789977287d26",
   "metadata": {},
   "outputs": [
    {
     "name": "stdout",
     "output_type": "stream",
     "text": [
      "['Target 1', 'Target 10', 'Target 2', 'Target 3', 'Target 4', 'Target 5', 'Target 6', 'Target 7', 'Target 8', 'Target 9']\n",
      "Target 1\n",
      "['.ipynb_checkpoints', 'myself.txt']\n",
      "Target 10\n",
      "[]\n",
      "Target 2\n",
      "[]\n",
      "Target 3\n",
      "[]\n",
      "Target 4\n",
      "['.ipynb_checkpoints', 'myfriends.txt']\n",
      "Target 5\n",
      "[]\n",
      "Target 6\n",
      "[]\n",
      "Target 7\n",
      "[]\n",
      "Target 8\n",
      "[]\n",
      "Target 9\n",
      "[]\n"
     ]
    }
   ],
   "source": [
    "import os\n",
    "\n",
    "folders = os.listdir(\"data Files\")\n",
    "\n",
    "print(folders)\n",
    "\n",
    "for folder in folders:\n",
    "    print(folder)\n",
    "    print(os.listdir(f\"data Files/{folder}\"))"
   ]
  },
  {
   "cell_type": "code",
   "execution_count": null,
   "id": "c3cd6595-5cff-4df5-a52d-62c9d1a3e6a9",
   "metadata": {},
   "outputs": [],
   "source": []
  }
 ],
 "metadata": {
  "kernelspec": {
   "display_name": "Python [conda env:base] *",
   "language": "python",
   "name": "conda-base-py"
  },
  "language_info": {
   "codemirror_mode": {
    "name": "ipython",
    "version": 3
   },
   "file_extension": ".py",
   "mimetype": "text/x-python",
   "name": "python",
   "nbconvert_exporter": "python",
   "pygments_lexer": "ipython3",
   "version": "3.13.5"
  }
 },
 "nbformat": 4,
 "nbformat_minor": 5
}
