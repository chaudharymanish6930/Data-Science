{
 "cells": [
  {
   "cell_type": "code",
   "execution_count": 18,
   "id": "9fb3bc1b-0ab6-454d-b2f7-48b0ea9ed353",
   "metadata": {},
   "outputs": [],
   "source": [
    "import os\n",
    "\n",
    "if(not os.path.exists(\"data Files\")):\n",
    "    os.mkdir(\"data Files\")\n",
    "\n",
    "for i in range(0,10):\n",
    "    os.mkdir(f\"data Files/Day{i+1}\")"
   ]
  }
 ],
 "metadata": {
  "kernelspec": {
   "display_name": "Python [conda env:base] *",
   "language": "python",
   "name": "conda-base-py"
  },
  "language_info": {
   "codemirror_mode": {
    "name": "ipython",
    "version": 3
   },
   "file_extension": ".py",
   "mimetype": "text/x-python",
   "name": "python",
   "nbconvert_exporter": "python",
   "pygments_lexer": "ipython3",
   "version": "3.13.5"
  }
 },
 "nbformat": 4,
 "nbformat_minor": 5
}
