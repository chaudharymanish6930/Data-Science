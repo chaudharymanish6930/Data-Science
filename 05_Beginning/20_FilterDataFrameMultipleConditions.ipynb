{
 "cells": [
  {
   "cell_type": "code",
   "execution_count": 1,
   "id": "42e82d4c-543a-4d15-95fd-ad924177d96c",
   "metadata": {},
   "outputs": [],
   "source": [
    "import pandas as pd"
   ]
  },
  {
   "cell_type": "code",
   "execution_count": 2,
   "id": "2e9e5fca-185f-4dd3-a53a-ffaaba4f09b6",
   "metadata": {},
   "outputs": [],
   "source": [
    "df = pd.read_csv(\"laptop_price.csv\")"
   ]
  },
  {
   "cell_type": "code",
   "execution_count": 3,
   "id": "596d19d6-2f53-4edb-8ebc-179f6c3e73e5",
   "metadata": {},
   "outputs": [
    {
     "data": {
      "text/html": [
       "<div>\n",
       "<style scoped>\n",
       "    .dataframe tbody tr th:only-of-type {\n",
       "        vertical-align: middle;\n",
       "    }\n",
       "\n",
       "    .dataframe tbody tr th {\n",
       "        vertical-align: top;\n",
       "    }\n",
       "\n",
       "    .dataframe thead th {\n",
       "        text-align: right;\n",
       "    }\n",
       "</style>\n",
       "<table border=\"1\" class=\"dataframe\">\n",
       "  <thead>\n",
       "    <tr style=\"text-align: right;\">\n",
       "      <th></th>\n",
       "      <th>Model</th>\n",
       "      <th>Company</th>\n",
       "      <th>Screen Size</th>\n",
       "      <th>RAM</th>\n",
       "      <th>Storage</th>\n",
       "      <th>Processor</th>\n",
       "      <th>Graphics</th>\n",
       "      <th>Price (USD)</th>\n",
       "      <th>Battery Life</th>\n",
       "    </tr>\n",
       "  </thead>\n",
       "  <tbody>\n",
       "    <tr>\n",
       "      <th>0</th>\n",
       "      <td>MacBook Air 13 (M4)</td>\n",
       "      <td>Apple</td>\n",
       "      <td>13 inches</td>\n",
       "      <td>16GB</td>\n",
       "      <td>256GB SSD</td>\n",
       "      <td>M4</td>\n",
       "      <td>Integrated</td>\n",
       "      <td>999</td>\n",
       "      <td>18</td>\n",
       "    </tr>\n",
       "    <tr>\n",
       "      <th>1</th>\n",
       "      <td>MacBook Pro 14 (M4)</td>\n",
       "      <td>Apple</td>\n",
       "      <td>14 inches</td>\n",
       "      <td>24GB</td>\n",
       "      <td>1TB SSD</td>\n",
       "      <td>M4 Pro</td>\n",
       "      <td>Integrated</td>\n",
       "      <td>1599</td>\n",
       "      <td>16</td>\n",
       "    </tr>\n",
       "    <tr>\n",
       "      <th>2</th>\n",
       "      <td>Dell 14 Plus (DB14250)</td>\n",
       "      <td>Dell</td>\n",
       "      <td>14 inches</td>\n",
       "      <td>16GB</td>\n",
       "      <td>1TB SSD</td>\n",
       "      <td>Intel Core Ultra 7</td>\n",
       "      <td>Integrated</td>\n",
       "      <td>899</td>\n",
       "      <td>13</td>\n",
       "    </tr>\n",
       "    <tr>\n",
       "      <th>3</th>\n",
       "      <td>Dell XPS 13 (9350)</td>\n",
       "      <td>Dell</td>\n",
       "      <td>13 inches</td>\n",
       "      <td>16GB</td>\n",
       "      <td>512GB SSD</td>\n",
       "      <td>Intel Core Ultra 7</td>\n",
       "      <td>Integrated</td>\n",
       "      <td>1199</td>\n",
       "      <td>15</td>\n",
       "    </tr>\n",
       "    <tr>\n",
       "      <th>4</th>\n",
       "      <td>HP EliteBook Ultra G1i</td>\n",
       "      <td>HP</td>\n",
       "      <td>14 inches</td>\n",
       "      <td>32GB</td>\n",
       "      <td>1TB SSD</td>\n",
       "      <td>Intel Core Ultra 7</td>\n",
       "      <td>Integrated</td>\n",
       "      <td>1499</td>\n",
       "      <td>19</td>\n",
       "    </tr>\n",
       "    <tr>\n",
       "      <th>5</th>\n",
       "      <td>HP Pavilion Plus 14 (2025)</td>\n",
       "      <td>HP</td>\n",
       "      <td>14 inches</td>\n",
       "      <td>16GB</td>\n",
       "      <td>512GB SSD</td>\n",
       "      <td>Intel Core Ultra 5</td>\n",
       "      <td>Integrated</td>\n",
       "      <td>799</td>\n",
       "      <td>12</td>\n",
       "    </tr>\n",
       "    <tr>\n",
       "      <th>6</th>\n",
       "      <td>Lenovo ThinkPad X1 Carbon Gen 13</td>\n",
       "      <td>Lenovo</td>\n",
       "      <td>14 inches</td>\n",
       "      <td>32GB</td>\n",
       "      <td>1TB SSD</td>\n",
       "      <td>Intel Core Ultra 7</td>\n",
       "      <td>Integrated</td>\n",
       "      <td>1799</td>\n",
       "      <td>20</td>\n",
       "    </tr>\n",
       "    <tr>\n",
       "      <th>7</th>\n",
       "      <td>Lenovo Legion 5i</td>\n",
       "      <td>Lenovo</td>\n",
       "      <td>16 inches</td>\n",
       "      <td>16GB</td>\n",
       "      <td>1TB SSD</td>\n",
       "      <td>Intel Core i9</td>\n",
       "      <td>NVIDIA RTX 4060</td>\n",
       "      <td>1299</td>\n",
       "      <td>8</td>\n",
       "    </tr>\n",
       "    <tr>\n",
       "      <th>8</th>\n",
       "      <td>Asus Zenbook 14 OLED (UM3406)</td>\n",
       "      <td>Asus</td>\n",
       "      <td>14 inches</td>\n",
       "      <td>16GB</td>\n",
       "      <td>1TB SSD</td>\n",
       "      <td>AMD Ryzen AI 9</td>\n",
       "      <td>Integrated</td>\n",
       "      <td>799</td>\n",
       "      <td>14</td>\n",
       "    </tr>\n",
       "    <tr>\n",
       "      <th>9</th>\n",
       "      <td>Asus ROG Zephyrus G14</td>\n",
       "      <td>Asus</td>\n",
       "      <td>14 inches</td>\n",
       "      <td>32GB</td>\n",
       "      <td>1TB SSD</td>\n",
       "      <td>AMD Ryzen 9</td>\n",
       "      <td>NVIDIA RTX 4070</td>\n",
       "      <td>1599</td>\n",
       "      <td>9</td>\n",
       "    </tr>\n",
       "    <tr>\n",
       "      <th>10</th>\n",
       "      <td>Surface Laptop 7th Edition 15</td>\n",
       "      <td>Microsoft</td>\n",
       "      <td>15 inches</td>\n",
       "      <td>16GB</td>\n",
       "      <td>512GB SSD</td>\n",
       "      <td>Snapdragon X Elite</td>\n",
       "      <td>Integrated</td>\n",
       "      <td>1299</td>\n",
       "      <td>20</td>\n",
       "    </tr>\n",
       "    <tr>\n",
       "      <th>11</th>\n",
       "      <td>Acer Swift Go 16 (2025)</td>\n",
       "      <td>Acer</td>\n",
       "      <td>16 inches</td>\n",
       "      <td>16GB</td>\n",
       "      <td>1TB SSD</td>\n",
       "      <td>Intel Core Ultra 7</td>\n",
       "      <td>Integrated</td>\n",
       "      <td>999</td>\n",
       "      <td>12</td>\n",
       "    </tr>\n",
       "  </tbody>\n",
       "</table>\n",
       "</div>"
      ],
      "text/plain": [
       "                               Model    Company Screen Size   RAM    Storage  \\\n",
       "0                MacBook Air 13 (M4)      Apple   13 inches  16GB  256GB SSD   \n",
       "1                MacBook Pro 14 (M4)      Apple   14 inches  24GB    1TB SSD   \n",
       "2             Dell 14 Plus (DB14250)       Dell   14 inches  16GB    1TB SSD   \n",
       "3                 Dell XPS 13 (9350)       Dell   13 inches  16GB  512GB SSD   \n",
       "4             HP EliteBook Ultra G1i         HP   14 inches  32GB    1TB SSD   \n",
       "5         HP Pavilion Plus 14 (2025)         HP   14 inches  16GB  512GB SSD   \n",
       "6   Lenovo ThinkPad X1 Carbon Gen 13     Lenovo   14 inches  32GB    1TB SSD   \n",
       "7                   Lenovo Legion 5i     Lenovo   16 inches  16GB    1TB SSD   \n",
       "8      Asus Zenbook 14 OLED (UM3406)       Asus   14 inches  16GB    1TB SSD   \n",
       "9              Asus ROG Zephyrus G14       Asus   14 inches  32GB    1TB SSD   \n",
       "10     Surface Laptop 7th Edition 15  Microsoft   15 inches  16GB  512GB SSD   \n",
       "11           Acer Swift Go 16 (2025)       Acer   16 inches  16GB    1TB SSD   \n",
       "\n",
       "             Processor         Graphics  Price (USD)  Battery Life  \n",
       "0                   M4       Integrated          999            18  \n",
       "1               M4 Pro       Integrated         1599            16  \n",
       "2   Intel Core Ultra 7       Integrated          899            13  \n",
       "3   Intel Core Ultra 7       Integrated         1199            15  \n",
       "4   Intel Core Ultra 7       Integrated         1499            19  \n",
       "5   Intel Core Ultra 5       Integrated          799            12  \n",
       "6   Intel Core Ultra 7       Integrated         1799            20  \n",
       "7        Intel Core i9  NVIDIA RTX 4060         1299             8  \n",
       "8       AMD Ryzen AI 9       Integrated          799            14  \n",
       "9          AMD Ryzen 9  NVIDIA RTX 4070         1599             9  \n",
       "10  Snapdragon X Elite       Integrated         1299            20  \n",
       "11  Intel Core Ultra 7       Integrated          999            12  "
      ]
     },
     "execution_count": 3,
     "metadata": {},
     "output_type": "execute_result"
    }
   ],
   "source": [
    "df"
   ]
  },
  {
   "cell_type": "markdown",
   "id": "af5b6746-94c4-49b1-bff8-4645241d4fde",
   "metadata": {},
   "source": [
    "## 1 filter Dataframe based on a Condition"
   ]
  },
  {
   "cell_type": "code",
   "execution_count": 4,
   "id": "8ddf3fa7-cae8-42fd-85ed-5177e5586a75",
   "metadata": {},
   "outputs": [
    {
     "data": {
      "text/plain": [
       "0      True\n",
       "1      True\n",
       "2     False\n",
       "3     False\n",
       "4     False\n",
       "5     False\n",
       "6     False\n",
       "7     False\n",
       "8     False\n",
       "9     False\n",
       "10    False\n",
       "11    False\n",
       "Name: Company, dtype: bool"
      ]
     },
     "execution_count": 4,
     "metadata": {},
     "output_type": "execute_result"
    }
   ],
   "source": [
    "# find apple laptops\n",
    "df[\"Company\"]==\"Apple\""
   ]
  },
  {
   "cell_type": "code",
   "execution_count": 5,
   "id": "ed09e076-b8cc-438d-8bbf-05eba95ba18b",
   "metadata": {},
   "outputs": [
    {
     "data": {
      "text/plain": [
       "0     False\n",
       "1      True\n",
       "2     False\n",
       "3      True\n",
       "4      True\n",
       "5     False\n",
       "6      True\n",
       "7      True\n",
       "8     False\n",
       "9      True\n",
       "10     True\n",
       "11    False\n",
       "Name: Price (USD), dtype: bool"
      ]
     },
     "execution_count": 5,
     "metadata": {},
     "output_type": "execute_result"
    }
   ],
   "source": [
    "# find laptops to cost more than 2000\n",
    "df[\"Price (USD)\"]>1100"
   ]
  },
  {
   "cell_type": "markdown",
   "id": "f0a61229-db1f-4b0d-b28d-1d60935512dc",
   "metadata": {},
   "source": [
    "# 2 Filter DataFrame Based on Multiple Conditions"
   ]
  },
  {
   "cell_type": "code",
   "execution_count": 6,
   "id": "19ee0d3c-bbb3-44c4-afb1-1bfa961ba6ba",
   "metadata": {},
   "outputs": [
    {
     "data": {
      "text/plain": [
       "0     False\n",
       "1      True\n",
       "2     False\n",
       "3     False\n",
       "4     False\n",
       "5     False\n",
       "6     False\n",
       "7     False\n",
       "8     False\n",
       "9     False\n",
       "10    False\n",
       "11    False\n",
       "dtype: bool"
      ]
     },
     "execution_count": 6,
     "metadata": {},
     "output_type": "execute_result"
    }
   ],
   "source": [
    "# find apple laptops that cost more than 1000\n",
    "(df[\"Company\"]==\"Apple\") & (df[\"Price (USD)\"]>1000)"
   ]
  },
  {
   "cell_type": "markdown",
   "id": "094817f8-cbc1-4e82-a775-0608123e7238",
   "metadata": {},
   "source": [
    "# 2.1 & (And)"
   ]
  },
  {
   "cell_type": "code",
   "execution_count": 7,
   "id": "7bcdf83f-385d-4b35-9ac9-afb82afd586c",
   "metadata": {},
   "outputs": [
    {
     "data": {
      "text/html": [
       "<div>\n",
       "<style scoped>\n",
       "    .dataframe tbody tr th:only-of-type {\n",
       "        vertical-align: middle;\n",
       "    }\n",
       "\n",
       "    .dataframe tbody tr th {\n",
       "        vertical-align: top;\n",
       "    }\n",
       "\n",
       "    .dataframe thead th {\n",
       "        text-align: right;\n",
       "    }\n",
       "</style>\n",
       "<table border=\"1\" class=\"dataframe\">\n",
       "  <thead>\n",
       "    <tr style=\"text-align: right;\">\n",
       "      <th></th>\n",
       "      <th>Model</th>\n",
       "      <th>Company</th>\n",
       "      <th>Screen Size</th>\n",
       "      <th>RAM</th>\n",
       "      <th>Storage</th>\n",
       "      <th>Processor</th>\n",
       "      <th>Graphics</th>\n",
       "      <th>Price (USD)</th>\n",
       "      <th>Battery Life</th>\n",
       "    </tr>\n",
       "  </thead>\n",
       "  <tbody>\n",
       "    <tr>\n",
       "      <th>1</th>\n",
       "      <td>MacBook Pro 14 (M4)</td>\n",
       "      <td>Apple</td>\n",
       "      <td>14 inches</td>\n",
       "      <td>24GB</td>\n",
       "      <td>1TB SSD</td>\n",
       "      <td>M4 Pro</td>\n",
       "      <td>Integrated</td>\n",
       "      <td>1599</td>\n",
       "      <td>16</td>\n",
       "    </tr>\n",
       "  </tbody>\n",
       "</table>\n",
       "</div>"
      ],
      "text/plain": [
       "                 Model Company Screen Size   RAM  Storage Processor  \\\n",
       "1  MacBook Pro 14 (M4)   Apple   14 inches  24GB  1TB SSD    M4 Pro   \n",
       "\n",
       "     Graphics  Price (USD)  Battery Life  \n",
       "1  Integrated         1599            16  "
      ]
     },
     "execution_count": 7,
     "metadata": {},
     "output_type": "execute_result"
    }
   ],
   "source": [
    "# filter datafframe based on multiple conditions\n",
    "df[(df[\"Company\"]==\"Apple\") & (df[\"Price (USD)\"]>1000)]"
   ]
  },
  {
   "cell_type": "markdown",
   "id": "b6a70945-9fad-469a-a4e7-0c0fb3fbba98",
   "metadata": {},
   "source": [
    "# 2.2 | (or)"
   ]
  },
  {
   "cell_type": "code",
   "execution_count": 8,
   "id": "8ea73ef6-6e33-4b36-a8c5-075b376eabcd",
   "metadata": {},
   "outputs": [
    {
     "data": {
      "text/plain": [
       "0      True\n",
       "1      True\n",
       "2      True\n",
       "3      True\n",
       "4     False\n",
       "5     False\n",
       "6     False\n",
       "7     False\n",
       "8     False\n",
       "9     False\n",
       "10    False\n",
       "11    False\n",
       "Name: Company, dtype: bool"
      ]
     },
     "execution_count": 8,
     "metadata": {},
     "output_type": "execute_result"
    }
   ],
   "source": [
    "# find laptops Apple or dell laptops\n",
    "df[\"Company\"]==\"Apple\"\n",
    "df[\"Company\"]==\"Dell\"\n",
    "\n",
    "(df[\"Company\"]==\"Apple\") | (df[\"Company\"]==\"Dell\")"
   ]
  },
  {
   "cell_type": "code",
   "execution_count": 9,
   "id": "c8e0f9c1-4d25-45d2-a16d-71a770ffa817",
   "metadata": {},
   "outputs": [
    {
     "data": {
      "text/html": [
       "<div>\n",
       "<style scoped>\n",
       "    .dataframe tbody tr th:only-of-type {\n",
       "        vertical-align: middle;\n",
       "    }\n",
       "\n",
       "    .dataframe tbody tr th {\n",
       "        vertical-align: top;\n",
       "    }\n",
       "\n",
       "    .dataframe thead th {\n",
       "        text-align: right;\n",
       "    }\n",
       "</style>\n",
       "<table border=\"1\" class=\"dataframe\">\n",
       "  <thead>\n",
       "    <tr style=\"text-align: right;\">\n",
       "      <th></th>\n",
       "      <th>Model</th>\n",
       "      <th>Company</th>\n",
       "      <th>Screen Size</th>\n",
       "      <th>RAM</th>\n",
       "      <th>Storage</th>\n",
       "      <th>Processor</th>\n",
       "      <th>Graphics</th>\n",
       "      <th>Price (USD)</th>\n",
       "      <th>Battery Life</th>\n",
       "    </tr>\n",
       "  </thead>\n",
       "  <tbody>\n",
       "    <tr>\n",
       "      <th>0</th>\n",
       "      <td>MacBook Air 13 (M4)</td>\n",
       "      <td>Apple</td>\n",
       "      <td>13 inches</td>\n",
       "      <td>16GB</td>\n",
       "      <td>256GB SSD</td>\n",
       "      <td>M4</td>\n",
       "      <td>Integrated</td>\n",
       "      <td>999</td>\n",
       "      <td>18</td>\n",
       "    </tr>\n",
       "    <tr>\n",
       "      <th>1</th>\n",
       "      <td>MacBook Pro 14 (M4)</td>\n",
       "      <td>Apple</td>\n",
       "      <td>14 inches</td>\n",
       "      <td>24GB</td>\n",
       "      <td>1TB SSD</td>\n",
       "      <td>M4 Pro</td>\n",
       "      <td>Integrated</td>\n",
       "      <td>1599</td>\n",
       "      <td>16</td>\n",
       "    </tr>\n",
       "    <tr>\n",
       "      <th>2</th>\n",
       "      <td>Dell 14 Plus (DB14250)</td>\n",
       "      <td>Dell</td>\n",
       "      <td>14 inches</td>\n",
       "      <td>16GB</td>\n",
       "      <td>1TB SSD</td>\n",
       "      <td>Intel Core Ultra 7</td>\n",
       "      <td>Integrated</td>\n",
       "      <td>899</td>\n",
       "      <td>13</td>\n",
       "    </tr>\n",
       "    <tr>\n",
       "      <th>3</th>\n",
       "      <td>Dell XPS 13 (9350)</td>\n",
       "      <td>Dell</td>\n",
       "      <td>13 inches</td>\n",
       "      <td>16GB</td>\n",
       "      <td>512GB SSD</td>\n",
       "      <td>Intel Core Ultra 7</td>\n",
       "      <td>Integrated</td>\n",
       "      <td>1199</td>\n",
       "      <td>15</td>\n",
       "    </tr>\n",
       "  </tbody>\n",
       "</table>\n",
       "</div>"
      ],
      "text/plain": [
       "                    Model Company Screen Size   RAM    Storage  \\\n",
       "0     MacBook Air 13 (M4)   Apple   13 inches  16GB  256GB SSD   \n",
       "1     MacBook Pro 14 (M4)   Apple   14 inches  24GB    1TB SSD   \n",
       "2  Dell 14 Plus (DB14250)    Dell   14 inches  16GB    1TB SSD   \n",
       "3      Dell XPS 13 (9350)    Dell   13 inches  16GB  512GB SSD   \n",
       "\n",
       "            Processor    Graphics  Price (USD)  Battery Life  \n",
       "0                  M4  Integrated          999            18  \n",
       "1              M4 Pro  Integrated         1599            16  \n",
       "2  Intel Core Ultra 7  Integrated          899            13  \n",
       "3  Intel Core Ultra 7  Integrated         1199            15  "
      ]
     },
     "execution_count": 9,
     "metadata": {},
     "output_type": "execute_result"
    }
   ],
   "source": [
    "# filter dataframe based on multiple condition\n",
    "df[(df[\"Company\"]==\"Apple\") | (df[\"Company\"]==\"Dell\")]"
   ]
  },
  {
   "cell_type": "code",
   "execution_count": 10,
   "id": "65b1be3c-557e-4bdc-a8ba-d4e45754409b",
   "metadata": {},
   "outputs": [
    {
     "data": {
      "text/plain": [
       "Company\n",
       "Apple    2\n",
       "Dell     2\n",
       "Name: count, dtype: int64"
      ]
     },
     "execution_count": 10,
     "metadata": {},
     "output_type": "execute_result"
    }
   ],
   "source": [
    "# value counts\n",
    "df[(df[\"Company\"]==\"Apple\") | (df[\"Company\"]==\"Dell\")].value_counts(\"Company\")"
   ]
  },
  {
   "cell_type": "code",
   "execution_count": 11,
   "id": "6d94a11b-593f-438e-8c43-a216d1bdd94e",
   "metadata": {},
   "outputs": [
    {
     "data": {
      "text/plain": [
       "0     False\n",
       "1      True\n",
       "2     False\n",
       "3      True\n",
       "4     False\n",
       "5     False\n",
       "6     False\n",
       "7     False\n",
       "8     False\n",
       "9     False\n",
       "10    False\n",
       "11    False\n",
       "dtype: bool"
      ]
     },
     "execution_count": 11,
     "metadata": {},
     "output_type": "execute_result"
    }
   ],
   "source": [
    "# find laptops from Apple or dell that cost over 1000(USD)\n",
    "df[\"Company\"]==\"Apple\"\n",
    "df[\"Company\"]==\"Dell\"\n",
    "df[\"Price (USD)\"]>1000;\n",
    "\n",
    "((df[\"Company\"]==\"Apple\") | (df[\"Company\"]==\"Dell\")) & ((df[\"Price (USD)\"]>1000))"
   ]
  },
  {
   "cell_type": "code",
   "execution_count": 12,
   "id": "33211b4e-4851-470f-a5f4-1f8f57ac4359",
   "metadata": {},
   "outputs": [
    {
     "data": {
      "text/html": [
       "<div>\n",
       "<style scoped>\n",
       "    .dataframe tbody tr th:only-of-type {\n",
       "        vertical-align: middle;\n",
       "    }\n",
       "\n",
       "    .dataframe tbody tr th {\n",
       "        vertical-align: top;\n",
       "    }\n",
       "\n",
       "    .dataframe thead th {\n",
       "        text-align: right;\n",
       "    }\n",
       "</style>\n",
       "<table border=\"1\" class=\"dataframe\">\n",
       "  <thead>\n",
       "    <tr style=\"text-align: right;\">\n",
       "      <th></th>\n",
       "      <th>Model</th>\n",
       "      <th>Company</th>\n",
       "      <th>Screen Size</th>\n",
       "      <th>RAM</th>\n",
       "      <th>Storage</th>\n",
       "      <th>Processor</th>\n",
       "      <th>Graphics</th>\n",
       "      <th>Price (USD)</th>\n",
       "      <th>Battery Life</th>\n",
       "    </tr>\n",
       "  </thead>\n",
       "  <tbody>\n",
       "    <tr>\n",
       "      <th>1</th>\n",
       "      <td>MacBook Pro 14 (M4)</td>\n",
       "      <td>Apple</td>\n",
       "      <td>14 inches</td>\n",
       "      <td>24GB</td>\n",
       "      <td>1TB SSD</td>\n",
       "      <td>M4 Pro</td>\n",
       "      <td>Integrated</td>\n",
       "      <td>1599</td>\n",
       "      <td>16</td>\n",
       "    </tr>\n",
       "    <tr>\n",
       "      <th>3</th>\n",
       "      <td>Dell XPS 13 (9350)</td>\n",
       "      <td>Dell</td>\n",
       "      <td>13 inches</td>\n",
       "      <td>16GB</td>\n",
       "      <td>512GB SSD</td>\n",
       "      <td>Intel Core Ultra 7</td>\n",
       "      <td>Integrated</td>\n",
       "      <td>1199</td>\n",
       "      <td>15</td>\n",
       "    </tr>\n",
       "  </tbody>\n",
       "</table>\n",
       "</div>"
      ],
      "text/plain": [
       "                 Model Company Screen Size   RAM    Storage  \\\n",
       "1  MacBook Pro 14 (M4)   Apple   14 inches  24GB    1TB SSD   \n",
       "3   Dell XPS 13 (9350)    Dell   13 inches  16GB  512GB SSD   \n",
       "\n",
       "            Processor    Graphics  Price (USD)  Battery Life  \n",
       "1              M4 Pro  Integrated         1599            16  \n",
       "3  Intel Core Ultra 7  Integrated         1199            15  "
      ]
     },
     "execution_count": 12,
     "metadata": {},
     "output_type": "execute_result"
    }
   ],
   "source": [
    "df[((df[\"Company\"]==\"Apple\") | (df[\"Company\"]==\"Dell\")) & ((df[\"Price (USD)\"]>1000))]"
   ]
  }
 ],
 "metadata": {
  "kernelspec": {
   "display_name": "Python 3 (ipykernel)",
   "language": "python",
   "name": "python3"
  },
  "language_info": {
   "codemirror_mode": {
    "name": "ipython",
    "version": 3
   },
   "file_extension": ".py",
   "mimetype": "text/x-python",
   "name": "python",
   "nbconvert_exporter": "python",
   "pygments_lexer": "ipython3",
   "version": "3.13.0"
  }
 },
 "nbformat": 4,
 "nbformat_minor": 5
}
