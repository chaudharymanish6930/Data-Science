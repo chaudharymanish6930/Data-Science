{
 "cells": [
  {
   "cell_type": "code",
   "execution_count": 1,
   "id": "ba10cb88-7dbe-4e90-b800-5e9c0456369e",
   "metadata": {
    "scrolled": true
   },
   "outputs": [
    {
     "data": {
      "text/html": [
       "<div>\n",
       "<style scoped>\n",
       "    .dataframe tbody tr th:only-of-type {\n",
       "        vertical-align: middle;\n",
       "    }\n",
       "\n",
       "    .dataframe tbody tr th {\n",
       "        vertical-align: top;\n",
       "    }\n",
       "\n",
       "    .dataframe thead th {\n",
       "        text-align: right;\n",
       "    }\n",
       "</style>\n",
       "<table border=\"1\" class=\"dataframe\">\n",
       "  <thead>\n",
       "    <tr style=\"text-align: right;\">\n",
       "      <th></th>\n",
       "      <th>Name</th>\n",
       "      <th>age</th>\n",
       "      <th>classs</th>\n",
       "      <th>grade</th>\n",
       "      <th>gender</th>\n",
       "    </tr>\n",
       "  </thead>\n",
       "  <tbody>\n",
       "    <tr>\n",
       "      <th>0</th>\n",
       "      <td>shivam</td>\n",
       "      <td>3</td>\n",
       "      <td>12th</td>\n",
       "      <td>a</td>\n",
       "      <td>f</td>\n",
       "    </tr>\n",
       "    <tr>\n",
       "      <th>1</th>\n",
       "      <td>rohit</td>\n",
       "      <td>2</td>\n",
       "      <td>8th</td>\n",
       "      <td>b</td>\n",
       "      <td>m</td>\n",
       "    </tr>\n",
       "    <tr>\n",
       "      <th>2</th>\n",
       "      <td>chetan</td>\n",
       "      <td>12</td>\n",
       "      <td>6th</td>\n",
       "      <td>c</td>\n",
       "      <td>m</td>\n",
       "    </tr>\n",
       "    <tr>\n",
       "      <th>3</th>\n",
       "      <td>asshish</td>\n",
       "      <td>32</td>\n",
       "      <td>9th</td>\n",
       "      <td>b</td>\n",
       "      <td>m</td>\n",
       "    </tr>\n",
       "    <tr>\n",
       "      <th>4</th>\n",
       "      <td>mohit</td>\n",
       "      <td>12</td>\n",
       "      <td>10th</td>\n",
       "      <td>d</td>\n",
       "      <td>m</td>\n",
       "    </tr>\n",
       "    <tr>\n",
       "      <th>5</th>\n",
       "      <td>asshmit</td>\n",
       "      <td>12</td>\n",
       "      <td>4th</td>\n",
       "      <td>e</td>\n",
       "      <td>m</td>\n",
       "    </tr>\n",
       "    <tr>\n",
       "      <th>6</th>\n",
       "      <td>tahsu</td>\n",
       "      <td>1</td>\n",
       "      <td>12th</td>\n",
       "      <td>a</td>\n",
       "      <td>f</td>\n",
       "    </tr>\n",
       "    <tr>\n",
       "      <th>7</th>\n",
       "      <td>priya</td>\n",
       "      <td>23</td>\n",
       "      <td>5th</td>\n",
       "      <td>b</td>\n",
       "      <td>f</td>\n",
       "    </tr>\n",
       "    <tr>\n",
       "      <th>8</th>\n",
       "      <td>sweety</td>\n",
       "      <td>4</td>\n",
       "      <td>7th</td>\n",
       "      <td>d</td>\n",
       "      <td>f</td>\n",
       "    </tr>\n",
       "    <tr>\n",
       "      <th>9</th>\n",
       "      <td>cheery</td>\n",
       "      <td>35</td>\n",
       "      <td>9th</td>\n",
       "      <td>b</td>\n",
       "      <td>f</td>\n",
       "    </tr>\n",
       "    <tr>\n",
       "      <th>10</th>\n",
       "      <td>candy</td>\n",
       "      <td>65</td>\n",
       "      <td>4th</td>\n",
       "      <td>e</td>\n",
       "      <td>f</td>\n",
       "    </tr>\n",
       "    <tr>\n",
       "      <th>11</th>\n",
       "      <td>chiku</td>\n",
       "      <td>4</td>\n",
       "      <td>8th</td>\n",
       "      <td>c</td>\n",
       "      <td>m</td>\n",
       "    </tr>\n",
       "    <tr>\n",
       "      <th>12</th>\n",
       "      <td>mohit</td>\n",
       "      <td>67</td>\n",
       "      <td>4th</td>\n",
       "      <td>f</td>\n",
       "      <td>m</td>\n",
       "    </tr>\n",
       "  </tbody>\n",
       "</table>\n",
       "</div>"
      ],
      "text/plain": [
       "       Name  age classs grade gender\n",
       "0    shivam    3   12th     a      f\n",
       "1     rohit    2    8th     b      m\n",
       "2    chetan   12    6th     c      m\n",
       "3   asshish   32    9th     b      m\n",
       "4     mohit   12   10th     d      m\n",
       "5   asshmit   12    4th     e      m\n",
       "6     tahsu    1   12th     a      f\n",
       "7     priya   23    5th     b      f\n",
       "8    sweety    4    7th     d      f\n",
       "9    cheery   35    9th     b      f\n",
       "10   candy    65    4th     e      f\n",
       "11    chiku    4    8th     c      m\n",
       "12    mohit   67    4th     f      m"
      ]
     },
     "execution_count": 1,
     "metadata": {},
     "output_type": "execute_result"
    }
   ],
   "source": [
    "import pandas as pd\n",
    "df = pd.read_csv(\"mycsvfile.csv\")\n",
    "df"
   ]
  },
  {
   "cell_type": "markdown",
   "id": "c8d5db29-30a3-41ab-b1d6-ccf5cb5db77a",
   "metadata": {},
   "source": [
    "#  Selecting one column"
   ]
  },
  {
   "cell_type": "code",
   "execution_count": 2,
   "id": "501ad817-fc6d-4467-9a74-bb1bdf71dc48",
   "metadata": {},
   "outputs": [
    {
     "data": {
      "text/plain": [
       "0      3\n",
       "1      2\n",
       "2     12\n",
       "3     32\n",
       "4     12\n",
       "5     12\n",
       "6      1\n",
       "7     23\n",
       "8      4\n",
       "9     35\n",
       "10    65\n",
       "11     4\n",
       "12    67\n",
       "Name: age, dtype: int64"
      ]
     },
     "execution_count": 2,
     "metadata": {},
     "output_type": "execute_result"
    }
   ],
   "source": [
    "# select the column by []\n",
    "df['age']"
   ]
  },
  {
   "cell_type": "code",
   "execution_count": 3,
   "id": "3a64f8fc-481c-48d7-8827-74f0381766c9",
   "metadata": {},
   "outputs": [
    {
     "data": {
      "text/plain": [
       "0     12th\n",
       "1      8th\n",
       "2      6th\n",
       "3      9th\n",
       "4     10th\n",
       "5      4th\n",
       "6     12th\n",
       "7      5th\n",
       "8      7th\n",
       "9      9th\n",
       "10     4th\n",
       "11     8th\n",
       "12     4th\n",
       "Name: classs, dtype: object"
      ]
     },
     "execution_count": 3,
     "metadata": {},
     "output_type": "execute_result"
    }
   ],
   "source": [
    "# select another column with []\n",
    "df['classs']"
   ]
  },
  {
   "cell_type": "code",
   "execution_count": 4,
   "id": "45f4ac9e-b23e-43db-aa73-282d88e3b117",
   "metadata": {},
   "outputs": [
    {
     "data": {
      "text/plain": [
       "pandas.core.series.Series"
      ]
     },
     "execution_count": 4,
     "metadata": {},
     "output_type": "execute_result"
    }
   ],
   "source": [
    "# check out the data type of the column\n",
    "type(df['classs'])"
   ]
  },
  {
   "cell_type": "code",
   "execution_count": 5,
   "id": "a477c208-bd23-4382-9548-a1b62682b38b",
   "metadata": {},
   "outputs": [
    {
     "data": {
      "text/plain": [
       "pandas.core.series.Series"
      ]
     },
     "execution_count": 5,
     "metadata": {},
     "output_type": "execute_result"
    }
   ],
   "source": [
    "type(df['age'])"
   ]
  },
  {
   "cell_type": "code",
   "execution_count": 6,
   "id": "80925332-bec7-497a-a93e-00bc9e48abd1",
   "metadata": {},
   "outputs": [
    {
     "data": {
      "text/plain": [
       "RangeIndex(start=0, stop=13, step=1)"
      ]
     },
     "execution_count": 6,
     "metadata": {},
     "output_type": "execute_result"
    }
   ],
   "source": [
    "# series: attributes and methods\n",
    "df['age'].index"
   ]
  },
  {
   "cell_type": "code",
   "execution_count": 7,
   "id": "36f6127d-881e-4ded-9d1a-2558034f6f77",
   "metadata": {},
   "outputs": [
    {
     "data": {
      "text/plain": [
       "0    12th\n",
       "1     8th\n",
       "2     6th\n",
       "3     9th\n",
       "4    10th\n",
       "Name: classs, dtype: object"
      ]
     },
     "execution_count": 7,
     "metadata": {},
     "output_type": "execute_result"
    }
   ],
   "source": [
    "df['classs'].head(5)"
   ]
  },
  {
   "cell_type": "markdown",
   "id": "8d3dc7cb-a373-4307-bba5-70d30dfd745f",
   "metadata": {},
   "source": [
    "# 2. Syntax "
   ]
  },
  {
   "cell_type": "code",
   "execution_count": 9,
   "id": "32ca44ad-c075-4ad3-a0d1-8319fd9bd08e",
   "metadata": {},
   "outputs": [
    {
     "data": {
      "text/plain": [
       "0     f\n",
       "1     m\n",
       "2     m\n",
       "3     m\n",
       "4     m\n",
       "5     m\n",
       "6     f\n",
       "7     f\n",
       "8     f\n",
       "9     f\n",
       "10    f\n",
       "11    m\n",
       "12    m\n",
       "Name: gender, dtype: object"
      ]
     },
     "execution_count": 9,
     "metadata": {},
     "output_type": "execute_result"
    }
   ],
   "source": [
    "# Select the column with .\n",
    "df.gender"
   ]
  },
  {
   "cell_type": "code",
   "execution_count": 10,
   "id": "4d653c29-8a38-4b6a-9ec0-3bdc3694a7d5",
   "metadata": {},
   "outputs": [
    {
     "data": {
      "text/plain": [
       "0      3\n",
       "1      2\n",
       "2     12\n",
       "3     32\n",
       "4     12\n",
       "5     12\n",
       "6      1\n",
       "7     23\n",
       "8      4\n",
       "9     35\n",
       "10    65\n",
       "11     4\n",
       "12    67\n",
       "Name: age, dtype: int64"
      ]
     },
     "execution_count": 10,
     "metadata": {},
     "output_type": "execute_result"
    }
   ],
   "source": [
    "df.age"
   ]
  },
  {
   "cell_type": "code",
   "execution_count": 11,
   "id": "44b7b422-0c18-4a83-a410-15c1749fcde5",
   "metadata": {},
   "outputs": [
    {
     "data": {
      "text/plain": [
       "0      shivam\n",
       "1       rohit\n",
       "2      chetan\n",
       "3     asshish\n",
       "4       mohit\n",
       "5     asshmit\n",
       "6       tahsu\n",
       "7       priya\n",
       "8      sweety\n",
       "9      cheery\n",
       "10     candy \n",
       "11      chiku\n",
       "12      mohit\n",
       "Name: Name, dtype: object"
      ]
     },
     "execution_count": 11,
     "metadata": {},
     "output_type": "execute_result"
    }
   ],
   "source": [
    "# select the column with . (pitfalls)\n",
    "df[\"Name\"]"
   ]
  },
  {
   "cell_type": "code",
   "execution_count": 14,
   "id": "53fe6a7a-af29-40c4-aa7b-3781b2d30f3f",
   "metadata": {},
   "outputs": [
    {
     "data": {
      "text/plain": [
       "0      3\n",
       "1      2\n",
       "2     12\n",
       "3     32\n",
       "4     12\n",
       "5     12\n",
       "6      1\n",
       "7     23\n",
       "8      4\n",
       "9     35\n",
       "10    65\n",
       "11     4\n",
       "12    67\n",
       "Name: age, dtype: int64"
      ]
     },
     "execution_count": 14,
     "metadata": {},
     "output_type": "execute_result"
    }
   ],
   "source": [
    "# select the column with using []\n",
    "df[\"age\"]"
   ]
  }
 ],
 "metadata": {
  "kernelspec": {
   "display_name": "Python 3 (ipykernel)",
   "language": "python",
   "name": "python3"
  },
  "language_info": {
   "codemirror_mode": {
    "name": "ipython",
    "version": 3
   },
   "file_extension": ".py",
   "mimetype": "text/x-python",
   "name": "python",
   "nbconvert_exporter": "python",
   "pygments_lexer": "ipython3",
   "version": "3.13.0"
  }
 },
 "nbformat": 4,
 "nbformat_minor": 5
}
