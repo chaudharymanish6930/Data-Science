{
 "cells": [
  {
   "cell_type": "code",
   "execution_count": 1,
   "id": "1fe1b8ab-a88e-468f-a500-218a816dc550",
   "metadata": {},
   "outputs": [],
   "source": [
    "import pandas as pd"
   ]
  },
  {
   "cell_type": "code",
   "execution_count": 2,
   "id": "1de5cfff-a4c7-4dfe-9745-bffc65f1c0ea",
   "metadata": {},
   "outputs": [],
   "source": [
    "df_laptop = pd.read_csv(\"laptop_price.csv\")"
   ]
  },
  {
   "cell_type": "code",
   "execution_count": 3,
   "id": "59be8220-fec6-4281-9d71-aa54a57c7107",
   "metadata": {},
   "outputs": [
    {
     "data": {
      "text/html": [
       "<div>\n",
       "<style scoped>\n",
       "    .dataframe tbody tr th:only-of-type {\n",
       "        vertical-align: middle;\n",
       "    }\n",
       "\n",
       "    .dataframe tbody tr th {\n",
       "        vertical-align: top;\n",
       "    }\n",
       "\n",
       "    .dataframe thead th {\n",
       "        text-align: right;\n",
       "    }\n",
       "</style>\n",
       "<table border=\"1\" class=\"dataframe\">\n",
       "  <thead>\n",
       "    <tr style=\"text-align: right;\">\n",
       "      <th></th>\n",
       "      <th>Model</th>\n",
       "      <th>Company</th>\n",
       "      <th>Screen Size</th>\n",
       "      <th>RAM</th>\n",
       "      <th>Storage</th>\n",
       "      <th>Processor</th>\n",
       "      <th>Graphics</th>\n",
       "      <th>Price (USD)</th>\n",
       "      <th>Battery Life</th>\n",
       "    </tr>\n",
       "  </thead>\n",
       "  <tbody>\n",
       "    <tr>\n",
       "      <th>0</th>\n",
       "      <td>MacBook Air 13 (M4)</td>\n",
       "      <td>Apple</td>\n",
       "      <td>13 inches</td>\n",
       "      <td>16GB</td>\n",
       "      <td>256GB SSD</td>\n",
       "      <td>M4</td>\n",
       "      <td>Integrated</td>\n",
       "      <td>999</td>\n",
       "      <td>18</td>\n",
       "    </tr>\n",
       "    <tr>\n",
       "      <th>1</th>\n",
       "      <td>MacBook Pro 14 (M4)</td>\n",
       "      <td>Apple</td>\n",
       "      <td>14 inches</td>\n",
       "      <td>24GB</td>\n",
       "      <td>1TB SSD</td>\n",
       "      <td>M4 Pro</td>\n",
       "      <td>Integrated</td>\n",
       "      <td>1599</td>\n",
       "      <td>16</td>\n",
       "    </tr>\n",
       "    <tr>\n",
       "      <th>2</th>\n",
       "      <td>Dell 14 Plus (DB14250)</td>\n",
       "      <td>Dell</td>\n",
       "      <td>14 inches</td>\n",
       "      <td>16GB</td>\n",
       "      <td>1TB SSD</td>\n",
       "      <td>Intel Core Ultra 7</td>\n",
       "      <td>Integrated</td>\n",
       "      <td>899</td>\n",
       "      <td>13</td>\n",
       "    </tr>\n",
       "    <tr>\n",
       "      <th>3</th>\n",
       "      <td>Dell XPS 13 (9350)</td>\n",
       "      <td>Dell</td>\n",
       "      <td>13 inches</td>\n",
       "      <td>16GB</td>\n",
       "      <td>512GB SSD</td>\n",
       "      <td>Intel Core Ultra 7</td>\n",
       "      <td>Integrated</td>\n",
       "      <td>1199</td>\n",
       "      <td>15</td>\n",
       "    </tr>\n",
       "    <tr>\n",
       "      <th>4</th>\n",
       "      <td>HP EliteBook Ultra G1i</td>\n",
       "      <td>HP</td>\n",
       "      <td>14 inches</td>\n",
       "      <td>32GB</td>\n",
       "      <td>1TB SSD</td>\n",
       "      <td>Intel Core Ultra 7</td>\n",
       "      <td>Integrated</td>\n",
       "      <td>1499</td>\n",
       "      <td>19</td>\n",
       "    </tr>\n",
       "    <tr>\n",
       "      <th>5</th>\n",
       "      <td>HP Pavilion Plus 14 (2025)</td>\n",
       "      <td>HP</td>\n",
       "      <td>14 inches</td>\n",
       "      <td>16GB</td>\n",
       "      <td>512GB SSD</td>\n",
       "      <td>Intel Core Ultra 5</td>\n",
       "      <td>Integrated</td>\n",
       "      <td>799</td>\n",
       "      <td>12</td>\n",
       "    </tr>\n",
       "    <tr>\n",
       "      <th>6</th>\n",
       "      <td>Lenovo ThinkPad X1 Carbon Gen 13</td>\n",
       "      <td>Lenovo</td>\n",
       "      <td>14 inches</td>\n",
       "      <td>32GB</td>\n",
       "      <td>1TB SSD</td>\n",
       "      <td>Intel Core Ultra 7</td>\n",
       "      <td>Integrated</td>\n",
       "      <td>1799</td>\n",
       "      <td>20</td>\n",
       "    </tr>\n",
       "  </tbody>\n",
       "</table>\n",
       "</div>"
      ],
      "text/plain": [
       "                              Model Company Screen Size   RAM    Storage  \\\n",
       "0               MacBook Air 13 (M4)   Apple   13 inches  16GB  256GB SSD   \n",
       "1               MacBook Pro 14 (M4)   Apple   14 inches  24GB    1TB SSD   \n",
       "2            Dell 14 Plus (DB14250)    Dell   14 inches  16GB    1TB SSD   \n",
       "3                Dell XPS 13 (9350)    Dell   13 inches  16GB  512GB SSD   \n",
       "4            HP EliteBook Ultra G1i      HP   14 inches  32GB    1TB SSD   \n",
       "5        HP Pavilion Plus 14 (2025)      HP   14 inches  16GB  512GB SSD   \n",
       "6  Lenovo ThinkPad X1 Carbon Gen 13  Lenovo   14 inches  32GB    1TB SSD   \n",
       "\n",
       "            Processor    Graphics  Price (USD)  Battery Life  \n",
       "0                  M4  Integrated          999            18  \n",
       "1              M4 Pro  Integrated         1599            16  \n",
       "2  Intel Core Ultra 7  Integrated          899            13  \n",
       "3  Intel Core Ultra 7  Integrated         1199            15  \n",
       "4  Intel Core Ultra 7  Integrated         1499            19  \n",
       "5  Intel Core Ultra 5  Integrated          799            12  \n",
       "6  Intel Core Ultra 7  Integrated         1799            20  "
      ]
     },
     "execution_count": 3,
     "metadata": {},
     "output_type": "execute_result"
    }
   ],
   "source": [
    "df_laptop.head(7)"
   ]
  },
  {
   "cell_type": "markdown",
   "id": "b48fb257-4764-4fd3-9765-f7594aae126e",
   "metadata": {},
   "source": [
    "## 1 Create a column based on 1 conditions:\n",
    "## np.where()"
   ]
  },
  {
   "cell_type": "code",
   "execution_count": 4,
   "id": "1fa80519-b21f-4cd2-8120-a70ebc3042ed",
   "metadata": {},
   "outputs": [],
   "source": [
    "import numpy as np"
   ]
  },
  {
   "cell_type": "code",
   "execution_count": 5,
   "id": "82d5cf2c-f6a7-4033-a3ec-5f8b6c07db88",
   "metadata": {},
   "outputs": [
    {
     "data": {
      "text/plain": [
       "0     False\n",
       "1      True\n",
       "2     False\n",
       "3      True\n",
       "4      True\n",
       "5     False\n",
       "6      True\n",
       "7      True\n",
       "8     False\n",
       "9      True\n",
       "10     True\n",
       "11    False\n",
       "Name: Price (USD), dtype: bool"
      ]
     },
     "execution_count": 5,
     "metadata": {},
     "output_type": "execute_result"
    }
   ],
   "source": [
    "# create an array based on thr price tiers\n",
    "df_laptop[\"Price (USD)\"]>1000"
   ]
  },
  {
   "cell_type": "code",
   "execution_count": 6,
   "id": "c82b31a7-4efd-4d20-a210-6f1b547045f8",
   "metadata": {},
   "outputs": [
    {
     "data": {
      "text/plain": [
       "array(['cheap', 'expensive', 'cheap', 'expensive', 'expensive', 'cheap',\n",
       "       'expensive', 'expensive', 'cheap', 'expensive', 'expensive',\n",
       "       'cheap'], dtype='<U9')"
      ]
     },
     "execution_count": 6,
     "metadata": {},
     "output_type": "execute_result"
    }
   ],
   "source": [
    "np.where(df_laptop[\"Price (USD)\"]>1000,\"expensive\", \"cheap\")"
   ]
  },
  {
   "cell_type": "code",
   "execution_count": 7,
   "id": "8503389d-3e41-4b54-b7bd-fb7f055b36be",
   "metadata": {},
   "outputs": [],
   "source": [
    "# set it to a new column\n",
    "df_laptop[\"price_tier\"]=np.where(df_laptop[\"Price (USD)\"]>1000,\"expensive\", \"cheap\")"
   ]
  },
  {
   "cell_type": "code",
   "execution_count": 8,
   "id": "e14a6a47-46db-4e58-bdfa-e7d3be1d0603",
   "metadata": {},
   "outputs": [
    {
     "data": {
      "text/html": [
       "<div>\n",
       "<style scoped>\n",
       "    .dataframe tbody tr th:only-of-type {\n",
       "        vertical-align: middle;\n",
       "    }\n",
       "\n",
       "    .dataframe tbody tr th {\n",
       "        vertical-align: top;\n",
       "    }\n",
       "\n",
       "    .dataframe thead th {\n",
       "        text-align: right;\n",
       "    }\n",
       "</style>\n",
       "<table border=\"1\" class=\"dataframe\">\n",
       "  <thead>\n",
       "    <tr style=\"text-align: right;\">\n",
       "      <th></th>\n",
       "      <th>Model</th>\n",
       "      <th>Company</th>\n",
       "      <th>Screen Size</th>\n",
       "      <th>RAM</th>\n",
       "      <th>Storage</th>\n",
       "      <th>Processor</th>\n",
       "      <th>Graphics</th>\n",
       "      <th>Price (USD)</th>\n",
       "      <th>Battery Life</th>\n",
       "      <th>price_tier</th>\n",
       "    </tr>\n",
       "  </thead>\n",
       "  <tbody>\n",
       "    <tr>\n",
       "      <th>0</th>\n",
       "      <td>MacBook Air 13 (M4)</td>\n",
       "      <td>Apple</td>\n",
       "      <td>13 inches</td>\n",
       "      <td>16GB</td>\n",
       "      <td>256GB SSD</td>\n",
       "      <td>M4</td>\n",
       "      <td>Integrated</td>\n",
       "      <td>999</td>\n",
       "      <td>18</td>\n",
       "      <td>cheap</td>\n",
       "    </tr>\n",
       "    <tr>\n",
       "      <th>1</th>\n",
       "      <td>MacBook Pro 14 (M4)</td>\n",
       "      <td>Apple</td>\n",
       "      <td>14 inches</td>\n",
       "      <td>24GB</td>\n",
       "      <td>1TB SSD</td>\n",
       "      <td>M4 Pro</td>\n",
       "      <td>Integrated</td>\n",
       "      <td>1599</td>\n",
       "      <td>16</td>\n",
       "      <td>expensive</td>\n",
       "    </tr>\n",
       "    <tr>\n",
       "      <th>2</th>\n",
       "      <td>Dell 14 Plus (DB14250)</td>\n",
       "      <td>Dell</td>\n",
       "      <td>14 inches</td>\n",
       "      <td>16GB</td>\n",
       "      <td>1TB SSD</td>\n",
       "      <td>Intel Core Ultra 7</td>\n",
       "      <td>Integrated</td>\n",
       "      <td>899</td>\n",
       "      <td>13</td>\n",
       "      <td>cheap</td>\n",
       "    </tr>\n",
       "    <tr>\n",
       "      <th>3</th>\n",
       "      <td>Dell XPS 13 (9350)</td>\n",
       "      <td>Dell</td>\n",
       "      <td>13 inches</td>\n",
       "      <td>16GB</td>\n",
       "      <td>512GB SSD</td>\n",
       "      <td>Intel Core Ultra 7</td>\n",
       "      <td>Integrated</td>\n",
       "      <td>1199</td>\n",
       "      <td>15</td>\n",
       "      <td>expensive</td>\n",
       "    </tr>\n",
       "    <tr>\n",
       "      <th>4</th>\n",
       "      <td>HP EliteBook Ultra G1i</td>\n",
       "      <td>HP</td>\n",
       "      <td>14 inches</td>\n",
       "      <td>32GB</td>\n",
       "      <td>1TB SSD</td>\n",
       "      <td>Intel Core Ultra 7</td>\n",
       "      <td>Integrated</td>\n",
       "      <td>1499</td>\n",
       "      <td>19</td>\n",
       "      <td>expensive</td>\n",
       "    </tr>\n",
       "    <tr>\n",
       "      <th>5</th>\n",
       "      <td>HP Pavilion Plus 14 (2025)</td>\n",
       "      <td>HP</td>\n",
       "      <td>14 inches</td>\n",
       "      <td>16GB</td>\n",
       "      <td>512GB SSD</td>\n",
       "      <td>Intel Core Ultra 5</td>\n",
       "      <td>Integrated</td>\n",
       "      <td>799</td>\n",
       "      <td>12</td>\n",
       "      <td>cheap</td>\n",
       "    </tr>\n",
       "    <tr>\n",
       "      <th>6</th>\n",
       "      <td>Lenovo ThinkPad X1 Carbon Gen 13</td>\n",
       "      <td>Lenovo</td>\n",
       "      <td>14 inches</td>\n",
       "      <td>32GB</td>\n",
       "      <td>1TB SSD</td>\n",
       "      <td>Intel Core Ultra 7</td>\n",
       "      <td>Integrated</td>\n",
       "      <td>1799</td>\n",
       "      <td>20</td>\n",
       "      <td>expensive</td>\n",
       "    </tr>\n",
       "    <tr>\n",
       "      <th>7</th>\n",
       "      <td>Lenovo Legion 5i</td>\n",
       "      <td>Lenovo</td>\n",
       "      <td>16 inches</td>\n",
       "      <td>16GB</td>\n",
       "      <td>1TB SSD</td>\n",
       "      <td>Intel Core i9</td>\n",
       "      <td>NVIDIA RTX 4060</td>\n",
       "      <td>1299</td>\n",
       "      <td>8</td>\n",
       "      <td>expensive</td>\n",
       "    </tr>\n",
       "  </tbody>\n",
       "</table>\n",
       "</div>"
      ],
      "text/plain": [
       "                              Model Company Screen Size   RAM    Storage  \\\n",
       "0               MacBook Air 13 (M4)   Apple   13 inches  16GB  256GB SSD   \n",
       "1               MacBook Pro 14 (M4)   Apple   14 inches  24GB    1TB SSD   \n",
       "2            Dell 14 Plus (DB14250)    Dell   14 inches  16GB    1TB SSD   \n",
       "3                Dell XPS 13 (9350)    Dell   13 inches  16GB  512GB SSD   \n",
       "4            HP EliteBook Ultra G1i      HP   14 inches  32GB    1TB SSD   \n",
       "5        HP Pavilion Plus 14 (2025)      HP   14 inches  16GB  512GB SSD   \n",
       "6  Lenovo ThinkPad X1 Carbon Gen 13  Lenovo   14 inches  32GB    1TB SSD   \n",
       "7                  Lenovo Legion 5i  Lenovo   16 inches  16GB    1TB SSD   \n",
       "\n",
       "            Processor         Graphics  Price (USD)  Battery Life price_tier  \n",
       "0                  M4       Integrated          999            18      cheap  \n",
       "1              M4 Pro       Integrated         1599            16  expensive  \n",
       "2  Intel Core Ultra 7       Integrated          899            13      cheap  \n",
       "3  Intel Core Ultra 7       Integrated         1199            15  expensive  \n",
       "4  Intel Core Ultra 7       Integrated         1499            19  expensive  \n",
       "5  Intel Core Ultra 5       Integrated          799            12      cheap  \n",
       "6  Intel Core Ultra 7       Integrated         1799            20  expensive  \n",
       "7       Intel Core i9  NVIDIA RTX 4060         1299             8  expensive  "
      ]
     },
     "execution_count": 8,
     "metadata": {},
     "output_type": "execute_result"
    }
   ],
   "source": [
    "df_laptop.head(8)"
   ]
  },
  {
   "cell_type": "code",
   "execution_count": 9,
   "id": "68c724c1-d763-43ab-a69a-517162700bfc",
   "metadata": {},
   "outputs": [
    {
     "data": {
      "text/plain": [
       "price_tier\n",
       "expensive    7\n",
       "cheap        5\n",
       "Name: count, dtype: int64"
      ]
     },
     "execution_count": 9,
     "metadata": {},
     "output_type": "execute_result"
    }
   ],
   "source": [
    "# count values in price_tier column\n",
    "df_laptop.value_counts('price_tier')"
   ]
  },
  {
   "cell_type": "markdown",
   "id": "2fe7523f-3f33-4191-bcd0-1801ea7a0a10",
   "metadata": {},
   "source": [
    "## 1.1 Exercise"
   ]
  },
  {
   "cell_type": "code",
   "execution_count": 10,
   "id": "5eaf413c-a1bb-4642-b41a-35f5c4dc8490",
   "metadata": {},
   "outputs": [
    {
     "data": {
      "text/plain": [
       "0      True\n",
       "1      True\n",
       "2     False\n",
       "3     False\n",
       "4      True\n",
       "5     False\n",
       "6      True\n",
       "7     False\n",
       "8     False\n",
       "9     False\n",
       "10     True\n",
       "11    False\n",
       "Name: Battery Life, dtype: bool"
      ]
     },
     "execution_count": 10,
     "metadata": {},
     "output_type": "execute_result"
    }
   ],
   "source": [
    "# create an array based on condition (battery >15)\n",
    "df_laptop['Battery Life']>15"
   ]
  },
  {
   "cell_type": "code",
   "execution_count": 11,
   "id": "53a984e2-5086-4938-b8a5-acd7eebd374f",
   "metadata": {},
   "outputs": [
    {
     "data": {
      "text/plain": [
       "array(['big', 'big', 'small', 'small', 'big', 'small', 'big', 'small',\n",
       "       'small', 'small', 'big', 'small'], dtype='<U5')"
      ]
     },
     "execution_count": 11,
     "metadata": {},
     "output_type": "execute_result"
    }
   ],
   "source": [
    "# create an array based on condition (battery >15)\n",
    "np.where(df_laptop['Battery Life']>15, \"big\", \"small\")"
   ]
  },
  {
   "cell_type": "code",
   "execution_count": 12,
   "id": "73308b61-c592-4527-8ed3-fa7a845a4720",
   "metadata": {},
   "outputs": [],
   "source": [
    "# set it into a new column\n",
    "df_laptop[\"battery Efficent\"]=np.where(df_laptop['Battery Life']>15, \"big\", \"small\")"
   ]
  },
  {
   "cell_type": "code",
   "execution_count": 13,
   "id": "f76ff6c1-562f-45a8-a787-124baa5d50dd",
   "metadata": {},
   "outputs": [
    {
     "data": {
      "text/html": [
       "<div>\n",
       "<style scoped>\n",
       "    .dataframe tbody tr th:only-of-type {\n",
       "        vertical-align: middle;\n",
       "    }\n",
       "\n",
       "    .dataframe tbody tr th {\n",
       "        vertical-align: top;\n",
       "    }\n",
       "\n",
       "    .dataframe thead th {\n",
       "        text-align: right;\n",
       "    }\n",
       "</style>\n",
       "<table border=\"1\" class=\"dataframe\">\n",
       "  <thead>\n",
       "    <tr style=\"text-align: right;\">\n",
       "      <th></th>\n",
       "      <th>Model</th>\n",
       "      <th>Company</th>\n",
       "      <th>Screen Size</th>\n",
       "      <th>RAM</th>\n",
       "      <th>Storage</th>\n",
       "      <th>Processor</th>\n",
       "      <th>Graphics</th>\n",
       "      <th>Price (USD)</th>\n",
       "      <th>Battery Life</th>\n",
       "      <th>price_tier</th>\n",
       "      <th>battery Efficent</th>\n",
       "    </tr>\n",
       "  </thead>\n",
       "  <tbody>\n",
       "    <tr>\n",
       "      <th>0</th>\n",
       "      <td>MacBook Air 13 (M4)</td>\n",
       "      <td>Apple</td>\n",
       "      <td>13 inches</td>\n",
       "      <td>16GB</td>\n",
       "      <td>256GB SSD</td>\n",
       "      <td>M4</td>\n",
       "      <td>Integrated</td>\n",
       "      <td>999</td>\n",
       "      <td>18</td>\n",
       "      <td>cheap</td>\n",
       "      <td>big</td>\n",
       "    </tr>\n",
       "    <tr>\n",
       "      <th>1</th>\n",
       "      <td>MacBook Pro 14 (M4)</td>\n",
       "      <td>Apple</td>\n",
       "      <td>14 inches</td>\n",
       "      <td>24GB</td>\n",
       "      <td>1TB SSD</td>\n",
       "      <td>M4 Pro</td>\n",
       "      <td>Integrated</td>\n",
       "      <td>1599</td>\n",
       "      <td>16</td>\n",
       "      <td>expensive</td>\n",
       "      <td>big</td>\n",
       "    </tr>\n",
       "    <tr>\n",
       "      <th>2</th>\n",
       "      <td>Dell 14 Plus (DB14250)</td>\n",
       "      <td>Dell</td>\n",
       "      <td>14 inches</td>\n",
       "      <td>16GB</td>\n",
       "      <td>1TB SSD</td>\n",
       "      <td>Intel Core Ultra 7</td>\n",
       "      <td>Integrated</td>\n",
       "      <td>899</td>\n",
       "      <td>13</td>\n",
       "      <td>cheap</td>\n",
       "      <td>small</td>\n",
       "    </tr>\n",
       "    <tr>\n",
       "      <th>3</th>\n",
       "      <td>Dell XPS 13 (9350)</td>\n",
       "      <td>Dell</td>\n",
       "      <td>13 inches</td>\n",
       "      <td>16GB</td>\n",
       "      <td>512GB SSD</td>\n",
       "      <td>Intel Core Ultra 7</td>\n",
       "      <td>Integrated</td>\n",
       "      <td>1199</td>\n",
       "      <td>15</td>\n",
       "      <td>expensive</td>\n",
       "      <td>small</td>\n",
       "    </tr>\n",
       "    <tr>\n",
       "      <th>4</th>\n",
       "      <td>HP EliteBook Ultra G1i</td>\n",
       "      <td>HP</td>\n",
       "      <td>14 inches</td>\n",
       "      <td>32GB</td>\n",
       "      <td>1TB SSD</td>\n",
       "      <td>Intel Core Ultra 7</td>\n",
       "      <td>Integrated</td>\n",
       "      <td>1499</td>\n",
       "      <td>19</td>\n",
       "      <td>expensive</td>\n",
       "      <td>big</td>\n",
       "    </tr>\n",
       "  </tbody>\n",
       "</table>\n",
       "</div>"
      ],
      "text/plain": [
       "                    Model Company Screen Size   RAM    Storage  \\\n",
       "0     MacBook Air 13 (M4)   Apple   13 inches  16GB  256GB SSD   \n",
       "1     MacBook Pro 14 (M4)   Apple   14 inches  24GB    1TB SSD   \n",
       "2  Dell 14 Plus (DB14250)    Dell   14 inches  16GB    1TB SSD   \n",
       "3      Dell XPS 13 (9350)    Dell   13 inches  16GB  512GB SSD   \n",
       "4  HP EliteBook Ultra G1i      HP   14 inches  32GB    1TB SSD   \n",
       "\n",
       "            Processor    Graphics  Price (USD)  Battery Life price_tier  \\\n",
       "0                  M4  Integrated          999            18      cheap   \n",
       "1              M4 Pro  Integrated         1599            16  expensive   \n",
       "2  Intel Core Ultra 7  Integrated          899            13      cheap   \n",
       "3  Intel Core Ultra 7  Integrated         1199            15  expensive   \n",
       "4  Intel Core Ultra 7  Integrated         1499            19  expensive   \n",
       "\n",
       "  battery Efficent  \n",
       "0              big  \n",
       "1              big  \n",
       "2            small  \n",
       "3            small  \n",
       "4              big  "
      ]
     },
     "execution_count": 13,
     "metadata": {},
     "output_type": "execute_result"
    }
   ],
   "source": [
    "df_laptop.head(5)"
   ]
  },
  {
   "cell_type": "code",
   "execution_count": 14,
   "id": "6d724387-5626-4385-b28b-4a0030415a75",
   "metadata": {},
   "outputs": [
    {
     "data": {
      "text/html": [
       "<div>\n",
       "<style scoped>\n",
       "    .dataframe tbody tr th:only-of-type {\n",
       "        vertical-align: middle;\n",
       "    }\n",
       "\n",
       "    .dataframe tbody tr th {\n",
       "        vertical-align: top;\n",
       "    }\n",
       "\n",
       "    .dataframe thead th {\n",
       "        text-align: right;\n",
       "    }\n",
       "</style>\n",
       "<table border=\"1\" class=\"dataframe\">\n",
       "  <thead>\n",
       "    <tr style=\"text-align: right;\">\n",
       "      <th></th>\n",
       "      <th>Model</th>\n",
       "      <th>Company</th>\n",
       "      <th>Screen Size</th>\n",
       "      <th>RAM</th>\n",
       "      <th>Storage</th>\n",
       "      <th>Processor</th>\n",
       "      <th>Graphics</th>\n",
       "      <th>Price (USD)</th>\n",
       "      <th>Battery Life</th>\n",
       "      <th>price_tier</th>\n",
       "      <th>battery Efficent</th>\n",
       "    </tr>\n",
       "  </thead>\n",
       "  <tbody>\n",
       "    <tr>\n",
       "      <th>8</th>\n",
       "      <td>Asus Zenbook 14 OLED (UM3406)</td>\n",
       "      <td>Asus</td>\n",
       "      <td>14 inches</td>\n",
       "      <td>16GB</td>\n",
       "      <td>1TB SSD</td>\n",
       "      <td>AMD Ryzen AI 9</td>\n",
       "      <td>Integrated</td>\n",
       "      <td>799</td>\n",
       "      <td>14</td>\n",
       "      <td>cheap</td>\n",
       "      <td>small</td>\n",
       "    </tr>\n",
       "    <tr>\n",
       "      <th>9</th>\n",
       "      <td>Asus ROG Zephyrus G14</td>\n",
       "      <td>Asus</td>\n",
       "      <td>14 inches</td>\n",
       "      <td>32GB</td>\n",
       "      <td>1TB SSD</td>\n",
       "      <td>AMD Ryzen 9</td>\n",
       "      <td>NVIDIA RTX 4070</td>\n",
       "      <td>1599</td>\n",
       "      <td>9</td>\n",
       "      <td>expensive</td>\n",
       "      <td>small</td>\n",
       "    </tr>\n",
       "    <tr>\n",
       "      <th>10</th>\n",
       "      <td>Surface Laptop 7th Edition 15</td>\n",
       "      <td>Microsoft</td>\n",
       "      <td>15 inches</td>\n",
       "      <td>16GB</td>\n",
       "      <td>512GB SSD</td>\n",
       "      <td>Snapdragon X Elite</td>\n",
       "      <td>Integrated</td>\n",
       "      <td>1299</td>\n",
       "      <td>20</td>\n",
       "      <td>expensive</td>\n",
       "      <td>big</td>\n",
       "    </tr>\n",
       "    <tr>\n",
       "      <th>11</th>\n",
       "      <td>Acer Swift Go 16 (2025)</td>\n",
       "      <td>Acer</td>\n",
       "      <td>16 inches</td>\n",
       "      <td>16GB</td>\n",
       "      <td>1TB SSD</td>\n",
       "      <td>Intel Core Ultra 7</td>\n",
       "      <td>Integrated</td>\n",
       "      <td>999</td>\n",
       "      <td>12</td>\n",
       "      <td>cheap</td>\n",
       "      <td>small</td>\n",
       "    </tr>\n",
       "  </tbody>\n",
       "</table>\n",
       "</div>"
      ],
      "text/plain": [
       "                            Model    Company Screen Size   RAM    Storage  \\\n",
       "8   Asus Zenbook 14 OLED (UM3406)       Asus   14 inches  16GB    1TB SSD   \n",
       "9           Asus ROG Zephyrus G14       Asus   14 inches  32GB    1TB SSD   \n",
       "10  Surface Laptop 7th Edition 15  Microsoft   15 inches  16GB  512GB SSD   \n",
       "11        Acer Swift Go 16 (2025)       Acer   16 inches  16GB    1TB SSD   \n",
       "\n",
       "             Processor         Graphics  Price (USD)  Battery Life price_tier  \\\n",
       "8       AMD Ryzen AI 9       Integrated          799            14      cheap   \n",
       "9          AMD Ryzen 9  NVIDIA RTX 4070         1599             9  expensive   \n",
       "10  Snapdragon X Elite       Integrated         1299            20  expensive   \n",
       "11  Intel Core Ultra 7       Integrated          999            12      cheap   \n",
       "\n",
       "   battery Efficent  \n",
       "8             small  \n",
       "9             small  \n",
       "10              big  \n",
       "11            small  "
      ]
     },
     "execution_count": 14,
     "metadata": {},
     "output_type": "execute_result"
    }
   ],
   "source": [
    "df_laptop.tail(4)"
   ]
  },
  {
   "cell_type": "code",
   "execution_count": 15,
   "id": "c78751a7-3eac-45f2-9ec2-daed4131bb3d",
   "metadata": {},
   "outputs": [
    {
     "data": {
      "text/plain": [
       "Company\n",
       "Apple        2\n",
       "Asus         2\n",
       "Dell         2\n",
       "Lenovo       2\n",
       "HP           2\n",
       "Acer         1\n",
       "Microsoft    1\n",
       "Name: count, dtype: int64"
      ]
     },
     "execution_count": 15,
     "metadata": {},
     "output_type": "execute_result"
    }
   ],
   "source": [
    "# count values in battery efficent\n",
    "df_laptop.value_counts(\"Company\")"
   ]
  },
  {
   "cell_type": "code",
   "execution_count": 16,
   "id": "eeaef344-a8e3-4a04-bdea-205b62c00b61",
   "metadata": {},
   "outputs": [
    {
     "data": {
      "text/plain": [
       "battery Efficent\n",
       "small    7\n",
       "big      5\n",
       "Name: count, dtype: int64"
      ]
     },
     "execution_count": 16,
     "metadata": {},
     "output_type": "execute_result"
    }
   ],
   "source": [
    "df_laptop.value_counts(\"battery Efficent\")"
   ]
  },
  {
   "cell_type": "code",
   "execution_count": 17,
   "id": "81a4119d-6d53-49af-ad40-aee9b9d19ef5",
   "metadata": {},
   "outputs": [
    {
     "data": {
      "text/plain": [
       "battery Efficent\n",
       "small    7\n",
       "big      5\n",
       "Name: count, dtype: int64"
      ]
     },
     "execution_count": 17,
     "metadata": {},
     "output_type": "execute_result"
    }
   ],
   "source": [
    "df_laptop[\"battery Efficent\"].value_counts()"
   ]
  }
 ],
 "metadata": {
  "kernelspec": {
   "display_name": "Python 3 (ipykernel)",
   "language": "python",
   "name": "python3"
  },
  "language_info": {
   "codemirror_mode": {
    "name": "ipython",
    "version": 3
   },
   "file_extension": ".py",
   "mimetype": "text/x-python",
   "name": "python",
   "nbconvert_exporter": "python",
   "pygments_lexer": "ipython3",
   "version": "3.13.0"
  }
 },
 "nbformat": 4,
 "nbformat_minor": 5
}
