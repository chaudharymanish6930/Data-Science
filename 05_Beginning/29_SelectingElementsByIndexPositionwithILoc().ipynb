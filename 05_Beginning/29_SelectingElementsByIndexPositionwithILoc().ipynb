{
 "cells": [
  {
   "cell_type": "code",
   "execution_count": 1,
   "id": "f47644df-f0eb-4a17-8e3b-e05834c51561",
   "metadata": {},
   "outputs": [],
   "source": [
    "import pandas as pd"
   ]
  },
  {
   "cell_type": "code",
   "execution_count": 2,
   "id": "4a39b681-ef01-47f0-9a3e-1a2cff5f81bd",
   "metadata": {},
   "outputs": [
    {
     "data": {
      "text/html": [
       "<div>\n",
       "<style scoped>\n",
       "    .dataframe tbody tr th:only-of-type {\n",
       "        vertical-align: middle;\n",
       "    }\n",
       "\n",
       "    .dataframe tbody tr th {\n",
       "        vertical-align: top;\n",
       "    }\n",
       "\n",
       "    .dataframe thead th {\n",
       "        text-align: right;\n",
       "    }\n",
       "</style>\n",
       "<table border=\"1\" class=\"dataframe\">\n",
       "  <thead>\n",
       "    <tr style=\"text-align: right;\">\n",
       "      <th></th>\n",
       "      <th>Country</th>\n",
       "      <th>Matches</th>\n",
       "      <th>Innings</th>\n",
       "      <th>Runs</th>\n",
       "      <th>Average</th>\n",
       "      <th>Strike Rate</th>\n",
       "      <th>Wickets</th>\n",
       "      <th>Bowling Average</th>\n",
       "      <th>Economy</th>\n",
       "    </tr>\n",
       "    <tr>\n",
       "      <th>Player Name</th>\n",
       "      <th></th>\n",
       "      <th></th>\n",
       "      <th></th>\n",
       "      <th></th>\n",
       "      <th></th>\n",
       "      <th></th>\n",
       "      <th></th>\n",
       "      <th></th>\n",
       "      <th></th>\n",
       "    </tr>\n",
       "  </thead>\n",
       "  <tbody>\n",
       "    <tr>\n",
       "      <th>Virat Kohli</th>\n",
       "      <td>India</td>\n",
       "      <td>302</td>\n",
       "      <td>289</td>\n",
       "      <td>13906</td>\n",
       "      <td>58.07</td>\n",
       "      <td>93.58</td>\n",
       "      <td>4</td>\n",
       "      <td>72.25</td>\n",
       "      <td>5.23</td>\n",
       "    </tr>\n",
       "    <tr>\n",
       "      <th>Rohit Sharma</th>\n",
       "      <td>India</td>\n",
       "      <td>262</td>\n",
       "      <td>256</td>\n",
       "      <td>10709</td>\n",
       "      <td>48.96</td>\n",
       "      <td>91.72</td>\n",
       "      <td>8</td>\n",
       "      <td>56.38</td>\n",
       "      <td>5.78</td>\n",
       "    </tr>\n",
       "    <tr>\n",
       "      <th>Babar Azam</th>\n",
       "      <td>Pakistan</td>\n",
       "      <td>120</td>\n",
       "      <td>120</td>\n",
       "      <td>5084</td>\n",
       "      <td>56.81</td>\n",
       "      <td>89.12</td>\n",
       "      <td>1</td>\n",
       "      <td>120.00</td>\n",
       "      <td>6.00</td>\n",
       "    </tr>\n",
       "    <tr>\n",
       "      <th>Steve Smith</th>\n",
       "      <td>Australia</td>\n",
       "      <td>195</td>\n",
       "      <td>182</td>\n",
       "      <td>9449</td>\n",
       "      <td>46.82</td>\n",
       "      <td>82.34</td>\n",
       "      <td>0</td>\n",
       "      <td>0.00</td>\n",
       "      <td>0.00</td>\n",
       "    </tr>\n",
       "    <tr>\n",
       "      <th>Joe Root</th>\n",
       "      <td>England</td>\n",
       "      <td>171</td>\n",
       "      <td>167</td>\n",
       "      <td>7479</td>\n",
       "      <td>47.62</td>\n",
       "      <td>89.36</td>\n",
       "      <td>1</td>\n",
       "      <td>69.00</td>\n",
       "      <td>5.69</td>\n",
       "    </tr>\n",
       "    <tr>\n",
       "      <th>Kane Williamson</th>\n",
       "      <td>New Zealand</td>\n",
       "      <td>167</td>\n",
       "      <td>162</td>\n",
       "      <td>6894</td>\n",
       "      <td>47.15</td>\n",
       "      <td>80.65</td>\n",
       "      <td>1</td>\n",
       "      <td>30.00</td>\n",
       "      <td>4.50</td>\n",
       "    </tr>\n",
       "    <tr>\n",
       "      <th>AB de Villiers</th>\n",
       "      <td>South Africa</td>\n",
       "      <td>228</td>\n",
       "      <td>218</td>\n",
       "      <td>10014</td>\n",
       "      <td>53.50</td>\n",
       "      <td>101.09</td>\n",
       "      <td>3</td>\n",
       "      <td>46.67</td>\n",
       "      <td>5.33</td>\n",
       "    </tr>\n",
       "    <tr>\n",
       "      <th>David Warner</th>\n",
       "      <td>Australia</td>\n",
       "      <td>169</td>\n",
       "      <td>168</td>\n",
       "      <td>7074</td>\n",
       "      <td>45.28</td>\n",
       "      <td>95.45</td>\n",
       "      <td>0</td>\n",
       "      <td>0.00</td>\n",
       "      <td>0.00</td>\n",
       "    </tr>\n",
       "    <tr>\n",
       "      <th>Quinton de Kock</th>\n",
       "      <td>South Africa</td>\n",
       "      <td>155</td>\n",
       "      <td>152</td>\n",
       "      <td>6446</td>\n",
       "      <td>40.31</td>\n",
       "      <td>95.45</td>\n",
       "      <td>0</td>\n",
       "      <td>0.00</td>\n",
       "      <td>0.00</td>\n",
       "    </tr>\n",
       "    <tr>\n",
       "      <th>Ross Taylor</th>\n",
       "      <td>New Zealand</td>\n",
       "      <td>233</td>\n",
       "      <td>215</td>\n",
       "      <td>8184</td>\n",
       "      <td>45.69</td>\n",
       "      <td>83.25</td>\n",
       "      <td>3</td>\n",
       "      <td>52.00</td>\n",
       "      <td>5.20</td>\n",
       "    </tr>\n",
       "  </tbody>\n",
       "</table>\n",
       "</div>"
      ],
      "text/plain": [
       "                      Country  Matches  Innings   Runs  Average  Strike Rate  \\\n",
       "Player Name                                                                    \n",
       "Virat Kohli             India      302      289  13906    58.07        93.58   \n",
       "Rohit Sharma            India      262      256  10709    48.96        91.72   \n",
       "Babar Azam           Pakistan      120      120   5084    56.81        89.12   \n",
       "Steve Smith         Australia      195      182   9449    46.82        82.34   \n",
       "Joe Root              England      171      167   7479    47.62        89.36   \n",
       "Kane Williamson   New Zealand      167      162   6894    47.15        80.65   \n",
       "AB de Villiers   South Africa      228      218  10014    53.50       101.09   \n",
       "David Warner        Australia      169      168   7074    45.28        95.45   \n",
       "Quinton de Kock  South Africa      155      152   6446    40.31        95.45   \n",
       "Ross Taylor       New Zealand      233      215   8184    45.69        83.25   \n",
       "\n",
       "                 Wickets  Bowling Average  Economy  \n",
       "Player Name                                         \n",
       "Virat Kohli            4            72.25     5.23  \n",
       "Rohit Sharma           8            56.38     5.78  \n",
       "Babar Azam             1           120.00     6.00  \n",
       "Steve Smith            0             0.00     0.00  \n",
       "Joe Root               1            69.00     5.69  \n",
       "Kane Williamson        1            30.00     4.50  \n",
       "AB de Villiers         3            46.67     5.33  \n",
       "David Warner           0             0.00     0.00  \n",
       "Quinton de Kock        0             0.00     0.00  \n",
       "Ross Taylor            3            52.00     5.20  "
      ]
     },
     "execution_count": 2,
     "metadata": {},
     "output_type": "execute_result"
    }
   ],
   "source": [
    "# read csv\n",
    "df = pd.read_csv(\"InternationalCricketor.csv\")\n",
    "# set index \n",
    "df.set_index(\"Player Name\", inplace=True)\n",
    "# select column\n",
    "df.head(10)"
   ]
  },
  {
   "cell_type": "code",
   "execution_count": 3,
   "id": "a31b61f8-d791-447b-aac1-01e37c53b013",
   "metadata": {},
   "outputs": [],
   "source": [
    "df = df[[\"Matches\",\t\"Innings\",\t\"Runs\",\t\"Average\",\t\"Strike Rate\",\t\"Wickets\"]]"
   ]
  },
  {
   "cell_type": "code",
   "execution_count": 4,
   "id": "5a0897b6-ea4c-4a22-b538-523fdffd9f1e",
   "metadata": {},
   "outputs": [
    {
     "data": {
      "text/html": [
       "<div>\n",
       "<style scoped>\n",
       "    .dataframe tbody tr th:only-of-type {\n",
       "        vertical-align: middle;\n",
       "    }\n",
       "\n",
       "    .dataframe tbody tr th {\n",
       "        vertical-align: top;\n",
       "    }\n",
       "\n",
       "    .dataframe thead th {\n",
       "        text-align: right;\n",
       "    }\n",
       "</style>\n",
       "<table border=\"1\" class=\"dataframe\">\n",
       "  <thead>\n",
       "    <tr style=\"text-align: right;\">\n",
       "      <th></th>\n",
       "      <th>Matches</th>\n",
       "      <th>Innings</th>\n",
       "      <th>Runs</th>\n",
       "      <th>Average</th>\n",
       "      <th>Strike Rate</th>\n",
       "      <th>Wickets</th>\n",
       "    </tr>\n",
       "    <tr>\n",
       "      <th>Player Name</th>\n",
       "      <th></th>\n",
       "      <th></th>\n",
       "      <th></th>\n",
       "      <th></th>\n",
       "      <th></th>\n",
       "      <th></th>\n",
       "    </tr>\n",
       "  </thead>\n",
       "  <tbody>\n",
       "    <tr>\n",
       "      <th>Virat Kohli</th>\n",
       "      <td>302</td>\n",
       "      <td>289</td>\n",
       "      <td>13906</td>\n",
       "      <td>58.07</td>\n",
       "      <td>93.58</td>\n",
       "      <td>4</td>\n",
       "    </tr>\n",
       "    <tr>\n",
       "      <th>Rohit Sharma</th>\n",
       "      <td>262</td>\n",
       "      <td>256</td>\n",
       "      <td>10709</td>\n",
       "      <td>48.96</td>\n",
       "      <td>91.72</td>\n",
       "      <td>8</td>\n",
       "    </tr>\n",
       "    <tr>\n",
       "      <th>Babar Azam</th>\n",
       "      <td>120</td>\n",
       "      <td>120</td>\n",
       "      <td>5084</td>\n",
       "      <td>56.81</td>\n",
       "      <td>89.12</td>\n",
       "      <td>1</td>\n",
       "    </tr>\n",
       "    <tr>\n",
       "      <th>Steve Smith</th>\n",
       "      <td>195</td>\n",
       "      <td>182</td>\n",
       "      <td>9449</td>\n",
       "      <td>46.82</td>\n",
       "      <td>82.34</td>\n",
       "      <td>0</td>\n",
       "    </tr>\n",
       "    <tr>\n",
       "      <th>Joe Root</th>\n",
       "      <td>171</td>\n",
       "      <td>167</td>\n",
       "      <td>7479</td>\n",
       "      <td>47.62</td>\n",
       "      <td>89.36</td>\n",
       "      <td>1</td>\n",
       "    </tr>\n",
       "    <tr>\n",
       "      <th>...</th>\n",
       "      <td>...</td>\n",
       "      <td>...</td>\n",
       "      <td>...</td>\n",
       "      <td>...</td>\n",
       "      <td>...</td>\n",
       "      <td>...</td>\n",
       "    </tr>\n",
       "    <tr>\n",
       "      <th>Mashrafe Mortaza</th>\n",
       "      <td>220</td>\n",
       "      <td>144</td>\n",
       "      <td>1787</td>\n",
       "      <td>13.75</td>\n",
       "      <td>87.45</td>\n",
       "      <td>270</td>\n",
       "    </tr>\n",
       "    <tr>\n",
       "      <th>Mehidy Hasan Miraz</th>\n",
       "      <td>78</td>\n",
       "      <td>49</td>\n",
       "      <td>803</td>\n",
       "      <td>21.67</td>\n",
       "      <td>78.90</td>\n",
       "      <td>78</td>\n",
       "    </tr>\n",
       "    <tr>\n",
       "      <th>Liton Das</th>\n",
       "      <td>70</td>\n",
       "      <td>69</td>\n",
       "      <td>2231</td>\n",
       "      <td>34.32</td>\n",
       "      <td>85.67</td>\n",
       "      <td>0</td>\n",
       "    </tr>\n",
       "    <tr>\n",
       "      <th>Imrul Kayes</th>\n",
       "      <td>78</td>\n",
       "      <td>78</td>\n",
       "      <td>2434</td>\n",
       "      <td>31.20</td>\n",
       "      <td>71.23</td>\n",
       "      <td>0</td>\n",
       "    </tr>\n",
       "    <tr>\n",
       "      <th>Soumya Sarkar</th>\n",
       "      <td>64</td>\n",
       "      <td>60</td>\n",
       "      <td>1768</td>\n",
       "      <td>30.48</td>\n",
       "      <td>95.45</td>\n",
       "      <td>0</td>\n",
       "    </tr>\n",
       "  </tbody>\n",
       "</table>\n",
       "<p>197 rows × 6 columns</p>\n",
       "</div>"
      ],
      "text/plain": [
       "                    Matches  Innings   Runs  Average  Strike Rate  Wickets\n",
       "Player Name                                                               \n",
       "Virat Kohli             302      289  13906    58.07        93.58        4\n",
       "Rohit Sharma            262      256  10709    48.96        91.72        8\n",
       "Babar Azam              120      120   5084    56.81        89.12        1\n",
       "Steve Smith             195      182   9449    46.82        82.34        0\n",
       "Joe Root                171      167   7479    47.62        89.36        1\n",
       "...                     ...      ...    ...      ...          ...      ...\n",
       "Mashrafe Mortaza        220      144   1787    13.75        87.45      270\n",
       "Mehidy Hasan Miraz       78       49    803    21.67        78.90       78\n",
       "Liton Das                70       69   2231    34.32        85.67        0\n",
       "Imrul Kayes              78       78   2434    31.20        71.23        0\n",
       "Soumya Sarkar            64       60   1768    30.48        95.45        0\n",
       "\n",
       "[197 rows x 6 columns]"
      ]
     },
     "execution_count": 4,
     "metadata": {},
     "output_type": "execute_result"
    }
   ],
   "source": [
    "# show dataframe\n",
    "df"
   ]
  },
  {
   "cell_type": "markdown",
   "id": "e4a4f19e-8d4f-4e6f-9dbd-f642c63fb0b8",
   "metadata": {},
   "source": [
    "##  Selecting with a single value\n",
    "##### iloc[row_positiom, column_position]"
   ]
  },
  {
   "cell_type": "code",
   "execution_count": 5,
   "id": "d92a81e3-1832-4d20-8a00-bb3acd0f49a3",
   "metadata": {},
   "outputs": [
    {
     "data": {
      "text/plain": [
       "np.int64(13906)"
      ]
     },
     "execution_count": 5,
     "metadata": {},
     "output_type": "execute_result"
    }
   ],
   "source": [
    "# get the runs of india\n",
    "df.iloc[0,2]"
   ]
  },
  {
   "cell_type": "code",
   "execution_count": 6,
   "id": "d9ec8f62-ae25-4ed5-97d6-0b4d5ea83f82",
   "metadata": {},
   "outputs": [
    {
     "data": {
      "text/plain": [
       "Matches      262.00\n",
       "Innings      256.00\n",
       "Runs       10709.00\n",
       "Average       48.96\n",
       "Name: Rohit Sharma, dtype: float64"
      ]
     },
     "execution_count": 6,
     "metadata": {},
     "output_type": "execute_result"
    }
   ],
   "source": [
    "df.iloc[1,0:4]"
   ]
  },
  {
   "cell_type": "code",
   "execution_count": 7,
   "id": "e33ee244-1f14-4b7d-bd34-c6465730180c",
   "metadata": {},
   "outputs": [
    {
     "data": {
      "text/plain": [
       "Matches      302.00\n",
       "Innings      289.00\n",
       "Runs       13906.00\n",
       "Average       58.07\n",
       "Name: Virat Kohli, dtype: float64"
      ]
     },
     "execution_count": 7,
     "metadata": {},
     "output_type": "execute_result"
    }
   ],
   "source": [
    "df.iloc[0,0:4]"
   ]
  },
  {
   "cell_type": "code",
   "execution_count": 8,
   "id": "61a4886c-de45-4d10-bb1e-36563fca30ca",
   "metadata": {},
   "outputs": [
    {
     "data": {
      "text/plain": [
       "Player Name\n",
       "Virat Kohli           93.58\n",
       "Rohit Sharma          91.72\n",
       "Babar Azam            89.12\n",
       "Steve Smith           82.34\n",
       "Joe Root              89.36\n",
       "                      ...  \n",
       "Mashrafe Mortaza      87.45\n",
       "Mehidy Hasan Miraz    78.90\n",
       "Liton Das             85.67\n",
       "Imrul Kayes           71.23\n",
       "Soumya Sarkar         95.45\n",
       "Name: Strike Rate, Length: 197, dtype: float64"
      ]
     },
     "execution_count": 8,
     "metadata": {},
     "output_type": "execute_result"
    }
   ],
   "source": [
    "# get all rows inside the \"Strike Rate\" column\n",
    "df.iloc[:,4]"
   ]
  },
  {
   "cell_type": "code",
   "execution_count": 9,
   "id": "4323caf8-0cdb-469c-893b-415c707cafcc",
   "metadata": {},
   "outputs": [
    {
     "data": {
      "text/plain": [
       "Player Name\n",
       "Virat Kohli             4\n",
       "Rohit Sharma            8\n",
       "Babar Azam              1\n",
       "Steve Smith             0\n",
       "Joe Root                1\n",
       "                     ... \n",
       "Mashrafe Mortaza      270\n",
       "Mehidy Hasan Miraz     78\n",
       "Liton Das               0\n",
       "Imrul Kayes             0\n",
       "Soumya Sarkar           0\n",
       "Name: Wickets, Length: 197, dtype: int64"
      ]
     },
     "execution_count": 9,
     "metadata": {},
     "output_type": "execute_result"
    }
   ],
   "source": [
    "# get all rows inside the \"Wickets\" column\n",
    "df.iloc[:,5]"
   ]
  },
  {
   "cell_type": "code",
   "execution_count": 10,
   "id": "38e57b0c-0110-4107-b421-131704c4f42f",
   "metadata": {},
   "outputs": [
    {
     "data": {
      "text/plain": [
       "Matches          262.00\n",
       "Innings          256.00\n",
       "Runs           10709.00\n",
       "Average           48.96\n",
       "Strike Rate       91.72\n",
       "Wickets            8.00\n",
       "Name: Rohit Sharma, dtype: float64"
      ]
     },
     "execution_count": 10,
     "metadata": {},
     "output_type": "execute_result"
    }
   ],
   "source": [
    "# get all columns that correspond to the index \"Rohit sharma\"\n",
    "df.iloc[1,:]"
   ]
  },
  {
   "cell_type": "code",
   "execution_count": 11,
   "id": "2c94d799-0a33-479c-bf3a-d58b8cb75dfd",
   "metadata": {},
   "outputs": [
    {
     "data": {
      "text/html": [
       "<div>\n",
       "<style scoped>\n",
       "    .dataframe tbody tr th:only-of-type {\n",
       "        vertical-align: middle;\n",
       "    }\n",
       "\n",
       "    .dataframe tbody tr th {\n",
       "        vertical-align: top;\n",
       "    }\n",
       "\n",
       "    .dataframe thead th {\n",
       "        text-align: right;\n",
       "    }\n",
       "</style>\n",
       "<table border=\"1\" class=\"dataframe\">\n",
       "  <thead>\n",
       "    <tr style=\"text-align: right;\">\n",
       "      <th></th>\n",
       "      <th>Matches</th>\n",
       "      <th>Innings</th>\n",
       "      <th>Runs</th>\n",
       "      <th>Average</th>\n",
       "      <th>Strike Rate</th>\n",
       "      <th>Wickets</th>\n",
       "    </tr>\n",
       "    <tr>\n",
       "      <th>Player Name</th>\n",
       "      <th></th>\n",
       "      <th></th>\n",
       "      <th></th>\n",
       "      <th></th>\n",
       "      <th></th>\n",
       "      <th></th>\n",
       "    </tr>\n",
       "  </thead>\n",
       "  <tbody>\n",
       "    <tr>\n",
       "      <th>Rohit Sharma</th>\n",
       "      <td>262</td>\n",
       "      <td>256</td>\n",
       "      <td>10709</td>\n",
       "      <td>48.96</td>\n",
       "      <td>91.72</td>\n",
       "      <td>8</td>\n",
       "    </tr>\n",
       "    <tr>\n",
       "      <th>Babar Azam</th>\n",
       "      <td>120</td>\n",
       "      <td>120</td>\n",
       "      <td>5084</td>\n",
       "      <td>56.81</td>\n",
       "      <td>89.12</td>\n",
       "      <td>1</td>\n",
       "    </tr>\n",
       "    <tr>\n",
       "      <th>Steve Smith</th>\n",
       "      <td>195</td>\n",
       "      <td>182</td>\n",
       "      <td>9449</td>\n",
       "      <td>46.82</td>\n",
       "      <td>82.34</td>\n",
       "      <td>0</td>\n",
       "    </tr>\n",
       "    <tr>\n",
       "      <th>Joe Root</th>\n",
       "      <td>171</td>\n",
       "      <td>167</td>\n",
       "      <td>7479</td>\n",
       "      <td>47.62</td>\n",
       "      <td>89.36</td>\n",
       "      <td>1</td>\n",
       "    </tr>\n",
       "  </tbody>\n",
       "</table>\n",
       "</div>"
      ],
      "text/plain": [
       "              Matches  Innings   Runs  Average  Strike Rate  Wickets\n",
       "Player Name                                                         \n",
       "Rohit Sharma      262      256  10709    48.96        91.72        8\n",
       "Babar Azam        120      120   5084    56.81        89.12        1\n",
       "Steve Smith       195      182   9449    46.82        82.34        0\n",
       "Joe Root          171      167   7479    47.62        89.36        1"
      ]
     },
     "execution_count": 11,
     "metadata": {},
     "output_type": "execute_result"
    }
   ],
   "source": [
    "df.iloc[1:5, :]"
   ]
  },
  {
   "cell_type": "markdown",
   "id": "8b9c6ae9-e62e-424f-8695-976582600cc7",
   "metadata": {},
   "source": [
    "# Selecting with a list of values"
   ]
  },
  {
   "cell_type": "code",
   "execution_count": 12,
   "id": "e5aa7837-b528-42b6-b17e-2312c8c14081",
   "metadata": {},
   "outputs": [
    {
     "data": {
      "text/html": [
       "<div>\n",
       "<style scoped>\n",
       "    .dataframe tbody tr th:only-of-type {\n",
       "        vertical-align: middle;\n",
       "    }\n",
       "\n",
       "    .dataframe tbody tr th {\n",
       "        vertical-align: top;\n",
       "    }\n",
       "\n",
       "    .dataframe thead th {\n",
       "        text-align: right;\n",
       "    }\n",
       "</style>\n",
       "<table border=\"1\" class=\"dataframe\">\n",
       "  <thead>\n",
       "    <tr style=\"text-align: right;\">\n",
       "      <th></th>\n",
       "      <th>Matches</th>\n",
       "      <th>Innings</th>\n",
       "      <th>Runs</th>\n",
       "      <th>Average</th>\n",
       "      <th>Strike Rate</th>\n",
       "      <th>Wickets</th>\n",
       "    </tr>\n",
       "    <tr>\n",
       "      <th>Player Name</th>\n",
       "      <th></th>\n",
       "      <th></th>\n",
       "      <th></th>\n",
       "      <th></th>\n",
       "      <th></th>\n",
       "      <th></th>\n",
       "    </tr>\n",
       "  </thead>\n",
       "  <tbody>\n",
       "    <tr>\n",
       "      <th>Virat Kohli</th>\n",
       "      <td>302</td>\n",
       "      <td>289</td>\n",
       "      <td>13906</td>\n",
       "      <td>58.07</td>\n",
       "      <td>93.58</td>\n",
       "      <td>4</td>\n",
       "    </tr>\n",
       "    <tr>\n",
       "      <th>Rohit Sharma</th>\n",
       "      <td>262</td>\n",
       "      <td>256</td>\n",
       "      <td>10709</td>\n",
       "      <td>48.96</td>\n",
       "      <td>91.72</td>\n",
       "      <td>8</td>\n",
       "    </tr>\n",
       "  </tbody>\n",
       "</table>\n",
       "</div>"
      ],
      "text/plain": [
       "              Matches  Innings   Runs  Average  Strike Rate  Wickets\n",
       "Player Name                                                         \n",
       "Virat Kohli       302      289  13906    58.07        93.58        4\n",
       "Rohit Sharma      262      256  10709    48.96        91.72        8"
      ]
     },
     "execution_count": 12,
     "metadata": {},
     "output_type": "execute_result"
    }
   ],
   "source": [
    "# get all data about virat kohili and  rohit sharma\n",
    "\n",
    "df.iloc[[0,1]]"
   ]
  },
  {
   "cell_type": "code",
   "execution_count": 14,
   "id": "33e2489a-930b-4938-af75-8f6b3dd6f329",
   "metadata": {},
   "outputs": [
    {
     "data": {
      "text/plain": [
       "Player Name\n",
       "Virat Kohli     13906\n",
       "Rohit Sharma    10709\n",
       "Name: Runs, dtype: int64"
      ]
     },
     "execution_count": 14,
     "metadata": {},
     "output_type": "execute_result"
    }
   ],
   "source": [
    "# get the runs of virat kohli and rohit sharma\n",
    "df.iloc[[0,1],2]"
   ]
  },
  {
   "cell_type": "code",
   "execution_count": 16,
   "id": "ae0ec762-de53-4201-947a-0c73baa79474",
   "metadata": {},
   "outputs": [
    {
     "data": {
      "text/plain": [
       "Runs       10709.0\n",
       "Wickets        8.0\n",
       "Name: Rohit Sharma, dtype: float64"
      ]
     },
     "execution_count": 16,
     "metadata": {},
     "output_type": "execute_result"
    }
   ],
   "source": [
    "# get the runs and wickets of  rohit sharma\n",
    "# 1 is the index of the rohit shrama\n",
    "df.iloc[1,[2,5]]"
   ]
  },
  {
   "cell_type": "code",
   "execution_count": 17,
   "id": "f077e80e-773b-4786-a9b1-814089a4dfa1",
   "metadata": {},
   "outputs": [
    {
     "data": {
      "text/html": [
       "<div>\n",
       "<style scoped>\n",
       "    .dataframe tbody tr th:only-of-type {\n",
       "        vertical-align: middle;\n",
       "    }\n",
       "\n",
       "    .dataframe tbody tr th {\n",
       "        vertical-align: top;\n",
       "    }\n",
       "\n",
       "    .dataframe thead th {\n",
       "        text-align: right;\n",
       "    }\n",
       "</style>\n",
       "<table border=\"1\" class=\"dataframe\">\n",
       "  <thead>\n",
       "    <tr style=\"text-align: right;\">\n",
       "      <th></th>\n",
       "      <th>Runs</th>\n",
       "      <th>Wickets</th>\n",
       "    </tr>\n",
       "    <tr>\n",
       "      <th>Player Name</th>\n",
       "      <th></th>\n",
       "      <th></th>\n",
       "    </tr>\n",
       "  </thead>\n",
       "  <tbody>\n",
       "    <tr>\n",
       "      <th>Virat Kohli</th>\n",
       "      <td>13906</td>\n",
       "      <td>4</td>\n",
       "    </tr>\n",
       "    <tr>\n",
       "      <th>Rohit Sharma</th>\n",
       "      <td>10709</td>\n",
       "      <td>8</td>\n",
       "    </tr>\n",
       "  </tbody>\n",
       "</table>\n",
       "</div>"
      ],
      "text/plain": [
       "               Runs  Wickets\n",
       "Player Name                 \n",
       "Virat Kohli   13906        4\n",
       "Rohit Sharma  10709        8"
      ]
     },
     "execution_count": 17,
     "metadata": {},
     "output_type": "execute_result"
    }
   ],
   "source": [
    "# get the runs and wickets of virat kohli and rohit sharma\n",
    "df.iloc[[0,1],[2,5]]"
   ]
  },
  {
   "cell_type": "markdown",
   "id": "02c71fe8-6113-459f-8387-3518137b6414",
   "metadata": {},
   "source": [
    "# "
   ]
  }
 ],
 "metadata": {
  "kernelspec": {
   "display_name": "Python 3 (ipykernel)",
   "language": "python",
   "name": "python3"
  },
  "language_info": {
   "codemirror_mode": {
    "name": "ipython",
    "version": 3
   },
   "file_extension": ".py",
   "mimetype": "text/x-python",
   "name": "python",
   "nbconvert_exporter": "python",
   "pygments_lexer": "ipython3",
   "version": "3.13.0"
  }
 },
 "nbformat": 4,
 "nbformat_minor": 5
}
