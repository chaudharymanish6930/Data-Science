{
 "cells": [
  {
   "cell_type": "code",
   "execution_count": 1,
   "id": "c47ea645-69b9-4920-a5e5-efa6c7292bee",
   "metadata": {},
   "outputs": [
    {
     "data": {
      "text/html": [
       "<div>\n",
       "<style scoped>\n",
       "    .dataframe tbody tr th:only-of-type {\n",
       "        vertical-align: middle;\n",
       "    }\n",
       "\n",
       "    .dataframe tbody tr th {\n",
       "        vertical-align: top;\n",
       "    }\n",
       "\n",
       "    .dataframe thead th {\n",
       "        text-align: right;\n",
       "    }\n",
       "</style>\n",
       "<table border=\"1\" class=\"dataframe\">\n",
       "  <thead>\n",
       "    <tr style=\"text-align: right;\">\n",
       "      <th></th>\n",
       "      <th>name</th>\n",
       "      <th>maths</th>\n",
       "      <th>hindi</th>\n",
       "      <th>english</th>\n",
       "      <th>gender</th>\n",
       "      <th>class</th>\n",
       "    </tr>\n",
       "  </thead>\n",
       "  <tbody>\n",
       "    <tr>\n",
       "      <th>0</th>\n",
       "      <td>a</td>\n",
       "      <td>12</td>\n",
       "      <td>23</td>\n",
       "      <td>56</td>\n",
       "      <td>f</td>\n",
       "      <td>12th</td>\n",
       "    </tr>\n",
       "    <tr>\n",
       "      <th>1</th>\n",
       "      <td>b</td>\n",
       "      <td>43</td>\n",
       "      <td>54</td>\n",
       "      <td>88</td>\n",
       "      <td>f</td>\n",
       "      <td>2nd</td>\n",
       "    </tr>\n",
       "    <tr>\n",
       "      <th>2</th>\n",
       "      <td>c</td>\n",
       "      <td>54</td>\n",
       "      <td>67</td>\n",
       "      <td>98</td>\n",
       "      <td>f</td>\n",
       "      <td>5th</td>\n",
       "    </tr>\n",
       "    <tr>\n",
       "      <th>3</th>\n",
       "      <td>d</td>\n",
       "      <td>55</td>\n",
       "      <td>87</td>\n",
       "      <td>99</td>\n",
       "      <td>m</td>\n",
       "      <td>7th</td>\n",
       "    </tr>\n",
       "    <tr>\n",
       "      <th>4</th>\n",
       "      <td>e</td>\n",
       "      <td>34</td>\n",
       "      <td>56</td>\n",
       "      <td>87</td>\n",
       "      <td>m</td>\n",
       "      <td>9th</td>\n",
       "    </tr>\n",
       "    <tr>\n",
       "      <th>5</th>\n",
       "      <td>f</td>\n",
       "      <td>65</td>\n",
       "      <td>43</td>\n",
       "      <td>70</td>\n",
       "      <td>f</td>\n",
       "      <td>12th</td>\n",
       "    </tr>\n",
       "    <tr>\n",
       "      <th>6</th>\n",
       "      <td>g</td>\n",
       "      <td>66</td>\n",
       "      <td>98</td>\n",
       "      <td>76</td>\n",
       "      <td>m</td>\n",
       "      <td>10th</td>\n",
       "    </tr>\n",
       "    <tr>\n",
       "      <th>7</th>\n",
       "      <td>h</td>\n",
       "      <td>98</td>\n",
       "      <td>12</td>\n",
       "      <td>88</td>\n",
       "      <td>m</td>\n",
       "      <td>6th</td>\n",
       "    </tr>\n",
       "    <tr>\n",
       "      <th>8</th>\n",
       "      <td>i</td>\n",
       "      <td>65</td>\n",
       "      <td>45</td>\n",
       "      <td>56</td>\n",
       "      <td>m</td>\n",
       "      <td>8th</td>\n",
       "    </tr>\n",
       "    <tr>\n",
       "      <th>9</th>\n",
       "      <td>j</td>\n",
       "      <td>55</td>\n",
       "      <td>67</td>\n",
       "      <td>76</td>\n",
       "      <td>f</td>\n",
       "      <td>9th</td>\n",
       "    </tr>\n",
       "    <tr>\n",
       "      <th>10</th>\n",
       "      <td>k</td>\n",
       "      <td>45</td>\n",
       "      <td>98</td>\n",
       "      <td>78</td>\n",
       "      <td>m</td>\n",
       "      <td>11th</td>\n",
       "    </tr>\n",
       "    <tr>\n",
       "      <th>11</th>\n",
       "      <td>l</td>\n",
       "      <td>98</td>\n",
       "      <td>98</td>\n",
       "      <td>54</td>\n",
       "      <td>f</td>\n",
       "      <td>7th</td>\n",
       "    </tr>\n",
       "    <tr>\n",
       "      <th>12</th>\n",
       "      <td>m</td>\n",
       "      <td>67</td>\n",
       "      <td>65</td>\n",
       "      <td>34</td>\n",
       "      <td>m</td>\n",
       "      <td>8th</td>\n",
       "    </tr>\n",
       "  </tbody>\n",
       "</table>\n",
       "</div>"
      ],
      "text/plain": [
       "   name  maths  hindi  english gender class\n",
       "0     a     12     23       56      f  12th\n",
       "1     b     43     54       88      f   2nd\n",
       "2     c     54     67       98      f   5th\n",
       "3     d     55     87       99      m   7th\n",
       "4     e     34     56       87      m   9th\n",
       "5     f     65     43       70      f  12th\n",
       "6     g     66     98       76      m  10th\n",
       "7     h     98     12       88      m   6th\n",
       "8     i     65     45       56      m   8th\n",
       "9     j     55     67       76      f   9th\n",
       "10    k     45     98       78      m  11th\n",
       "11    l     98     98       54      f   7th\n",
       "12    m     67     65       34      m   8th"
      ]
     },
     "execution_count": 1,
     "metadata": {},
     "output_type": "execute_result"
    }
   ],
   "source": [
    "import pandas as pd\n",
    "df = pd.read_csv(\"students.csv\")\n",
    "df"
   ]
  },
  {
   "cell_type": "markdown",
   "id": "1f253f05-b2cf-4d59-8e74-9eeb3f2c56bd",
   "metadata": {},
   "source": [
    "# 1 Value Count"
   ]
  },
  {
   "cell_type": "code",
   "execution_count": 2,
   "id": "586ee022-dd1b-4e25-9dfe-2ff1ed3c1d74",
   "metadata": {},
   "outputs": [
    {
     "data": {
      "text/plain": [
       "13"
      ]
     },
     "execution_count": 2,
     "metadata": {},
     "output_type": "execute_result"
    }
   ],
   "source": [
    "# counting gender elements\n",
    "# length of gender colunm\n",
    "len(df['gender'])"
   ]
  },
  {
   "cell_type": "code",
   "execution_count": 4,
   "id": "e7b7ce1b-9a9a-49bd-a63f-457817b02d01",
   "metadata": {},
   "outputs": [
    {
     "data": {
      "text/plain": [
       "np.int64(13)"
      ]
     },
     "execution_count": 4,
     "metadata": {},
     "output_type": "execute_result"
    }
   ],
   "source": [
    "(df['gender']).count()"
   ]
  },
  {
   "cell_type": "code",
   "execution_count": 7,
   "id": "99472393-ee7d-4257-a1e0-444677c9c27e",
   "metadata": {},
   "outputs": [
    {
     "data": {
      "text/plain": [
       "gender\n",
       "m    7\n",
       "f    6\n",
       "Name: count, dtype: int64"
      ]
     },
     "execution_count": 7,
     "metadata": {},
     "output_type": "execute_result"
    }
   ],
   "source": [
    "# counting the gender by category\n",
    "df['gender'].value_counts()"
   ]
  },
  {
   "cell_type": "code",
   "execution_count": 8,
   "id": "28208975-40c4-4745-b2e5-175f1a030bab",
   "metadata": {},
   "outputs": [
    {
     "data": {
      "text/plain": [
       "gender\n",
       "m    0.538462\n",
       "f    0.461538\n",
       "Name: proportion, dtype: float64"
      ]
     },
     "execution_count": 8,
     "metadata": {},
     "output_type": "execute_result"
    }
   ],
   "source": [
    "# return realtive frequency (divide all values by the sum of valuse)\n",
    "df['gender'].value_counts(normalize= True)"
   ]
  },
  {
   "cell_type": "code",
   "execution_count": 9,
   "id": "35250cbe-5853-4402-bb06-b606fae7b8b3",
   "metadata": {},
   "outputs": [
    {
     "data": {
      "text/plain": [
       "class\n",
       "12th    2\n",
       "9th     2\n",
       "7th     2\n",
       "8th     2\n",
       "5th     1\n",
       "2nd     1\n",
       "10th    1\n",
       "6th     1\n",
       "11th    1\n",
       "Name: count, dtype: int64"
      ]
     },
     "execution_count": 9,
     "metadata": {},
     "output_type": "execute_result"
    }
   ],
   "source": [
    "# counting the \"class\" elm]ements by the categories\n",
    "df['class'].value_counts()"
   ]
  },
  {
   "cell_type": "code",
   "execution_count": 10,
   "id": "63f445e2-ca48-4a46-a1f8-7a9e5764c941",
   "metadata": {},
   "outputs": [
    {
     "data": {
      "text/plain": [
       "class\n",
       "12th    0.153846\n",
       "9th     0.153846\n",
       "7th     0.153846\n",
       "8th     0.153846\n",
       "5th     0.076923\n",
       "2nd     0.076923\n",
       "10th    0.076923\n",
       "6th     0.076923\n",
       "11th    0.076923\n",
       "Name: proportion, dtype: float64"
      ]
     },
     "execution_count": 10,
     "metadata": {},
     "output_type": "execute_result"
    }
   ],
   "source": [
    "df['class'].value_counts(normalize=True)"
   ]
  },
  {
   "cell_type": "code",
   "execution_count": 11,
   "id": "e934d728-287d-4cb1-a652-4ad6c81f7ea7",
   "metadata": {},
   "outputs": [
    {
     "data": {
      "text/plain": [
       "class\n",
       "12th    0.15\n",
       "9th     0.15\n",
       "7th     0.15\n",
       "8th     0.15\n",
       "5th     0.08\n",
       "2nd     0.08\n",
       "10th    0.08\n",
       "6th     0.08\n",
       "11th    0.08\n",
       "Name: proportion, dtype: float64"
      ]
     },
     "execution_count": 11,
     "metadata": {},
     "output_type": "execute_result"
    }
   ],
   "source": [
    "df['class'].value_counts(normalize=True).round(2)"
   ]
  },
  {
   "cell_type": "code",
   "execution_count": 12,
   "id": "5b3765d1-ba3e-4408-9089-13d2c8b8c0b2",
   "metadata": {},
   "outputs": [
    {
     "data": {
      "text/plain": [
       "maths\n",
       "65    2\n",
       "55    2\n",
       "98    2\n",
       "12    1\n",
       "43    1\n",
       "54    1\n",
       "34    1\n",
       "66    1\n",
       "45    1\n",
       "67    1\n",
       "Name: count, dtype: int64"
      ]
     },
     "execution_count": 12,
     "metadata": {},
     "output_type": "execute_result"
    }
   ],
   "source": [
    "df[\"maths\"].value_counts()"
   ]
  }
 ],
 "metadata": {
  "kernelspec": {
   "display_name": "Python 3 (ipykernel)",
   "language": "python",
   "name": "python3"
  },
  "language_info": {
   "codemirror_mode": {
    "name": "ipython",
    "version": 3
   },
   "file_extension": ".py",
   "mimetype": "text/x-python",
   "name": "python",
   "nbconvert_exporter": "python",
   "pygments_lexer": "ipython3",
   "version": "3.13.0"
  }
 },
 "nbformat": 4,
 "nbformat_minor": 5
}
