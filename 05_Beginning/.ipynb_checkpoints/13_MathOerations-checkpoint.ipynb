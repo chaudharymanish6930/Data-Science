{
 "cells": [
  {
   "cell_type": "code",
   "execution_count": 2,
   "id": "4b479b6f-4b3c-4e2d-833e-ad75fc0318c7",
   "metadata": {},
   "outputs": [
    {
     "data": {
      "text/html": [
       "<div>\n",
       "<style scoped>\n",
       "    .dataframe tbody tr th:only-of-type {\n",
       "        vertical-align: middle;\n",
       "    }\n",
       "\n",
       "    .dataframe tbody tr th {\n",
       "        vertical-align: top;\n",
       "    }\n",
       "\n",
       "    .dataframe thead th {\n",
       "        text-align: right;\n",
       "    }\n",
       "</style>\n",
       "<table border=\"1\" class=\"dataframe\">\n",
       "  <thead>\n",
       "    <tr style=\"text-align: right;\">\n",
       "      <th></th>\n",
       "      <th>Name</th>\n",
       "      <th>age</th>\n",
       "      <th>classs</th>\n",
       "      <th>grade</th>\n",
       "      <th>gender</th>\n",
       "    </tr>\n",
       "  </thead>\n",
       "  <tbody>\n",
       "    <tr>\n",
       "      <th>0</th>\n",
       "      <td>shivam</td>\n",
       "      <td>3</td>\n",
       "      <td>12th</td>\n",
       "      <td>a</td>\n",
       "      <td>f</td>\n",
       "    </tr>\n",
       "    <tr>\n",
       "      <th>1</th>\n",
       "      <td>rohit</td>\n",
       "      <td>2</td>\n",
       "      <td>8th</td>\n",
       "      <td>b</td>\n",
       "      <td>m</td>\n",
       "    </tr>\n",
       "    <tr>\n",
       "      <th>2</th>\n",
       "      <td>chetan</td>\n",
       "      <td>12</td>\n",
       "      <td>6th</td>\n",
       "      <td>c</td>\n",
       "      <td>m</td>\n",
       "    </tr>\n",
       "    <tr>\n",
       "      <th>3</th>\n",
       "      <td>asshish</td>\n",
       "      <td>32</td>\n",
       "      <td>9th</td>\n",
       "      <td>b</td>\n",
       "      <td>m</td>\n",
       "    </tr>\n",
       "    <tr>\n",
       "      <th>4</th>\n",
       "      <td>mohit</td>\n",
       "      <td>12</td>\n",
       "      <td>10th</td>\n",
       "      <td>d</td>\n",
       "      <td>m</td>\n",
       "    </tr>\n",
       "    <tr>\n",
       "      <th>5</th>\n",
       "      <td>asshmit</td>\n",
       "      <td>12</td>\n",
       "      <td>4th</td>\n",
       "      <td>e</td>\n",
       "      <td>m</td>\n",
       "    </tr>\n",
       "    <tr>\n",
       "      <th>6</th>\n",
       "      <td>tahsu</td>\n",
       "      <td>1</td>\n",
       "      <td>12th</td>\n",
       "      <td>a</td>\n",
       "      <td>f</td>\n",
       "    </tr>\n",
       "    <tr>\n",
       "      <th>7</th>\n",
       "      <td>priya</td>\n",
       "      <td>23</td>\n",
       "      <td>5th</td>\n",
       "      <td>b</td>\n",
       "      <td>f</td>\n",
       "    </tr>\n",
       "    <tr>\n",
       "      <th>8</th>\n",
       "      <td>sweety</td>\n",
       "      <td>4</td>\n",
       "      <td>7th</td>\n",
       "      <td>d</td>\n",
       "      <td>f</td>\n",
       "    </tr>\n",
       "    <tr>\n",
       "      <th>9</th>\n",
       "      <td>cheery</td>\n",
       "      <td>35</td>\n",
       "      <td>9th</td>\n",
       "      <td>b</td>\n",
       "      <td>f</td>\n",
       "    </tr>\n",
       "    <tr>\n",
       "      <th>10</th>\n",
       "      <td>candy</td>\n",
       "      <td>65</td>\n",
       "      <td>4th</td>\n",
       "      <td>e</td>\n",
       "      <td>f</td>\n",
       "    </tr>\n",
       "    <tr>\n",
       "      <th>11</th>\n",
       "      <td>chiku</td>\n",
       "      <td>4</td>\n",
       "      <td>8th</td>\n",
       "      <td>c</td>\n",
       "      <td>m</td>\n",
       "    </tr>\n",
       "    <tr>\n",
       "      <th>12</th>\n",
       "      <td>mohit</td>\n",
       "      <td>67</td>\n",
       "      <td>4th</td>\n",
       "      <td>f</td>\n",
       "      <td>m</td>\n",
       "    </tr>\n",
       "  </tbody>\n",
       "</table>\n",
       "</div>"
      ],
      "text/plain": [
       "       Name  age classs grade gender\n",
       "0    shivam    3   12th     a      f\n",
       "1     rohit    2    8th     b      m\n",
       "2    chetan   12    6th     c      m\n",
       "3   asshish   32    9th     b      m\n",
       "4     mohit   12   10th     d      m\n",
       "5   asshmit   12    4th     e      m\n",
       "6     tahsu    1   12th     a      f\n",
       "7     priya   23    5th     b      f\n",
       "8    sweety    4    7th     d      f\n",
       "9    cheery   35    9th     b      f\n",
       "10   candy    65    4th     e      f\n",
       "11    chiku    4    8th     c      m\n",
       "12    mohit   67    4th     f      m"
      ]
     },
     "execution_count": 2,
     "metadata": {},
     "output_type": "execute_result"
    }
   ],
   "source": [
    "import pandas as pd\n",
    "df= pd.read_csv(\"mycsvfile.csv\")\n",
    "df"
   ]
  },
  {
   "cell_type": "markdown",
   "id": "efd95077-7c08-446c-8aca-1c633428e83b",
   "metadata": {},
   "source": [
    "# 1 Math Operation"
   ]
  },
  {
   "cell_type": "markdown",
   "id": "df4a5d14-1254-47cf-9c5e-8bea14ecfa4e",
   "metadata": {},
   "source": [
    "## 1.1 operations In Colunms"
   ]
  },
  {
   "cell_type": "code",
   "execution_count": 3,
   "id": "aed03e71-c61e-4c7a-8378-a422a0cdcb14",
   "metadata": {},
   "outputs": [
    {
     "data": {
      "text/plain": [
       "np.int64(272)"
      ]
     },
     "execution_count": 3,
     "metadata": {},
     "output_type": "execute_result"
    }
   ],
   "source": [
    "# select the colunm and sum\n",
    "df['age'].sum()"
   ]
  },
  {
   "cell_type": "code",
   "execution_count": 4,
   "id": "bb53fbef-0d7d-4305-956e-09b6b1981e4c",
   "metadata": {},
   "outputs": [
    {
     "data": {
      "text/plain": [
       "np.int64(13)"
      ]
     },
     "execution_count": 4,
     "metadata": {},
     "output_type": "execute_result"
    }
   ],
   "source": [
    "# count \n",
    "df['age'].count()"
   ]
  },
  {
   "cell_type": "code",
   "execution_count": 5,
   "id": "fc21311c-5384-4fc0-ad76-2579f3f1edbe",
   "metadata": {},
   "outputs": [
    {
     "data": {
      "text/plain": [
       "np.float64(20.923076923076923)"
      ]
     },
     "execution_count": 5,
     "metadata": {},
     "output_type": "execute_result"
    }
   ],
   "source": [
    "# mean\n",
    "df['age'].mean()"
   ]
  },
  {
   "cell_type": "code",
   "execution_count": 6,
   "id": "755f540f-2bdb-4e08-91d7-6860b5554b5f",
   "metadata": {},
   "outputs": [
    {
     "data": {
      "text/plain": [
       "22.87451834998039"
      ]
     },
     "execution_count": 6,
     "metadata": {},
     "output_type": "execute_result"
    }
   ],
   "source": [
    "# std\n",
    "df['age'].std()"
   ]
  },
  {
   "cell_type": "code",
   "execution_count": 7,
   "id": "d76b1201-f7aa-46bb-a04d-9a320a657485",
   "metadata": {},
   "outputs": [
    {
     "data": {
      "text/plain": [
       "67"
      ]
     },
     "execution_count": 7,
     "metadata": {},
     "output_type": "execute_result"
    }
   ],
   "source": [
    "df['age'].max()"
   ]
  },
  {
   "cell_type": "code",
   "execution_count": 8,
   "id": "e14139e4-c689-4e31-b256-c5d6aa237071",
   "metadata": {},
   "outputs": [
    {
     "data": {
      "text/plain": [
       "1"
      ]
     },
     "execution_count": 8,
     "metadata": {},
     "output_type": "execute_result"
    }
   ],
   "source": [
    "df['age'].min()"
   ]
  },
  {
   "cell_type": "code",
   "execution_count": 9,
   "id": "6a49f836-bf09-4548-8cc3-61368f22bec9",
   "metadata": {},
   "outputs": [
    {
     "data": {
      "text/html": [
       "<div>\n",
       "<style scoped>\n",
       "    .dataframe tbody tr th:only-of-type {\n",
       "        vertical-align: middle;\n",
       "    }\n",
       "\n",
       "    .dataframe tbody tr th {\n",
       "        vertical-align: top;\n",
       "    }\n",
       "\n",
       "    .dataframe thead th {\n",
       "        text-align: right;\n",
       "    }\n",
       "</style>\n",
       "<table border=\"1\" class=\"dataframe\">\n",
       "  <thead>\n",
       "    <tr style=\"text-align: right;\">\n",
       "      <th></th>\n",
       "      <th>age</th>\n",
       "    </tr>\n",
       "  </thead>\n",
       "  <tbody>\n",
       "    <tr>\n",
       "      <th>count</th>\n",
       "      <td>13.000000</td>\n",
       "    </tr>\n",
       "    <tr>\n",
       "      <th>mean</th>\n",
       "      <td>20.923077</td>\n",
       "    </tr>\n",
       "    <tr>\n",
       "      <th>std</th>\n",
       "      <td>22.874518</td>\n",
       "    </tr>\n",
       "    <tr>\n",
       "      <th>min</th>\n",
       "      <td>1.000000</td>\n",
       "    </tr>\n",
       "    <tr>\n",
       "      <th>25%</th>\n",
       "      <td>4.000000</td>\n",
       "    </tr>\n",
       "    <tr>\n",
       "      <th>50%</th>\n",
       "      <td>12.000000</td>\n",
       "    </tr>\n",
       "    <tr>\n",
       "      <th>75%</th>\n",
       "      <td>32.000000</td>\n",
       "    </tr>\n",
       "    <tr>\n",
       "      <th>max</th>\n",
       "      <td>67.000000</td>\n",
       "    </tr>\n",
       "  </tbody>\n",
       "</table>\n",
       "</div>"
      ],
      "text/plain": [
       "             age\n",
       "count  13.000000\n",
       "mean   20.923077\n",
       "std    22.874518\n",
       "min     1.000000\n",
       "25%     4.000000\n",
       "50%    12.000000\n",
       "75%    32.000000\n",
       "max    67.000000"
      ]
     },
     "execution_count": 9,
     "metadata": {},
     "output_type": "execute_result"
    }
   ],
   "source": [
    "# easier Calculation with .describe()\n",
    "df.describe()"
   ]
  },
  {
   "cell_type": "markdown",
   "id": "f46ff3c9-bb41-4302-b662-a4d2459b273e",
   "metadata": {},
   "source": [
    "# 1.2 Operation on ROWs"
   ]
  }
 ],
 "metadata": {
  "kernelspec": {
   "display_name": "Python [conda env:base] *",
   "language": "python",
   "name": "conda-base-py"
  },
  "language_info": {
   "codemirror_mode": {
    "name": "ipython",
    "version": 3
   },
   "file_extension": ".py",
   "mimetype": "text/x-python",
   "name": "python",
   "nbconvert_exporter": "python",
   "pygments_lexer": "ipython3",
   "version": "3.13.5"
  }
 },
 "nbformat": 4,
 "nbformat_minor": 5
}
