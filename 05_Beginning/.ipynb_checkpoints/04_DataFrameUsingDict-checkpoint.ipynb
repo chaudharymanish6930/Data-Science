{
 "cells": [
  {
   "cell_type": "code",
   "execution_count": 1,
   "id": "d4c84c24-1ee8-4781-ac3a-359208513c6c",
   "metadata": {},
   "outputs": [],
   "source": [
    "import pandas as pd"
   ]
  },
  {
   "cell_type": "markdown",
   "id": "9a941bc8-c546-4e1b-95eb-1c5924050346",
   "metadata": {},
   "source": [
    "#  4. Create the DataFrame by using the Dictionary"
   ]
  },
  {
   "cell_type": "code",
   "execution_count": 2,
   "id": "bb50635a-cb8d-4f9d-aa59-ddde80829b6d",
   "metadata": {},
   "outputs": [],
   "source": [
    "# using the list in this example\n",
    "state =[\"uttar pradesh\", \"west Bnegal\", \"delhi\", \"haryana\"]\n",
    "population = [19348,57748,85744,85789]"
   ]
  },
  {
   "cell_type": "code",
   "execution_count": 3,
   "id": "5ff6bae5-f373-4868-a6a8-564945363e60",
   "metadata": {},
   "outputs": [],
   "source": [
    "#stroing the list in the dictionary\n",
    "dict_data ={\"state\":state,\"Populations\":population}"
   ]
  },
  {
   "cell_type": "code",
   "execution_count": 4,
   "id": "ab1d99d9-1984-4d95-8684-ed68de9c0597",
   "metadata": {},
   "outputs": [],
   "source": [
    "df_population = pd.DataFrame(dict_data)"
   ]
  },
  {
   "cell_type": "code",
   "execution_count": 5,
   "id": "619fc524-97a6-4574-a28d-76999306612e",
   "metadata": {},
   "outputs": [
    {
     "data": {
      "text/html": [
       "<div>\n",
       "<style scoped>\n",
       "    .dataframe tbody tr th:only-of-type {\n",
       "        vertical-align: middle;\n",
       "    }\n",
       "\n",
       "    .dataframe tbody tr th {\n",
       "        vertical-align: top;\n",
       "    }\n",
       "\n",
       "    .dataframe thead th {\n",
       "        text-align: right;\n",
       "    }\n",
       "</style>\n",
       "<table border=\"1\" class=\"dataframe\">\n",
       "  <thead>\n",
       "    <tr style=\"text-align: right;\">\n",
       "      <th></th>\n",
       "      <th>state</th>\n",
       "      <th>Populations</th>\n",
       "    </tr>\n",
       "  </thead>\n",
       "  <tbody>\n",
       "    <tr>\n",
       "      <th>0</th>\n",
       "      <td>uttar pradesh</td>\n",
       "      <td>19348</td>\n",
       "    </tr>\n",
       "    <tr>\n",
       "      <th>1</th>\n",
       "      <td>west Bnegal</td>\n",
       "      <td>57748</td>\n",
       "    </tr>\n",
       "    <tr>\n",
       "      <th>2</th>\n",
       "      <td>delhi</td>\n",
       "      <td>85744</td>\n",
       "    </tr>\n",
       "    <tr>\n",
       "      <th>3</th>\n",
       "      <td>haryana</td>\n",
       "      <td>85789</td>\n",
       "    </tr>\n",
       "  </tbody>\n",
       "</table>\n",
       "</div>"
      ],
      "text/plain": [
       "           state  Populations\n",
       "0  uttar pradesh        19348\n",
       "1    west Bnegal        57748\n",
       "2          delhi        85744\n",
       "3        haryana        85789"
      ]
     },
     "execution_count": 5,
     "metadata": {},
     "output_type": "execute_result"
    }
   ],
   "source": [
    "df_population"
   ]
  }
 ],
 "metadata": {
  "kernelspec": {
   "display_name": "Python [conda env:base] *",
   "language": "python",
   "name": "conda-base-py"
  },
  "language_info": {
   "codemirror_mode": {
    "name": "ipython",
    "version": 3
   },
   "file_extension": ".py",
   "mimetype": "text/x-python",
   "name": "python",
   "nbconvert_exporter": "python",
   "pygments_lexer": "ipython3",
   "version": "3.13.5"
  }
 },
 "nbformat": 4,
 "nbformat_minor": 5
}
