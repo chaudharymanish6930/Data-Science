{
 "cells": [
  {
   "cell_type": "markdown",
   "id": "6be0f186-eec4-4a5d-acee-5690e6a661a2",
   "metadata": {},
   "source": [
    "## Converts into Another Datatype"
   ]
  },
  {
   "cell_type": "code",
   "execution_count": 1,
   "id": "7dd20a36-8ed8-4f37-b5cc-5d9ffc0b8ef4",
   "metadata": {},
   "outputs": [],
   "source": [
    "import numpy as np"
   ]
  },
  {
   "cell_type": "code",
   "execution_count": 2,
   "id": "2580ae0c-9d79-47c2-82b0-7274995e9d62",
   "metadata": {},
   "outputs": [
    {
     "name": "stdout",
     "output_type": "stream",
     "text": [
      "[1.3 3.4 5.6 7.8]\n"
     ]
    }
   ],
   "source": [
    "arr=np.array([1.3, 3.4, 5.6, 7.8])\n",
    "print(arr)"
   ]
  },
  {
   "cell_type": "code",
   "execution_count": 3,
   "id": "12f3a022-8586-4f7a-b4cc-529088a39fe4",
   "metadata": {},
   "outputs": [
    {
     "name": "stdout",
     "output_type": "stream",
     "text": [
      "[1 3 5 7]\n"
     ]
    }
   ],
   "source": [
    "# converted into Int datatype\n",
    "int_arr = arr.astype(int)\n",
    "print(int_arr)"
   ]
  }
 ],
 "metadata": {
  "kernelspec": {
   "display_name": "Python 3 (ipykernel)",
   "language": "python",
   "name": "python3"
  },
  "language_info": {
   "codemirror_mode": {
    "name": "ipython",
    "version": 3
   },
   "file_extension": ".py",
   "mimetype": "text/x-python",
   "name": "python",
   "nbconvert_exporter": "python",
   "pygments_lexer": "ipython3",
   "version": "3.13.0"
  }
 },
 "nbformat": 4,
 "nbformat_minor": 5
}
