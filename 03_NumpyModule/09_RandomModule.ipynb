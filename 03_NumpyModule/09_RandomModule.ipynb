{
 "cells": [
  {
   "cell_type": "markdown",
   "id": "4f9e85e6-7b3c-4e4c-98bf-cda93307cc9a",
   "metadata": {},
   "source": [
    "# Random Module"
   ]
  },
  {
   "cell_type": "code",
   "execution_count": 1,
   "id": "e482bf9c-c6ac-472e-a56c-c6a310b20c68",
   "metadata": {},
   "outputs": [],
   "source": [
    "import numpy as np"
   ]
  },
  {
   "cell_type": "code",
   "execution_count": 2,
   "id": "99701347-a91e-4278-a371-62d376287722",
   "metadata": {},
   "outputs": [
    {
     "name": "stdout",
     "output_type": "stream",
     "text": [
      "[0.51548152 0.59848193 0.91827864]\n"
     ]
    }
   ],
   "source": [
    "print(np.random.rand(3))"
   ]
  },
  {
   "cell_type": "code",
   "execution_count": 3,
   "id": "c749f5e5-1049-47dc-9604-d3c3c0c6048f",
   "metadata": {},
   "outputs": [
    {
     "name": "stdout",
     "output_type": "stream",
     "text": [
      "[[0.1352447  0.05930482 0.27539637 0.27918668 0.20532059 0.83063036]\n",
      " [0.07347653 0.78678792 0.40439035 0.32152713 0.40961899 0.65234705]\n",
      " [0.12017544 0.72130054 0.18798094 0.13231683 0.49997217 0.18238671]]\n"
     ]
    }
   ],
   "source": [
    "print(np.random.rand(3,6))"
   ]
  },
  {
   "cell_type": "code",
   "execution_count": 4,
   "id": "ba3d3ece-fe06-4a5a-bb1b-6f91072f5971",
   "metadata": {},
   "outputs": [
    {
     "name": "stdout",
     "output_type": "stream",
     "text": [
      "8\n"
     ]
    }
   ],
   "source": [
    "print(np.random.randint(1,10))"
   ]
  },
  {
   "cell_type": "code",
   "execution_count": 5,
   "id": "bcffc774-256a-4ec1-91e8-fd8d2a0e6e19",
   "metadata": {},
   "outputs": [
    {
     "name": "stdout",
     "output_type": "stream",
     "text": [
      "1\n"
     ]
    }
   ],
   "source": [
    "print(np.random.choice([1,2,3,4,5]))"
   ]
  },
  {
   "cell_type": "code",
   "execution_count": 6,
   "id": "8350ddcf-0d3b-43fd-ba0c-502e59da254c",
   "metadata": {},
   "outputs": [],
   "source": [
    "dt = np.random.seed(42)  "
   ]
  },
  {
   "cell_type": "code",
   "execution_count": 7,
   "id": "29927f5b-1672-4421-a714-610cacc96298",
   "metadata": {},
   "outputs": [
    {
     "name": "stdout",
     "output_type": "stream",
     "text": [
      "[0.37454012 0.95071431 0.73199394]\n"
     ]
    }
   ],
   "source": [
    "print(np.random.rand(3))"
   ]
  },
  {
   "cell_type": "code",
   "execution_count": 8,
   "id": "eef162b9-7cdc-4d64-a757-6c56e212bbd1",
   "metadata": {},
   "outputs": [
    {
     "name": "stdout",
     "output_type": "stream",
     "text": [
      "[0.59865848 0.15601864 0.15599452]\n"
     ]
    }
   ],
   "source": [
    "print(np.random.rand(3))"
   ]
  }
 ],
 "metadata": {
  "kernelspec": {
   "display_name": "Python 3 (ipykernel)",
   "language": "python",
   "name": "python3"
  },
  "language_info": {
   "codemirror_mode": {
    "name": "ipython",
    "version": 3
   },
   "file_extension": ".py",
   "mimetype": "text/x-python",
   "name": "python",
   "nbconvert_exporter": "python",
   "pygments_lexer": "ipython3",
   "version": "3.13.0"
  }
 },
 "nbformat": 4,
 "nbformat_minor": 5
}
