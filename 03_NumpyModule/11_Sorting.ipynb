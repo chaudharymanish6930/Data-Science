{
 "cells": [
  {
   "cell_type": "markdown",
   "id": "3dddfb7a-c6e7-4782-87f2-98ba9586e66a",
   "metadata": {},
   "source": [
    "## Sorting"
   ]
  },
  {
   "cell_type": "code",
   "execution_count": 3,
   "id": "430a1270-7dff-4d4b-a437-eeba1c07c5d0",
   "metadata": {},
   "outputs": [
    {
     "name": "stdout",
     "output_type": "stream",
     "text": [
      "Sorted Array : [ 1.  2. 36. 54. 65. 87.]\n"
     ]
    }
   ],
   "source": [
    "unsorted = np.array([1,2,54,36.,87,65])\n",
    "print(\"Sorted Array :\",np.sort(unsorted))"
   ]
  },
  {
   "cell_type": "code",
   "execution_count": 2,
   "id": "9ef6d479-482a-49ce-b02d-f78cac139893",
   "metadata": {},
   "outputs": [],
   "source": [
    "import numpy as np"
   ]
  },
  {
   "cell_type": "markdown",
   "id": "cb34e084-b60c-4fcb-bf2b-5c867728dd63",
   "metadata": {},
   "source": [
    "### 1-D Array"
   ]
  },
  {
   "cell_type": "markdown",
   "id": "429d5228-e4ba-457e-ace7-fbc75c8dd669",
   "metadata": {},
   "source": [
    "### 2-D Array"
   ]
  },
  {
   "cell_type": "code",
   "execution_count": 4,
   "id": "d8b020cc-c5c8-43ff-a573-34d7e42af60a",
   "metadata": {},
   "outputs": [
    {
     "name": "stdout",
     "output_type": "stream",
     "text": [
      "[[3 5 6 2]\n",
      " [2 8 7 9]\n",
      " [6 8 9 3]]\n"
     ]
    }
   ],
   "source": [
    "unsorted2D = np.array([[3,5,6,2],[2,8,7,9],[6,8,9,3]])\n",
    "print(unsorted2D)"
   ]
  },
  {
   "cell_type": "code",
   "execution_count": 6,
   "id": "97d1dd5d-230c-469c-9bf3-b82b22440dc7",
   "metadata": {},
   "outputs": [
    {
     "name": "stdout",
     "output_type": "stream",
     "text": [
      "Sort 2-D array by column : [[2 5 6 2]\n",
      " [3 8 7 3]\n",
      " [6 8 9 9]]\n"
     ]
    }
   ],
   "source": [
    "print(\"Sort 2-D array by column :\",np.sort(unsorted2D, axis=0))"
   ]
  },
  {
   "cell_type": "code",
   "execution_count": 8,
   "id": "f0bdc555-9493-426e-ba70-92006980c445",
   "metadata": {},
   "outputs": [
    {
     "name": "stdout",
     "output_type": "stream",
     "text": [
      "Sort 2-D array by rows : [[2 3 5 6]\n",
      " [2 7 8 9]\n",
      " [3 6 8 9]]\n"
     ]
    }
   ],
   "source": [
    "print(\"Sort 2-D array by rows :\",np.sort(unsorted2D, axis=1))"
   ]
  }
 ],
 "metadata": {
  "kernelspec": {
   "display_name": "Python 3 (ipykernel)",
   "language": "python",
   "name": "python3"
  },
  "language_info": {
   "codemirror_mode": {
    "name": "ipython",
    "version": 3
   },
   "file_extension": ".py",
   "mimetype": "text/x-python",
   "name": "python",
   "nbconvert_exporter": "python",
   "pygments_lexer": "ipython3",
   "version": "3.13.0"
  }
 },
 "nbformat": 4,
 "nbformat_minor": 5
}
