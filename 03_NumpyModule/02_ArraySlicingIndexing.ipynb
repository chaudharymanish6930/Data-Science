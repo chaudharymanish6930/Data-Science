{
 "cells": [
  {
   "cell_type": "markdown",
   "id": "0078a675-2a46-4928-853a-3aab32573368",
   "metadata": {},
   "source": [
    "# Array Indexxing & Slicing"
   ]
  },
  {
   "cell_type": "markdown",
   "id": "83a8d878-449e-4fdd-9f0f-4047ec5407a4",
   "metadata": {},
   "source": [
    "# 1-D slicing"
   ]
  },
  {
   "cell_type": "code",
   "execution_count": 1,
   "id": "275f1b0a-e920-4985-b840-1b6070fb9a2a",
   "metadata": {},
   "outputs": [],
   "source": [
    "import numpy as np"
   ]
  },
  {
   "cell_type": "code",
   "execution_count": 2,
   "id": "c0ed5353-21ed-4dfc-b351-dfd203c77774",
   "metadata": {},
   "outputs": [],
   "source": [
    "arr = np.array([10,20,30,40,50])"
   ]
  },
  {
   "cell_type": "code",
   "execution_count": 3,
   "id": "1c09b253-64b3-4dbf-b4ef-3c2c997e994b",
   "metadata": {},
   "outputs": [
    {
     "name": "stdout",
     "output_type": "stream",
     "text": [
      "10\n"
     ]
    }
   ],
   "source": [
    "print(arr[0])   # first element"
   ]
  },
  {
   "cell_type": "code",
   "execution_count": 4,
   "id": "55fbafc5-9b0d-4759-83b0-33d546b0ea05",
   "metadata": {},
   "outputs": [
    {
     "name": "stdout",
     "output_type": "stream",
     "text": [
      "50\n"
     ]
    }
   ],
   "source": [
    "print(arr[-1])  # last element"
   ]
  },
  {
   "cell_type": "code",
   "execution_count": 5,
   "id": "3cd05ce0-4aa5-4c97-855c-4c255556b1a1",
   "metadata": {},
   "outputs": [
    {
     "name": "stdout",
     "output_type": "stream",
     "text": [
      "[20 30 40]\n"
     ]
    }
   ],
   "source": [
    "print(arr[1:4]) # slice"
   ]
  },
  {
   "cell_type": "code",
   "execution_count": 6,
   "id": "06dc179b-5f5d-45f5-b5d2-1af88eb6a2a0",
   "metadata": {},
   "outputs": [
    {
     "name": "stdout",
     "output_type": "stream",
     "text": [
      "[10 20 30]\n"
     ]
    }
   ],
   "source": [
    "print(arr[:3])  # first 3"
   ]
  },
  {
   "cell_type": "code",
   "execution_count": 7,
   "id": "c378fb4b-5a40-4824-a70f-16875ec478ab",
   "metadata": {},
   "outputs": [
    {
     "name": "stdout",
     "output_type": "stream",
     "text": [
      "40\n"
     ]
    }
   ],
   "source": [
    "print(arr[-2])"
   ]
  },
  {
   "cell_type": "code",
   "execution_count": 8,
   "id": "d11abd18-16e7-4183-b217-b0a597514bda",
   "metadata": {},
   "outputs": [
    {
     "name": "stdout",
     "output_type": "stream",
     "text": [
      "[10 30 50]\n"
     ]
    }
   ],
   "source": [
    "print(arr[::2]) # every 2nd element"
   ]
  },
  {
   "cell_type": "markdown",
   "id": "5b7dd863-e7ed-4dc5-a5f8-c03aedd4ac2e",
   "metadata": {},
   "source": [
    "# 2-D Slicing"
   ]
  },
  {
   "cell_type": "code",
   "execution_count": 3,
   "id": "2116e567-33d0-4738-91d0-437c580d4f93",
   "metadata": {},
   "outputs": [
    {
     "name": "stdout",
     "output_type": "stream",
     "text": [
      "2\n"
     ]
    }
   ],
   "source": [
    "# 2D slicing\n",
    "arr2 = np.array([[1,2,3],[4,5,6],[7,8,9]])\n",
    "print(arr2[0, 1])    # element at row0 col1"
   ]
  },
  {
   "cell_type": "code",
   "execution_count": 12,
   "id": "5135ab30-60de-4cd9-83e3-13ea2878990a",
   "metadata": {},
   "outputs": [
    {
     "name": "stdout",
     "output_type": "stream",
     "text": [
      "9\n"
     ]
    }
   ],
   "source": [
    "print(arr2[2,2])"
   ]
  },
  {
   "cell_type": "code",
   "execution_count": 13,
   "id": "bb9aa5ce-065a-4c14-bd54-60ed0e791c4a",
   "metadata": {},
   "outputs": [
    {
     "name": "stdout",
     "output_type": "stream",
     "text": [
      "[[4 5]\n",
      " [7 8]]\n"
     ]
    }
   ],
   "source": [
    "print(arr2[1:, :2])  # submatrix"
   ]
  },
  {
   "cell_type": "code",
   "execution_count": 14,
   "id": "efda11c9-fbdd-495b-b594-bcf11d90e588",
   "metadata": {},
   "outputs": [
    {
     "name": "stdout",
     "output_type": "stream",
     "text": [
      "[[5]]\n"
     ]
    }
   ],
   "source": [
    "print(arr2[1:2, 1:2])"
   ]
  },
  {
   "cell_type": "code",
   "execution_count": 15,
   "id": "9b48a7c9-90d0-4aeb-a95b-6f70f3855d25",
   "metadata": {},
   "outputs": [
    {
     "name": "stdout",
     "output_type": "stream",
     "text": [
      "[4 5 6]\n"
     ]
    }
   ],
   "source": [
    "print(arr2[1])"
   ]
  },
  {
   "cell_type": "code",
   "execution_count": 17,
   "id": "f1bd8392-4ed6-4258-9a79-57395614f2ce",
   "metadata": {},
   "outputs": [
    {
     "name": "stdout",
     "output_type": "stream",
     "text": [
      "[2 5 8]\n"
     ]
    }
   ],
   "source": [
    "print(arr2[:,1])"
   ]
  },
  {
   "cell_type": "code",
   "execution_count": 18,
   "id": "c249dfaf-b967-4cb3-9a52-15c76c4f904e",
   "metadata": {},
   "outputs": [
    {
     "name": "stdout",
     "output_type": "stream",
     "text": [
      "[[1 2 3]]\n"
     ]
    }
   ],
   "source": [
    "print(arr2[:1])"
   ]
  },
  {
   "cell_type": "code",
   "execution_count": 4,
   "id": "b7c2dafc-5db3-4ccf-a3b7-1d84807305c8",
   "metadata": {},
   "outputs": [
    {
     "name": "stdout",
     "output_type": "stream",
     "text": [
      "[[2]\n",
      " [5]]\n"
     ]
    }
   ],
   "source": [
    "print(arr2[:2,1:2])"
   ]
  }
 ],
 "metadata": {
  "kernelspec": {
   "display_name": "Python 3 (ipykernel)",
   "language": "python",
   "name": "python3"
  },
  "language_info": {
   "codemirror_mode": {
    "name": "ipython",
    "version": 3
   },
   "file_extension": ".py",
   "mimetype": "text/x-python",
   "name": "python",
   "nbconvert_exporter": "python",
   "pygments_lexer": "ipython3",
   "version": "3.13.0"
  }
 },
 "nbformat": 4,
 "nbformat_minor": 5
}
