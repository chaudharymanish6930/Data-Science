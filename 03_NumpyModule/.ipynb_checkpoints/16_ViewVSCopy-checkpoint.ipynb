{
 "cells": [
  {
   "cell_type": "markdown",
   "id": "b568db4c-399c-450c-9c1a-ad2bf25675f1",
   "metadata": {},
   "source": [
    "# Copy VS View"
   ]
  },
  {
   "cell_type": "code",
   "execution_count": 1,
   "id": "51ccdbed-863a-4603-80a8-af415791fb70",
   "metadata": {},
   "outputs": [],
   "source": [
    "import numpy as np"
   ]
  },
  {
   "cell_type": "code",
   "execution_count": 2,
   "id": "cbb39e5a-2f3a-46ad-aad9-17e6c9427179",
   "metadata": {},
   "outputs": [],
   "source": [
    "arr = np.array([1,2,3])"
   ]
  },
  {
   "cell_type": "code",
   "execution_count": 3,
   "id": "4b168fc7-1149-45f5-afdc-1258b5d3cb42",
   "metadata": {},
   "outputs": [],
   "source": [
    "view = arr.view()    # changes reflect in both"
   ]
  },
  {
   "cell_type": "code",
   "execution_count": 4,
   "id": "ce0c72a9-a6a7-4a42-bad2-d6273553d17c",
   "metadata": {},
   "outputs": [],
   "source": [
    "copy = arr.copy()    # independent copy"
   ]
  },
  {
   "cell_type": "code",
   "execution_count": 5,
   "id": "295505b9-6600-4d10-9379-682affa827a3",
   "metadata": {},
   "outputs": [
    {
     "data": {
      "text/plain": [
       "array([1, 2, 3])"
      ]
     },
     "execution_count": 5,
     "metadata": {},
     "output_type": "execute_result"
    }
   ],
   "source": [
    "arr"
   ]
  },
  {
   "cell_type": "code",
   "execution_count": 6,
   "id": "9f2447e0-a1dd-4d1d-a9dc-ec3274678ea5",
   "metadata": {},
   "outputs": [
    {
     "data": {
      "text/plain": [
       "array([1, 2, 3])"
      ]
     },
     "execution_count": 6,
     "metadata": {},
     "output_type": "execute_result"
    }
   ],
   "source": [
    "view"
   ]
  },
  {
   "cell_type": "code",
   "execution_count": 7,
   "id": "3f4ad328-e147-43bc-a812-4edb27717e30",
   "metadata": {},
   "outputs": [
    {
     "data": {
      "text/plain": [
       "array([1, 2, 3])"
      ]
     },
     "execution_count": 7,
     "metadata": {},
     "output_type": "execute_result"
    }
   ],
   "source": [
    "copy"
   ]
  },
  {
   "cell_type": "code",
   "execution_count": 8,
   "id": "9df730f0-cf2d-407e-975a-76c94313f395",
   "metadata": {},
   "outputs": [],
   "source": [
    "arr[0] = 99 "
   ]
  },
  {
   "cell_type": "code",
   "execution_count": 9,
   "id": "8925dc92-7c60-4324-a728-5018772179b7",
   "metadata": {},
   "outputs": [
    {
     "name": "stdout",
     "output_type": "stream",
     "text": [
      "[99  2  3]\n"
     ]
    }
   ],
   "source": [
    "print(view)  # [99  2  3]"
   ]
  },
  {
   "cell_type": "code",
   "execution_count": 10,
   "id": "572e5aba-4897-47c2-bb5e-21f0e58bd770",
   "metadata": {},
   "outputs": [
    {
     "name": "stdout",
     "output_type": "stream",
     "text": [
      "[1 2 3]\n"
     ]
    }
   ],
   "source": [
    "print(copy)  "
   ]
  }
 ],
 "metadata": {
  "kernelspec": {
   "display_name": "Python 3 (ipykernel)",
   "language": "python",
   "name": "python3"
  },
  "language_info": {
   "codemirror_mode": {
    "name": "ipython",
    "version": 3
   },
   "file_extension": ".py",
   "mimetype": "text/x-python",
   "name": "python",
   "nbconvert_exporter": "python",
   "pygments_lexer": "ipython3",
   "version": "3.13.0"
  }
 },
 "nbformat": 4,
 "nbformat_minor": 5
}
