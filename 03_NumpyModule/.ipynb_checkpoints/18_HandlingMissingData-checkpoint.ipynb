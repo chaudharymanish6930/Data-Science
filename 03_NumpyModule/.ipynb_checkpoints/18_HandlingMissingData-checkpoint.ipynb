{
 "cells": [
  {
   "cell_type": "markdown",
   "id": "314656bf-4fb6-4dfc-b50f-4f99d6b50e0c",
   "metadata": {},
   "source": [
    "# Handling the Missing values"
   ]
  },
  {
   "cell_type": "code",
   "execution_count": 2,
   "id": "3f973967-95ad-412f-974a-23bb89828b4f",
   "metadata": {},
   "outputs": [],
   "source": [
    "import numpy as np"
   ]
  },
  {
   "cell_type": "code",
   "execution_count": 3,
   "id": "9da8e563-f872-4595-8149-7583fccafcf4",
   "metadata": {},
   "outputs": [],
   "source": [
    "arr = np.array([1,2,np.nan, 4, np.nan,6])"
   ]
  },
  {
   "cell_type": "code",
   "execution_count": 4,
   "id": "353e3a8a-1887-4866-a975-c600673776dd",
   "metadata": {},
   "outputs": [
    {
     "name": "stdout",
     "output_type": "stream",
     "text": [
      "[False False  True False  True False]\n"
     ]
    }
   ],
   "source": [
    "print(np.isnan(arr))"
   ]
  },
  {
   "cell_type": "code",
   "execution_count": 5,
   "id": "4abe2f02-33b1-4615-b4ba-ef3473672893",
   "metadata": {},
   "outputs": [
    {
     "name": "stdout",
     "output_type": "stream",
     "text": [
      "False\n"
     ]
    }
   ],
   "source": [
    "# cannot compare it\n",
    "print(np.nan == np.nan)"
   ]
  },
  {
   "cell_type": "code",
   "execution_count": 6,
   "id": "296f7669-f357-46b9-ac13-aab72fce85a7",
   "metadata": {},
   "outputs": [
    {
     "name": "stdout",
     "output_type": "stream",
     "text": [
      "[  1.   2. 100.   4. 100.   6.]\n"
     ]
    }
   ],
   "source": [
    "cleaned_arr = np.nan_to_num(arr,nan=100)\n",
    "print(cleaned_arr)"
   ]
  },
  {
   "cell_type": "code",
   "execution_count": 7,
   "id": "324b17ee-8a18-4506-a693-29003f6eb347",
   "metadata": {},
   "outputs": [],
   "source": [
    "arr = np.array([1, 2, np.inf, 4, -np.inf, 6])"
   ]
  },
  {
   "cell_type": "code",
   "execution_count": 8,
   "id": "40b6cf6d-db18-4d7b-9d6b-bde767e7ad24",
   "metadata": {},
   "outputs": [
    {
     "name": "stdout",
     "output_type": "stream",
     "text": [
      "[False False  True False  True False]\n"
     ]
    }
   ],
   "source": [
    "print(np.isinf(arr))"
   ]
  },
  {
   "cell_type": "code",
   "execution_count": 9,
   "id": "4e4766c4-a1fd-4f99-bd52-2cf9debfe5e3",
   "metadata": {},
   "outputs": [
    {
     "name": "stdout",
     "output_type": "stream",
     "text": [
      "[    1.     2.  1000.     4. -1000.     6.]\n"
     ]
    }
   ],
   "source": [
    "cleaned_arr = np.nan_to_num(arr, posinf=1000, neginf=-1000)\n",
    "print(cleaned_arr)"
   ]
  }
 ],
 "metadata": {
  "kernelspec": {
   "display_name": "Python 3 (ipykernel)",
   "language": "python",
   "name": "python3"
  },
  "language_info": {
   "codemirror_mode": {
    "name": "ipython",
    "version": 3
   },
   "file_extension": ".py",
   "mimetype": "text/x-python",
   "name": "python",
   "nbconvert_exporter": "python",
   "pygments_lexer": "ipython3",
   "version": "3.13.0"
  }
 },
 "nbformat": 4,
 "nbformat_minor": 5
}
