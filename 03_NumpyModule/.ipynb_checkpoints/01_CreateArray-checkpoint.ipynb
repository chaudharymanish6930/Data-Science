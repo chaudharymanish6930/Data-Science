{
 "cells": [
  {
   "cell_type": "markdown",
   "id": "67fcc453-4bbe-40de-96b2-6bc3dda18957",
   "metadata": {},
   "source": [
    "# Numpy basics"
   ]
  },
  {
   "cell_type": "markdown",
   "id": "c4576479-e8f3-437f-b513-6997c08f3ad2",
   "metadata": {},
   "source": [
    "### 1 Create Array"
   ]
  },
  {
   "cell_type": "code",
   "execution_count": 2,
   "id": "450ce492-6942-4c32-b585-876b314f53e5",
   "metadata": {},
   "outputs": [],
   "source": [
    "import numpy as np"
   ]
  },
  {
   "cell_type": "code",
   "execution_count": 3,
   "id": "508770ce-15b9-4e05-9069-c7806acd9364",
   "metadata": {},
   "outputs": [
    {
     "data": {
      "text/plain": [
       "array([1, 2, 3, 4, 5])"
      ]
     },
     "execution_count": 3,
     "metadata": {},
     "output_type": "execute_result"
    }
   ],
   "source": [
    "# From Python list\n",
    "np.array([1, 2, 3, 4, 5])"
   ]
  },
  {
   "cell_type": "code",
   "execution_count": 4,
   "id": "98d2f463-1ad9-48f2-9476-1c6b39093266",
   "metadata": {},
   "outputs": [
    {
     "name": "stdout",
     "output_type": "stream",
     "text": [
      "[1 2 3 4 5]\n"
     ]
    }
   ],
   "source": [
    "arr1 = np.array([1, 2, 3, 4, 5])\n",
    "print(arr1)"
   ]
  },
  {
   "cell_type": "code",
   "execution_count": 5,
   "id": "aba58ce6-84ab-46fc-a083-e4cfb1370823",
   "metadata": {},
   "outputs": [
    {
     "data": {
      "text/plain": [
       "array([[1, 2, 3],\n",
       "       [4, 5, 6]])"
      ]
     },
     "execution_count": 5,
     "metadata": {},
     "output_type": "execute_result"
    }
   ],
   "source": [
    "# 2D Array\n",
    "np.array([[1, 2, 3], [4, 5, 6]])"
   ]
  },
  {
   "cell_type": "code",
   "execution_count": 6,
   "id": "51b699fd-0176-4489-a64f-1583825ec131",
   "metadata": {},
   "outputs": [
    {
     "name": "stdout",
     "output_type": "stream",
     "text": [
      "[[1 2 3]\n",
      " [4 5 6]]\n"
     ]
    }
   ],
   "source": [
    "arr2 = np.array([[1, 2, 3], [4, 5, 6]])\n",
    "print(arr2)"
   ]
  },
  {
   "cell_type": "code",
   "execution_count": 7,
   "id": "ad0dd2a3-9825-4730-97d2-11ba45407fe3",
   "metadata": {},
   "outputs": [
    {
     "data": {
      "text/plain": [
       "array([[0., 0., 0.],\n",
       "       [0., 0., 0.],\n",
       "       [0., 0., 0.]])"
      ]
     },
     "execution_count": 7,
     "metadata": {},
     "output_type": "execute_result"
    }
   ],
   "source": [
    "# with zeros\n",
    "np.zeros((3, 3))"
   ]
  },
  {
   "cell_type": "code",
   "execution_count": 8,
   "id": "a9136947-caa2-4290-a415-30013048bb03",
   "metadata": {},
   "outputs": [
    {
     "name": "stdout",
     "output_type": "stream",
     "text": [
      "[[0. 0. 0.]\n",
      " [0. 0. 0.]\n",
      " [0. 0. 0.]]\n"
     ]
    }
   ],
   "source": [
    "# With zeros\n",
    "arr3 = np.zeros((3, 3))\n",
    "print(arr3)"
   ]
  },
  {
   "cell_type": "code",
   "execution_count": 9,
   "id": "d35e8d95-1a2b-4891-943c-ee329a2a0518",
   "metadata": {},
   "outputs": [
    {
     "data": {
      "text/plain": [
       "array([[1., 1., 1., 1.],\n",
       "       [1., 1., 1., 1.]])"
      ]
     },
     "execution_count": 9,
     "metadata": {},
     "output_type": "execute_result"
    }
   ],
   "source": [
    "# with one\n",
    "np.ones((2, 4))"
   ]
  },
  {
   "cell_type": "code",
   "execution_count": 10,
   "id": "c822ddb3-a134-4c49-bf25-50ea5bc48b25",
   "metadata": {},
   "outputs": [
    {
     "name": "stdout",
     "output_type": "stream",
     "text": [
      "[[1. 1. 1. 1.]\n",
      " [1. 1. 1. 1.]]\n"
     ]
    }
   ],
   "source": [
    "arr4 = np.ones((2, 4))\n",
    "print(arr4)"
   ]
  },
  {
   "cell_type": "code",
   "execution_count": 11,
   "id": "8fd00bf6-e2cc-4af6-a11f-46ad2adb4cba",
   "metadata": {},
   "outputs": [
    {
     "data": {
      "text/plain": [
       "array([0, 2, 4, 6, 8])"
      ]
     },
     "execution_count": 11,
     "metadata": {},
     "output_type": "execute_result"
    }
   ],
   "source": [
    "# Range of numbers\n",
    "np.arange(0, 10, 2)  # start, stop, step"
   ]
  },
  {
   "cell_type": "code",
   "execution_count": 12,
   "id": "788acd71-9d43-45b3-9b5e-d0efab017358",
   "metadata": {},
   "outputs": [
    {
     "name": "stdout",
     "output_type": "stream",
     "text": [
      "[0 2 4 6 8]\n"
     ]
    }
   ],
   "source": [
    "arr5 = np.arange(0, 10, 2)  # start, stop, step\n",
    "print(arr5)"
   ]
  },
  {
   "cell_type": "code",
   "execution_count": 13,
   "id": "23962840-9f00-46eb-a9c7-d0783ba9478b",
   "metadata": {},
   "outputs": [
    {
     "data": {
      "text/plain": [
       "array([0.  , 0.25, 0.5 , 0.75, 1.  ])"
      ]
     },
     "execution_count": 13,
     "metadata": {},
     "output_type": "execute_result"
    }
   ],
   "source": [
    "# evenly values\n",
    "np.linspace(0, 1, 5)"
   ]
  },
  {
   "cell_type": "code",
   "execution_count": 14,
   "id": "d3516403-9458-481e-94fd-3057b7cff0bc",
   "metadata": {},
   "outputs": [
    {
     "name": "stdout",
     "output_type": "stream",
     "text": [
      "[0.   0.25 0.5  0.75 1.  ]\n"
     ]
    }
   ],
   "source": [
    "arr6 = np.linspace(0, 1, 5)  # 5 values between 0 and 1\n",
    "print(arr6)"
   ]
  },
  {
   "cell_type": "code",
   "execution_count": 15,
   "id": "97569dc3-a047-48d8-b3a6-2296cd504278",
   "metadata": {},
   "outputs": [
    {
     "name": "stdout",
     "output_type": "stream",
     "text": [
      "[[1. 0. 0.]\n",
      " [0. 1. 0.]\n",
      " [0. 0. 1.]]\n"
     ]
    }
   ],
   "source": [
    "# Identity matrix\n",
    "arr7 = np.eye(3)\n",
    "print(arr7)"
   ]
  },
  {
   "cell_type": "code",
   "execution_count": 16,
   "id": "9af17085-d60b-4c26-a470-cf295a9220ca",
   "metadata": {},
   "outputs": [
    {
     "name": "stdout",
     "output_type": "stream",
     "text": [
      "[[0.337889   0.60649676 0.47097768]\n",
      " [0.86862179 0.98874047 0.05089477]]\n"
     ]
    }
   ],
   "source": [
    "# Random numbers\n",
    "arr8 = np.random.rand(2, 3)  # uniform distribution\n",
    "print(arr8)"
   ]
  },
  {
   "cell_type": "code",
   "execution_count": 20,
   "id": "cece599d-8efb-42d0-9c86-45eeace3de3e",
   "metadata": {},
   "outputs": [
    {
     "name": "stdout",
     "output_type": "stream",
     "text": [
      "[array([54.55581836, 67.20717482, 67.06342477])]\n",
      "[array([57.67309437, 95.89050236, 39.76958073])]\n"
     ]
    }
   ],
   "source": [
    "arr8 = np.random.rand(2, 3)  # uniform distribution\n",
    "for i in arr8:\n",
    "    print([i*100])"
   ]
  },
  {
   "cell_type": "code",
   "execution_count": 21,
   "id": "05890a2a-2403-49bd-8bdc-a4f91b44f847",
   "metadata": {},
   "outputs": [
    {
     "name": "stdout",
     "output_type": "stream",
     "text": [
      "[[ 0.52705193  0.49834346  0.14709329]\n",
      " [-0.57136159 -1.88264387  0.91721914]\n",
      " [-1.23646327 -1.08584817  1.00830608]]\n"
     ]
    }
   ],
   "source": [
    "arr9 = np.random.randn(3, 3)  # normal distribution\n",
    "print(arr9)"
   ]
  },
  {
   "cell_type": "code",
   "execution_count": 22,
   "id": "248923d0-ffe7-4708-8055-5a992718f63f",
   "metadata": {},
   "outputs": [
    {
     "name": "stdout",
     "output_type": "stream",
     "text": [
      "[ 6 30 72 86 72]\n"
     ]
    }
   ],
   "source": [
    "arr10 = np.random.randint(1, 100, 5)  # random integers\n",
    "print(arr10)"
   ]
  }
 ],
 "metadata": {
  "kernelspec": {
   "display_name": "Python 3 (ipykernel)",
   "language": "python",
   "name": "python3"
  },
  "language_info": {
   "codemirror_mode": {
    "name": "ipython",
    "version": 3
   },
   "file_extension": ".py",
   "mimetype": "text/x-python",
   "name": "python",
   "nbconvert_exporter": "python",
   "pygments_lexer": "ipython3",
   "version": "3.13.0"
  }
 },
 "nbformat": 4,
 "nbformat_minor": 5
}
