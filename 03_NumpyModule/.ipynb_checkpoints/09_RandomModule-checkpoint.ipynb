{
 "cells": [
  {
   "cell_type": "markdown",
   "id": "4f9e85e6-7b3c-4e4c-98bf-cda93307cc9a",
   "metadata": {},
   "source": [
    "# Random Module"
   ]
  },
  {
   "cell_type": "code",
   "execution_count": 1,
   "id": "e482bf9c-c6ac-472e-a56c-c6a310b20c68",
   "metadata": {},
   "outputs": [],
   "source": [
    "import numpy as np"
   ]
  },
  {
   "cell_type": "code",
   "execution_count": 2,
   "id": "99701347-a91e-4278-a371-62d376287722",
   "metadata": {},
   "outputs": [
    {
     "name": "stdout",
     "output_type": "stream",
     "text": [
      "[0.05219671 0.97880842 0.2415865 ]\n"
     ]
    }
   ],
   "source": [
    "print(np.random.rand(3))"
   ]
  },
  {
   "cell_type": "code",
   "execution_count": 7,
   "id": "c749f5e5-1049-47dc-9604-d3c3c0c6048f",
   "metadata": {},
   "outputs": [
    {
     "name": "stdout",
     "output_type": "stream",
     "text": [
      "[[0.14162423 0.34462901 0.53767163 0.23948709 0.04880575 0.31771641]\n",
      " [0.35199275 0.37557647 0.94671935 0.99158016 0.81656606 0.72591789]\n",
      " [0.68743704 0.54827526 0.02752336 0.79354727 0.22894964 0.57110126]]\n"
     ]
    }
   ],
   "source": [
    "print(np.random.rand(3,6))"
   ]
  },
  {
   "cell_type": "code",
   "execution_count": 8,
   "id": "ba3d3ece-fe06-4a5a-bb1b-6f91072f5971",
   "metadata": {},
   "outputs": [
    {
     "name": "stdout",
     "output_type": "stream",
     "text": [
      "3\n"
     ]
    }
   ],
   "source": [
    "print(np.random.randint(1,10))"
   ]
  },
  {
   "cell_type": "code",
   "execution_count": 9,
   "id": "bcffc774-256a-4ec1-91e8-fd8d2a0e6e19",
   "metadata": {},
   "outputs": [
    {
     "name": "stdout",
     "output_type": "stream",
     "text": [
      "2\n"
     ]
    }
   ],
   "source": [
    "print(np.random.choice([1,2,3,4,5]))"
   ]
  },
  {
   "cell_type": "code",
   "execution_count": 10,
   "id": "8350ddcf-0d3b-43fd-ba0c-502e59da254c",
   "metadata": {},
   "outputs": [],
   "source": [
    "dt = np.random.seed(42)  "
   ]
  }
 ],
 "metadata": {
  "kernelspec": {
   "display_name": "Python 3 (ipykernel)",
   "language": "python",
   "name": "python3"
  },
  "language_info": {
   "codemirror_mode": {
    "name": "ipython",
    "version": 3
   },
   "file_extension": ".py",
   "mimetype": "text/x-python",
   "name": "python",
   "nbconvert_exporter": "python",
   "pygments_lexer": "ipython3",
   "version": "3.13.0"
  }
 },
 "nbformat": 4,
 "nbformat_minor": 5
}
