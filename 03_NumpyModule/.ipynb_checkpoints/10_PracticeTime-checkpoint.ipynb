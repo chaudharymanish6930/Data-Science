{
 "cells": [
  {
   "cell_type": "markdown",
   "id": "a05b8902-1474-407e-ab37-16e9ec1b6716",
   "metadata": {},
   "source": [
    "# Practice time"
   ]
  },
  {
   "cell_type": "code",
   "execution_count": 3,
   "id": "4cc8470f-5513-42a8-be89-3c72588cdc7c",
   "metadata": {},
   "outputs": [
    {
     "name": "stdout",
     "output_type": "stream",
     "text": [
      "[ 2  4  6  8 10 12 14 16 18 20]\n"
     ]
    }
   ],
   "source": [
    "# find even number\n",
    "arr = np.arange(1, 21)\n",
    "evens = arr[arr % 2 == 0]\n",
    "print(evens)"
   ]
  },
  {
   "cell_type": "code",
   "execution_count": 1,
   "id": "e5d57571-b52a-4eef-87b7-82e31a8cf0ff",
   "metadata": {},
   "outputs": [],
   "source": [
    "import numpy as np"
   ]
  },
  {
   "cell_type": "code",
   "execution_count": 5,
   "id": "ddddc9f3-ae57-4996-b868-0d2769324c80",
   "metadata": {},
   "outputs": [
    {
     "name": "stdout",
     "output_type": "stream",
     "text": [
      "[ 0 -1  2 -1  4 -1  6 -1  8 -1]\n"
     ]
    }
   ],
   "source": [
    "# find odd numbers replace with -1\n",
    "arr = np.arange(10)\n",
    "arr[arr % 2 == 1] = -1\n",
    "print(arr)"
   ]
  },
  {
   "cell_type": "code",
   "execution_count": 6,
   "id": "b21fc66a-8a7b-480b-9291-2c9e9ea6610a",
   "metadata": {},
   "outputs": [
    {
     "name": "stdout",
     "output_type": "stream",
     "text": [
      "[1 2 3 5 8]\n"
     ]
    }
   ],
   "source": [
    "# sort array\n",
    "arr = np.array([5,3,8,1,2])\n",
    "print(np.sort(arr))"
   ]
  },
  {
   "cell_type": "code",
   "execution_count": 7,
   "id": "7269264d-32dc-4141-aa92-bc7109ccba06",
   "metadata": {},
   "outputs": [
    {
     "name": "stdout",
     "output_type": "stream",
     "text": [
      "[1 2 3 4 5]\n"
     ]
    }
   ],
   "source": [
    "# unique element\n",
    "arr = np.array([1,2,2,3,4,4,5])\n",
    "print(np.unique(arr))"
   ]
  },
  {
   "cell_type": "code",
   "execution_count": 8,
   "id": "bfac6abe-1347-466f-8a6a-89dbd9109df5",
   "metadata": {},
   "outputs": [
    {
     "name": "stdout",
     "output_type": "stream",
     "text": [
      "[[ 4  4]\n",
      " [10  8]]\n"
     ]
    }
   ],
   "source": [
    "# matirx multiplication\n",
    "A = np.array([[1,2],[3,4]])\n",
    "B = np.array([[2,0],[1,2]])\n",
    "print(np.dot(A,B))"
   ]
  },
  {
   "cell_type": "code",
   "execution_count": 9,
   "id": "621882aa-08fb-4c96-8874-720b5986833f",
   "metadata": {},
   "outputs": [
    {
     "name": "stdout",
     "output_type": "stream",
     "text": [
      "40\n",
      "3\n"
     ]
    }
   ],
   "source": [
    "# find max and index\n",
    "arr = np.array([10,20,5,40,30])\n",
    "print(np.max(arr))\n",
    "print(np.argmax(arr))  # index of max"
   ]
  },
  {
   "cell_type": "code",
   "execution_count": 10,
   "id": "e191dd8f-e24d-4e7c-a4a5-c679cb87d35a",
   "metadata": {},
   "outputs": [
    {
     "name": "stdout",
     "output_type": "stream",
     "text": [
      "[[0]\n",
      " [1]\n",
      " [2]\n",
      " [3]\n",
      " [4]\n",
      " [5]]\n"
     ]
    }
   ],
   "source": [
    "# convert the 1D to 2D columns matrix\n",
    "arr = np.arange(6)\n",
    "print(arr.reshape(-1,1))"
   ]
  },
  {
   "cell_type": "code",
   "execution_count": null,
   "id": "eb6b3e28-2c24-4b1e-bb85-1d6044a4924c",
   "metadata": {},
   "outputs": [],
   "source": [
    "# sum along rows and columns\n",
    "arr = np.array([[1,2,3],[4,5,6]])\n",
    "print(np.sum(arr, axis=0))  # column sum\n",
    "print(np.sum(arr, axis=1))  # row sum"
   ]
  },
  {
   "cell_type": "code",
   "execution_count": 11,
   "id": "b52f650b-b5e2-4341-b7a5-fc7ca68f286e",
   "metadata": {},
   "outputs": [
    {
     "name": "stdout",
     "output_type": "stream",
     "text": [
      "[[1. 0. 0. 0. 0.]\n",
      " [0. 1. 0. 0. 0.]\n",
      " [0. 0. 1. 0. 0.]\n",
      " [0. 0. 0. 1. 0.]\n",
      " [0. 0. 0. 0. 1.]]\n"
     ]
    }
   ],
   "source": [
    "# generate identity matrix\n",
    "print(np.eye(5))"
   ]
  },
  {
   "cell_type": "code",
   "execution_count": 12,
   "id": "45977b4f-4acf-4d4c-bd15-c36a88b24b7a",
   "metadata": {},
   "outputs": [
    {
     "name": "stdout",
     "output_type": "stream",
     "text": [
      "8000\n"
     ]
    }
   ],
   "source": [
    "# check the memory usage\n",
    "arr = np.arange(1000)\n",
    "print(arr.nbytes)"
   ]
  },
  {
   "cell_type": "markdown",
   "id": "b1203baf-67bb-4bbd-99c7-2add32f6066d",
   "metadata": {},
   "source": [
    "## More Practice"
   ]
  },
  {
   "cell_type": "code",
   "execution_count": null,
   "id": "9758efda-bce1-4171-8e9a-f11044f3fc91",
   "metadata": {},
   "outputs": [],
   "source": []
  },
  {
   "cell_type": "code",
   "execution_count": 3,
   "id": "dd8718b7-3900-4296-a360-f136da56b8a7",
   "metadata": {},
   "outputs": [
    {
     "name": "stdout",
     "output_type": "stream",
     "text": [
      "[1 2 3 4]\n"
     ]
    },
    {
     "data": {
      "text/plain": [
       "array([[1., 0., 0., 0.],\n",
       "       [0., 1., 0., 0.],\n",
       "       [0., 0., 1., 0.],\n",
       "       [0., 0., 0., 1.]])"
      ]
     },
     "execution_count": 3,
     "metadata": {},
     "output_type": "execute_result"
    }
   ],
   "source": [
    "# From Python list\n",
    "arr = np.array([1, 2, 3, 4])\n",
    "print(arr)\n",
    "\n",
    "# Multidimensional array\n",
    "arr2d = np.array([[1, 2, 3], [4, 5, 6]])\n",
    "\n",
    "# Array of zeros\n",
    "zeros = np.zeros((3, 3))\n",
    "\n",
    "# Array of ones\n",
    "ones = np.ones((2, 4))\n",
    "\n",
    "# Identity matrix\n",
    "eye = np.eye(4)\n",
    "\n",
    "# Array with range\n",
    "range_arr = np.arange(0, 10, 2)   # like range(), but returns array\n",
    "\n",
    "# Evenly spaced numbers\n",
    "linspace_arr = np.linspace(0, 1, 5)  # 5 numbers between 0 and 1\n",
    "eye"
   ]
  }
 ],
 "metadata": {
  "kernelspec": {
   "display_name": "Python 3 (ipykernel)",
   "language": "python",
   "name": "python3"
  },
  "language_info": {
   "codemirror_mode": {
    "name": "ipython",
    "version": 3
   },
   "file_extension": ".py",
   "mimetype": "text/x-python",
   "name": "python",
   "nbconvert_exporter": "python",
   "pygments_lexer": "ipython3",
   "version": "3.13.0"
  }
 },
 "nbformat": 4,
 "nbformat_minor": 5
}
