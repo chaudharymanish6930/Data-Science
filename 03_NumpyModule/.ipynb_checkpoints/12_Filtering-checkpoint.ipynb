{
 "cells": [
  {
   "cell_type": "markdown",
   "id": "a94b2bab-b850-45e8-9e33-cf0564666236",
   "metadata": {},
   "source": [
    "## Filter"
   ]
  },
  {
   "cell_type": "code",
   "execution_count": 1,
   "id": "cc897eb7-348f-468c-bb8a-ac0f007cd6b4",
   "metadata": {},
   "outputs": [],
   "source": [
    "import numpy as np"
   ]
  },
  {
   "cell_type": "code",
   "execution_count": 2,
   "id": "a3fa801f-c981-4b81-b13d-5b077836ac68",
   "metadata": {},
   "outputs": [
    {
     "name": "stdout",
     "output_type": "stream",
     "text": [
      "Even Numbers : [ 2  4  6  8 10]\n"
     ]
    }
   ],
   "source": [
    "numbers = np.array([1,2,3,4,5,6,7,8,9,10])\n",
    "even_numbers = numbers[numbers%2 ==0]\n",
    "print(\"Even Numbers :\",even_numbers)"
   ]
  },
  {
   "cell_type": "markdown",
   "id": "ebefa962-a526-4b60-b366-c987f92c622d",
   "metadata": {},
   "source": [
    "## Filter with Mask"
   ]
  },
  {
   "cell_type": "code",
   "execution_count": 3,
   "id": "dd8b6157-b1f3-456a-837d-ae84f835aa18",
   "metadata": {},
   "outputs": [
    {
     "name": "stdout",
     "output_type": "stream",
     "text": [
      "Number greater than 5 : [ 6  7  8  9 10]\n"
     ]
    }
   ],
   "source": [
    "mask = numbers>5\n",
    "print(\"Number greater than 5 :\",numbers[mask])"
   ]
  }
 ],
 "metadata": {
  "kernelspec": {
   "display_name": "Python 3 (ipykernel)",
   "language": "python",
   "name": "python3"
  },
  "language_info": {
   "codemirror_mode": {
    "name": "ipython",
    "version": 3
   },
   "file_extension": ".py",
   "mimetype": "text/x-python",
   "name": "python",
   "nbconvert_exporter": "python",
   "pygments_lexer": "ipython3",
   "version": "3.13.0"
  }
 },
 "nbformat": 4,
 "nbformat_minor": 5
}
