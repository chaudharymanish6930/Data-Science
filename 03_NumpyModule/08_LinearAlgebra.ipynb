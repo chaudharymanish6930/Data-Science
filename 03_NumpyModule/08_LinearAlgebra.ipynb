{
 "cells": [
  {
   "cell_type": "markdown",
   "id": "66f5f661-f00a-45cd-b0fe-77917a006a21",
   "metadata": {},
   "source": [
    "# Linear Algebra (Matrix Operations)"
   ]
  },
  {
   "cell_type": "code",
   "execution_count": 2,
   "id": "87fa0787-bb48-4cb5-ba19-123664654777",
   "metadata": {},
   "outputs": [],
   "source": [
    "import numpy as np"
   ]
  },
  {
   "cell_type": "code",
   "execution_count": 4,
   "id": "9353481e-e4c5-4fbb-a545-f66d59783414",
   "metadata": {},
   "outputs": [],
   "source": [
    "A = np.array([[1,2],[3,4]])\n",
    "B = np.array([[5,6],[7,8]])"
   ]
  },
  {
   "cell_type": "code",
   "execution_count": 5,
   "id": "5c1504c8-de48-4689-9875-f68726462b5f",
   "metadata": {
    "scrolled": true
   },
   "outputs": [
    {
     "name": "stdout",
     "output_type": "stream",
     "text": [
      "[[19 22]\n",
      " [43 50]]\n"
     ]
    }
   ],
   "source": [
    "print(np.dot(A,B))  # matrix multiplication"
   ]
  },
  {
   "cell_type": "code",
   "execution_count": 6,
   "id": "c0d27087-d776-45e1-bd11-13a2c2245512",
   "metadata": {},
   "outputs": [
    {
     "name": "stdout",
     "output_type": "stream",
     "text": [
      "[[19 22]\n",
      " [43 50]]\n"
     ]
    }
   ],
   "source": [
    "print(A @ B)             # shortcut"
   ]
  },
  {
   "cell_type": "code",
   "execution_count": 7,
   "id": "857bd7d2-ca11-44a3-acce-2c62aa81e044",
   "metadata": {},
   "outputs": [
    {
     "name": "stdout",
     "output_type": "stream",
     "text": [
      "[[-2.   1. ]\n",
      " [ 1.5 -0.5]]\n"
     ]
    }
   ],
   "source": [
    "print(np.linalg.inv(A))  # inverse"
   ]
  },
  {
   "cell_type": "code",
   "execution_count": 8,
   "id": "f700e62c-5137-4182-a997-8dcca875c025",
   "metadata": {},
   "outputs": [
    {
     "name": "stdout",
     "output_type": "stream",
     "text": [
      "-2.0000000000000004\n"
     ]
    }
   ],
   "source": [
    "print(np.linalg.det(A))  # determinant"
   ]
  },
  {
   "cell_type": "code",
   "execution_count": 9,
   "id": "cc2c4873-a85a-41cb-ace9-009f8236c089",
   "metadata": {},
   "outputs": [
    {
     "name": "stdout",
     "output_type": "stream",
     "text": [
      "EigResult(eigenvalues=array([-0.37228132,  5.37228132]), eigenvectors=array([[-0.82456484, -0.41597356],\n",
      "       [ 0.56576746, -0.90937671]]))\n"
     ]
    }
   ],
   "source": [
    "print(np.linalg.eig(A))  # eigenvalues, eigenvectors"
   ]
  }
 ],
 "metadata": {
  "kernelspec": {
   "display_name": "Python 3 (ipykernel)",
   "language": "python",
   "name": "python3"
  },
  "language_info": {
   "codemirror_mode": {
    "name": "ipython",
    "version": 3
   },
   "file_extension": ".py",
   "mimetype": "text/x-python",
   "name": "python",
   "nbconvert_exporter": "python",
   "pygments_lexer": "ipython3",
   "version": "3.13.0"
  }
 },
 "nbformat": 4,
 "nbformat_minor": 5
}
