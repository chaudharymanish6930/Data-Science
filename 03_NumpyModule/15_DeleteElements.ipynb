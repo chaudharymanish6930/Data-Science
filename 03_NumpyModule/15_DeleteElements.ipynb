{
 "cells": [
  {
   "cell_type": "markdown",
   "id": "6d6adcdc-e2cc-48fd-966e-5206637dc1db",
   "metadata": {},
   "source": [
    "## Deletion of elements "
   ]
  },
  {
   "cell_type": "code",
   "execution_count": 1,
   "id": "cf998628-3d28-4c4e-b05d-8bab6bae078a",
   "metadata": {},
   "outputs": [],
   "source": [
    "import numpy as np"
   ]
  },
  {
   "cell_type": "code",
   "execution_count": 2,
   "id": "29e8802e-2264-42cb-ab32-b1a674efced8",
   "metadata": {},
   "outputs": [
    {
     "name": "stdout",
     "output_type": "stream",
     "text": [
      "After delete : [1 2 3 6]\n"
     ]
    }
   ],
   "source": [
    "arr = np.array([1,2,3,44,6])\n",
    "deleted = np.delete(arr, 3)\n",
    "print(\"After delete :\",deleted)"
   ]
  },
  {
   "cell_type": "code",
   "execution_count": 3,
   "id": "8af477a1-eb99-465d-9c87-9d2829064ebd",
   "metadata": {},
   "outputs": [
    {
     "ename": "AttributeError",
     "evalue": "module 'numpy' has no attribute 'deleted'",
     "output_type": "error",
     "traceback": [
      "\u001b[31m---------------------------------------------------------------------------\u001b[39m",
      "\u001b[31mAttributeError\u001b[39m                            Traceback (most recent call last)",
      "\u001b[36mCell\u001b[39m\u001b[36m \u001b[39m\u001b[32mIn[3]\u001b[39m\u001b[32m, line 2\u001b[39m\n\u001b[32m      1\u001b[39m arr2 = np.array([[\u001b[32m1\u001b[39m,\u001b[32m3\u001b[39m,\u001b[32m5\u001b[39m,\u001b[32m7\u001b[39m],[\u001b[32m2\u001b[39m,\u001b[32m4\u001b[39m,\u001b[32m6\u001b[39m,\u001b[32m8\u001b[39m],[\u001b[32m3\u001b[39m,\u001b[32m6\u001b[39m,\u001b[32m9\u001b[39m,\u001b[32m12\u001b[39m]])\n\u001b[32m----> \u001b[39m\u001b[32m2\u001b[39m deleted = \u001b[43mnp\u001b[49m\u001b[43m.\u001b[49m\u001b[43mdeleted\u001b[49m(arr2, (\u001b[32m1\u001b[39m,\u001b[32m2\u001b[39m))\n\u001b[32m      3\u001b[39m \u001b[38;5;28mprint\u001b[39m(deleted)\n",
      "\u001b[36mFile \u001b[39m\u001b[32m~\\AppData\\Local\\Programs\\Python\\Python313\\Lib\\site-packages\\numpy\\__init__.py:427\u001b[39m, in \u001b[36m__getattr__\u001b[39m\u001b[34m(attr)\u001b[39m\n\u001b[32m    424\u001b[39m     \u001b[38;5;28;01mimport\u001b[39;00m\u001b[38;5;250m \u001b[39m\u001b[34;01mnumpy\u001b[39;00m\u001b[34;01m.\u001b[39;00m\u001b[34;01mchar\u001b[39;00m\u001b[38;5;250m \u001b[39m\u001b[38;5;28;01mas\u001b[39;00m\u001b[38;5;250m \u001b[39m\u001b[34;01mchar\u001b[39;00m\n\u001b[32m    425\u001b[39m     \u001b[38;5;28;01mreturn\u001b[39;00m char.chararray\n\u001b[32m--> \u001b[39m\u001b[32m427\u001b[39m \u001b[38;5;28;01mraise\u001b[39;00m \u001b[38;5;167;01mAttributeError\u001b[39;00m(\u001b[33m\"\u001b[39m\u001b[33mmodule \u001b[39m\u001b[38;5;132;01m{!r}\u001b[39;00m\u001b[33m has no attribute \u001b[39m\u001b[33m\"\u001b[39m\n\u001b[32m    428\u001b[39m                      \u001b[33m\"\u001b[39m\u001b[38;5;132;01m{!r}\u001b[39;00m\u001b[33m\"\u001b[39m.format(\u001b[34m__name__\u001b[39m, attr))\n",
      "\u001b[31mAttributeError\u001b[39m: module 'numpy' has no attribute 'deleted'"
     ]
    }
   ],
   "source": [
    "arr2 = np.array([[1,3,5,7],[2,4,6,8],[3,6,9,12]])\n",
    "deleted = np.deleted(arr2, (1,2))\n",
    "print(deleted)"
   ]
  }
 ],
 "metadata": {
  "kernelspec": {
   "display_name": "Python 3 (ipykernel)",
   "language": "python",
   "name": "python3"
  },
  "language_info": {
   "codemirror_mode": {
    "name": "ipython",
    "version": 3
   },
   "file_extension": ".py",
   "mimetype": "text/x-python",
   "name": "python",
   "nbconvert_exporter": "python",
   "pygments_lexer": "ipython3",
   "version": "3.13.0"
  }
 },
 "nbformat": 4,
 "nbformat_minor": 5
}
