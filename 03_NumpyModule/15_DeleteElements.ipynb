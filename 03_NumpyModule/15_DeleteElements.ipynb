{
 "cells": [
  {
   "cell_type": "markdown",
   "id": "6d6adcdc-e2cc-48fd-966e-5206637dc1db",
   "metadata": {},
   "source": [
    "## Deletion of elements "
   ]
  },
  {
   "cell_type": "code",
   "execution_count": 1,
   "id": "cf998628-3d28-4c4e-b05d-8bab6bae078a",
   "metadata": {},
   "outputs": [],
   "source": [
    "import numpy as np"
   ]
  },
  {
   "cell_type": "code",
   "execution_count": 2,
   "id": "29e8802e-2264-42cb-ab32-b1a674efced8",
   "metadata": {},
   "outputs": [
    {
     "name": "stdout",
     "output_type": "stream",
     "text": [
      "After delete : [1 2 3 6]\n"
     ]
    }
   ],
   "source": [
    "arr = np.array([1,2,3,44,6])\n",
    "deleted = np.delete(arr, 3)\n",
    "print(\"After delete :\",deleted)"
   ]
  },
  {
   "cell_type": "code",
   "execution_count": 4,
   "id": "8af477a1-eb99-465d-9c87-9d2829064ebd",
   "metadata": {},
   "outputs": [
    {
     "name": "stdout",
     "output_type": "stream",
     "text": [
      "[ 1  7  2  4  6  8  3  6  9 12]\n"
     ]
    }
   ],
   "source": [
    "arr2 = np.array([[1,3,5,7],[2,4,6,8],[3,6,9,12]])\n",
    "deleted = np.delete(arr2, [(1,2)])\n",
    "print(deleted)"
   ]
  },
  {
   "cell_type": "code",
   "execution_count": 5,
   "id": "085f6d86-f6fb-4da7-bfaf-1aa5ac0133c5",
   "metadata": {},
   "outputs": [
    {
     "name": "stdout",
     "output_type": "stream",
     "text": [
      "[ 1  2 50  3 44  6]\n"
     ]
    }
   ],
   "source": [
    "# array index value\n",
    "print(np.insert(arr, 2, 50, axis=None))"
   ]
  },
  {
   "cell_type": "code",
   "execution_count": 7,
   "id": "8fa3c927-c375-4a48-9500-a841a1ab5d7a",
   "metadata": {},
   "outputs": [
    {
     "name": "stdout",
     "output_type": "stream",
     "text": [
      "[ 1  5  6  3  5  7  2  4  6  8  3  6  9 12]\n"
     ]
    }
   ],
   "source": [
    "print(np.insert(arr2, 1, [5,6], axis=None))"
   ]
  },
  {
   "cell_type": "code",
   "execution_count": 9,
   "id": "8524f5cf-942a-46d7-9782-4af0dcac8f70",
   "metadata": {},
   "outputs": [
    {
     "name": "stdout",
     "output_type": "stream",
     "text": [
      "[  1   2   3  44   6 100]\n"
     ]
    }
   ],
   "source": [
    "print(np.append(arr, 100))"
   ]
  }
 ],
 "metadata": {
  "kernelspec": {
   "display_name": "Python 3 (ipykernel)",
   "language": "python",
   "name": "python3"
  },
  "language_info": {
   "codemirror_mode": {
    "name": "ipython",
    "version": 3
   },
   "file_extension": ".py",
   "mimetype": "text/x-python",
   "name": "python",
   "nbconvert_exporter": "python",
   "pygments_lexer": "ipython3",
   "version": "3.13.0"
  }
 },
 "nbformat": 4,
 "nbformat_minor": 5
}
