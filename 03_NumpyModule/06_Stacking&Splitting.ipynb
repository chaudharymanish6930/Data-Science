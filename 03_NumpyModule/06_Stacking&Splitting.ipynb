{
 "cells": [
  {
   "cell_type": "markdown",
   "id": "f7f81696-a347-4cdb-ac07-59ca3bdac238",
   "metadata": {},
   "source": [
    "# Vstack\n",
    "## Add New Columns in the array"
   ]
  },
  {
   "cell_type": "code",
   "execution_count": 2,
   "id": "14591ba8-16d7-4e9a-9389-416c65088775",
   "metadata": {},
   "outputs": [],
   "source": [
    "import numpy as np"
   ]
  },
  {
   "cell_type": "code",
   "execution_count": 3,
   "id": "cb9b550a-1c82-42f2-b2ee-ecf9bf9cc2f1",
   "metadata": {},
   "outputs": [],
   "source": [
    "a = np.array([[1,2],[3,4]])\n",
    "b = np.array([[5,6],[7,8]])"
   ]
  },
  {
   "cell_type": "code",
   "execution_count": 4,
   "id": "fdd228e3-b099-4451-ae21-0906aae00fca",
   "metadata": {},
   "outputs": [
    {
     "name": "stdout",
     "output_type": "stream",
     "text": [
      "[[1 2 5 6]\n",
      " [3 4 7 8]]\n"
     ]
    }
   ],
   "source": [
    "# Horizontal stack and add new columns\n",
    "print(np.hstack((a,b)))"
   ]
  },
  {
   "cell_type": "code",
   "execution_count": 5,
   "id": "b547a0c0-89cd-4a53-9e43-a08aa6aaa419",
   "metadata": {},
   "outputs": [
    {
     "name": "stdout",
     "output_type": "stream",
     "text": [
      "[[1 2]\n",
      " [3 4]\n",
      " [5 6]\n",
      " [7 8]]\n"
     ]
    }
   ],
   "source": [
    "# Vertical stack  add new row in it\n",
    "print(np.vstack((a,b)))"
   ]
  },
  {
   "cell_type": "code",
   "execution_count": 5,
   "id": "3955c384-1b10-4e19-aa24-90f10f9393b0",
   "metadata": {},
   "outputs": [
    {
     "name": "stdout",
     "output_type": "stream",
     "text": [
      "[[1 2]\n",
      " [3 4]\n",
      " [5 6]\n",
      " [7 8]]\n"
     ]
    }
   ],
   "source": [
    "# Concatenate\n",
    "print(np.concatenate((a,b), axis=0))"
   ]
  },
  {
   "cell_type": "code",
   "execution_count": 6,
   "id": "70b4993c-bee1-4ae5-b7f9-16da948153b8",
   "metadata": {},
   "outputs": [
    {
     "name": "stdout",
     "output_type": "stream",
     "text": [
      "[array([0, 1, 2, 3, 4]), array([5, 6, 7, 8, 9])]\n"
     ]
    }
   ],
   "source": [
    "# Split\n",
    "arr = np.arange(10)\n",
    "print(np.split(arr, 2))"
   ]
  },
  {
   "cell_type": "code",
   "execution_count": 7,
   "id": "24fec0af-cd4c-4e46-9749-74616b8b6dc5",
   "metadata": {},
   "outputs": [
    {
     "name": "stdout",
     "output_type": "stream",
     "text": [
      "[array([0, 1, 2]), array([3, 4, 5]), array([6, 7, 8]), array([ 9, 10, 11])]\n"
     ]
    }
   ],
   "source": [
    "# Split\n",
    "arr = np.arange(12)\n",
    "print(np.split(arr, 4))"
   ]
  },
  {
   "cell_type": "code",
   "execution_count": 8,
   "id": "56b57432-1c21-41cb-970a-857fd449c77a",
   "metadata": {},
   "outputs": [
    {
     "name": "stdout",
     "output_type": "stream",
     "text": [
      "[array([0, 1, 2, 3, 4]), array([5, 6, 7, 8, 9]), array([10, 11, 12, 13, 14]), array([15, 16, 17, 18, 19])]\n"
     ]
    }
   ],
   "source": [
    "# Split\n",
    "arr = np.arange(20)\n",
    "print(np.split(arr, 4))"
   ]
  },
  {
   "cell_type": "code",
   "execution_count": 6,
   "id": "de8750f7-77de-4895-9135-7183926a24da",
   "metadata": {},
   "outputs": [],
   "source": [
    "original = np.array([[1,2], [3,4]])\n",
    "new_rows = np.array([[5,6]])"
   ]
  },
  {
   "cell_type": "code",
   "execution_count": 8,
   "id": "73d0c695-181b-4baf-8741-c109aa9825c5",
   "metadata": {},
   "outputs": [
    {
     "name": "stdout",
     "output_type": "stream",
     "text": [
      "[[1 2]\n",
      " [3 4]]\n",
      "[[1 2]\n",
      " [3 4]\n",
      " [5 6]]\n"
     ]
    }
   ],
   "source": [
    "with_new_row= np.vstack((original, new_rows))\n",
    "print(original)\n",
    "print(with_new_row)"
   ]
  },
  {
   "cell_type": "code",
   "execution_count": 10,
   "id": "5268ada9-2129-49bc-87ac-263ee229e9ce",
   "metadata": {},
   "outputs": [],
   "source": [
    "original = np.array([[1,2], [3,4]])\n",
    "new_rows = np.array([[5],[6]])"
   ]
  },
  {
   "cell_type": "code",
   "execution_count": 11,
   "id": "976eda53-a732-431e-b3e9-d98ddfc530fb",
   "metadata": {},
   "outputs": [
    {
     "name": "stdout",
     "output_type": "stream",
     "text": [
      "[[1 2]\n",
      " [3 4]]\n",
      "[[1 2 5]\n",
      " [3 4 6]]\n"
     ]
    }
   ],
   "source": [
    "with_new_column= np.hstack((original, new_rows))\n",
    "print(original)\n",
    "print(with_new_column)"
   ]
  },
  {
   "cell_type": "code",
   "execution_count": 2,
   "id": "2e7c09ea-3da5-4522-99a1-fc7ae5a5a01c",
   "metadata": {},
   "outputs": [
    {
     "name": "stdout",
     "output_type": "stream",
     "text": [
      "[array([1, 2]), array([3, 4]), array([5, 6]), array([7, 8]), array([ 9, 10])]\n"
     ]
    }
   ],
   "source": [
    "import numpy as np\n",
    "arr = np.array([1,2,3,4,5,6,7,8,9,10])\n",
    "arr1 = np.split(arr, 5)\n",
    "print(arr1)"
   ]
  },
  {
   "cell_type": "code",
   "execution_count": 3,
   "id": "c50e2160-61d4-445a-8009-e452a0c9df62",
   "metadata": {},
   "outputs": [
    {
     "name": "stdout",
     "output_type": "stream",
     "text": [
      "[array([1, 2, 3, 4, 5]), array([ 6,  7,  8,  9, 10])]\n"
     ]
    }
   ],
   "source": [
    "print(np.split(arr,2))"
   ]
  },
  {
   "cell_type": "code",
   "execution_count": 5,
   "id": "40b15666-2d26-4eb2-87ee-17ba3c035b76",
   "metadata": {},
   "outputs": [
    {
     "name": "stdout",
     "output_type": "stream",
     "text": [
      "[ 1  2  3  4  5  6  7  8  9 10]\n"
     ]
    }
   ],
   "source": [
    "import numpy as np\n",
    "arr1=np.array([1,2,3,4,5])\n",
    "arr2=np.array([6,7,8,9,10])\n",
    "\n",
    "new_arr = np.concatenate((arr1, arr2))\n",
    "print(new_arr)"
   ]
  },
  {
   "cell_type": "code",
   "execution_count": 6,
   "id": "bf10c818-27d9-4940-a87c-197a4de1f56f",
   "metadata": {},
   "outputs": [
    {
     "name": "stdout",
     "output_type": "stream",
     "text": [
      "[array([1, 2, 3, 4, 5]), array([ 6,  7,  8,  9, 10])]\n"
     ]
    }
   ],
   "source": [
    "print(np.hsplit(arr,2))"
   ]
  },
  {
   "cell_type": "code",
   "execution_count": 7,
   "id": "310af135-2497-4037-b65c-7821b63b1fa2",
   "metadata": {},
   "outputs": [
    {
     "name": "stdout",
     "output_type": "stream",
     "text": [
      "[array([1, 2]), array([3, 4]), array([5, 6]), array([7, 8]), array([ 9, 10])]\n"
     ]
    }
   ],
   "source": [
    "print(np.split(arr,5))"
   ]
  }
 ],
 "metadata": {
  "kernelspec": {
   "display_name": "Python 3 (ipykernel)",
   "language": "python",
   "name": "python3"
  },
  "language_info": {
   "codemirror_mode": {
    "name": "ipython",
    "version": 3
   },
   "file_extension": ".py",
   "mimetype": "text/x-python",
   "name": "python",
   "nbconvert_exporter": "python",
   "pygments_lexer": "ipython3",
   "version": "3.13.0"
  }
 },
 "nbformat": 4,
 "nbformat_minor": 5
}
