{
 "cells": [
  {
   "cell_type": "markdown",
   "id": "67fcc453-4bbe-40de-96b2-6bc3dda18957",
   "metadata": {},
   "source": [
    "# Numpy basics"
   ]
  },
  {
   "cell_type": "markdown",
   "id": "c4576479-e8f3-437f-b513-6997c08f3ad2",
   "metadata": {},
   "source": [
    "### 1 Create Array"
   ]
  },
  {
   "cell_type": "code",
   "execution_count": 1,
   "id": "450ce492-6942-4c32-b585-876b314f53e5",
   "metadata": {},
   "outputs": [],
   "source": [
    "import numpy as np"
   ]
  },
  {
   "cell_type": "code",
   "execution_count": 2,
   "id": "508770ce-15b9-4e05-9069-c7806acd9364",
   "metadata": {},
   "outputs": [
    {
     "data": {
      "text/plain": [
       "array([1, 2, 3, 4, 5])"
      ]
     },
     "execution_count": 2,
     "metadata": {},
     "output_type": "execute_result"
    }
   ],
   "source": [
    "# From Python list\n",
    "np.array([1, 2, 3, 4, 5])"
   ]
  },
  {
   "cell_type": "code",
   "execution_count": 3,
   "id": "98d2f463-1ad9-48f2-9476-1c6b39093266",
   "metadata": {},
   "outputs": [
    {
     "name": "stdout",
     "output_type": "stream",
     "text": [
      "[1 2 3 4 5]\n"
     ]
    }
   ],
   "source": [
    "arr1 = np.array([1, 2, 3, 4, 5])\n",
    "print(arr1)"
   ]
  },
  {
   "cell_type": "code",
   "execution_count": 4,
   "id": "aba58ce6-84ab-46fc-a083-e4cfb1370823",
   "metadata": {},
   "outputs": [
    {
     "data": {
      "text/plain": [
       "array([[1, 2, 3],\n",
       "       [4, 5, 6]])"
      ]
     },
     "execution_count": 4,
     "metadata": {},
     "output_type": "execute_result"
    }
   ],
   "source": [
    "# 2D Array\n",
    "np.array([[1, 2, 3], [4, 5, 6]])"
   ]
  },
  {
   "cell_type": "code",
   "execution_count": 5,
   "id": "51b699fd-0176-4489-a64f-1583825ec131",
   "metadata": {},
   "outputs": [
    {
     "name": "stdout",
     "output_type": "stream",
     "text": [
      "[[1 2 3]\n",
      " [4 5 6]]\n"
     ]
    }
   ],
   "source": [
    "arr2 = np.array([[1, 2, 3], [4, 5, 6]])\n",
    "print(arr2)"
   ]
  },
  {
   "cell_type": "markdown",
   "id": "ea3c1d77-d8cc-406e-bc0b-a066985ad00e",
   "metadata": {},
   "source": [
    "## Tensor"
   ]
  },
  {
   "cell_type": "code",
   "execution_count": 4,
   "id": "a0da8fd1-9258-4c81-834b-908897259f77",
   "metadata": {},
   "outputs": [
    {
     "data": {
      "text/plain": [
       "array([[[ 1,  2,  3],\n",
       "        [ 4,  5,  6]],\n",
       "\n",
       "       [[ 7,  8,  9],\n",
       "        [10, 11, 12]],\n",
       "\n",
       "       [[13, 14, 15],\n",
       "        [16, 17, 18]]])"
      ]
     },
     "execution_count": 4,
     "metadata": {},
     "output_type": "execute_result"
    }
   ],
   "source": [
    "np.array([[[1,2,3], [4,5,6]],\n",
    "          [[7,8,9],[10,11,12]],\n",
    "          [[13,14,15],[16,17,18]]])"
   ]
  },
  {
   "cell_type": "code",
   "execution_count": 6,
   "id": "ad0dd2a3-9825-4730-97d2-11ba45407fe3",
   "metadata": {},
   "outputs": [
    {
     "data": {
      "text/plain": [
       "array([[0., 0., 0.],\n",
       "       [0., 0., 0.],\n",
       "       [0., 0., 0.]])"
      ]
     },
     "execution_count": 6,
     "metadata": {},
     "output_type": "execute_result"
    }
   ],
   "source": [
    "# with zeros\n",
    "np.zeros((3, 3))"
   ]
  },
  {
   "cell_type": "code",
   "execution_count": 7,
   "id": "a9136947-caa2-4290-a415-30013048bb03",
   "metadata": {},
   "outputs": [
    {
     "name": "stdout",
     "output_type": "stream",
     "text": [
      "[[0. 0. 0.]\n",
      " [0. 0. 0.]\n",
      " [0. 0. 0.]]\n"
     ]
    }
   ],
   "source": [
    "# With zeros\n",
    "arr3 = np.zeros((3, 3))\n",
    "print(arr3)"
   ]
  },
  {
   "cell_type": "code",
   "execution_count": 8,
   "id": "d35e8d95-1a2b-4891-943c-ee329a2a0518",
   "metadata": {},
   "outputs": [
    {
     "data": {
      "text/plain": [
       "array([[1., 1., 1., 1.],\n",
       "       [1., 1., 1., 1.]])"
      ]
     },
     "execution_count": 8,
     "metadata": {},
     "output_type": "execute_result"
    }
   ],
   "source": [
    "# with one\n",
    "np.ones((2, 4))"
   ]
  },
  {
   "cell_type": "code",
   "execution_count": 9,
   "id": "c822ddb3-a134-4c49-bf25-50ea5bc48b25",
   "metadata": {},
   "outputs": [
    {
     "name": "stdout",
     "output_type": "stream",
     "text": [
      "[[1. 1. 1. 1. 1.]\n",
      " [1. 1. 1. 1. 1.]\n",
      " [1. 1. 1. 1. 1.]]\n"
     ]
    }
   ],
   "source": [
    "arr4 = np.ones((3, 5))\n",
    "print(arr4)"
   ]
  },
  {
   "cell_type": "code",
   "execution_count": 10,
   "id": "8fd00bf6-e2cc-4af6-a11f-46ad2adb4cba",
   "metadata": {},
   "outputs": [
    {
     "data": {
      "text/plain": [
       "array([0, 2, 4, 6, 8])"
      ]
     },
     "execution_count": 10,
     "metadata": {},
     "output_type": "execute_result"
    }
   ],
   "source": [
    "# Range of numbers\n",
    "np.arange(0, 10, 2)  # start, stop, step"
   ]
  },
  {
   "cell_type": "code",
   "execution_count": 11,
   "id": "788acd71-9d43-45b3-9b5e-d0efab017358",
   "metadata": {},
   "outputs": [
    {
     "name": "stdout",
     "output_type": "stream",
     "text": [
      "[0 2 4 6 8]\n"
     ]
    }
   ],
   "source": [
    "arr5 = np.arange(0, 10, 2)  # start, stop, step\n",
    "print(arr5)"
   ]
  },
  {
   "cell_type": "code",
   "execution_count": 12,
   "id": "23962840-9f00-46eb-a9c7-d0783ba9478b",
   "metadata": {},
   "outputs": [
    {
     "data": {
      "text/plain": [
       "array([0.  , 0.25, 0.5 , 0.75, 1.  ])"
      ]
     },
     "execution_count": 12,
     "metadata": {},
     "output_type": "execute_result"
    }
   ],
   "source": [
    "# evenly values\n",
    "np.linspace(0, 1, 5)"
   ]
  },
  {
   "cell_type": "code",
   "execution_count": 13,
   "id": "d3516403-9458-481e-94fd-3057b7cff0bc",
   "metadata": {},
   "outputs": [
    {
     "name": "stdout",
     "output_type": "stream",
     "text": [
      "[0.   0.25 0.5  0.75 1.  ]\n"
     ]
    }
   ],
   "source": [
    "arr6 = np.linspace(0, 1, 5)  # 5 values between 0 and 1\n",
    "print(arr6)"
   ]
  },
  {
   "cell_type": "code",
   "execution_count": 14,
   "id": "97569dc3-a047-48d8-b3a6-2296cd504278",
   "metadata": {},
   "outputs": [
    {
     "name": "stdout",
     "output_type": "stream",
     "text": [
      "[[1. 0. 0.]\n",
      " [0. 1. 0.]\n",
      " [0. 0. 1.]]\n"
     ]
    }
   ],
   "source": [
    "# Identity matrix\n",
    "arr7 = np.eye(3)\n",
    "print(arr7)"
   ]
  },
  {
   "cell_type": "code",
   "execution_count": 2,
   "id": "a8a9b934-ab50-4eb5-9f67-470c9d487de7",
   "metadata": {},
   "outputs": [
    {
     "data": {
      "text/plain": [
       "array([[7, 7, 7, 7, 7],\n",
       "       [7, 7, 7, 7, 7],\n",
       "       [7, 7, 7, 7, 7]])"
      ]
     },
     "execution_count": 2,
     "metadata": {},
     "output_type": "execute_result"
    }
   ],
   "source": [
    "np.full((3,5),7)"
   ]
  },
  {
   "cell_type": "code",
   "execution_count": 15,
   "id": "cece599d-8efb-42d0-9c86-45eeace3de3e",
   "metadata": {},
   "outputs": [
    {
     "name": "stdout",
     "output_type": "stream",
     "text": [
      "[array([84.89683813, 35.20862627, 38.16465153])]\n",
      "[array([87.26659051, 30.97939871, 58.92027171])]\n"
     ]
    }
   ],
   "source": [
    "arr8 = np.random.rand(2, 3)  # uniform distribution\n",
    "for i in arr8:\n",
    "    print([i*100])"
   ]
  },
  {
   "cell_type": "code",
   "execution_count": 16,
   "id": "9af17085-d60b-4c26-a470-cf295a9220ca",
   "metadata": {},
   "outputs": [
    {
     "name": "stdout",
     "output_type": "stream",
     "text": [
      "[[0.73341669 0.8447039  0.96155054]\n",
      " [0.08141118 0.45684738 0.14122383]]\n"
     ]
    }
   ],
   "source": [
    "# Random numbers\n",
    "arr8 = np.random.rand(2, 3)  # uniform distribution\n",
    "print(arr8)"
   ]
  },
  {
   "cell_type": "code",
   "execution_count": 17,
   "id": "05890a2a-2403-49bd-8bdc-a4f91b44f847",
   "metadata": {},
   "outputs": [
    {
     "name": "stdout",
     "output_type": "stream",
     "text": [
      "[[ 0.33798123 -2.38216217  0.39590469]\n",
      " [-0.11549112 -0.10739083  1.00338206]\n",
      " [-0.25126305  1.090437    0.55624329]]\n"
     ]
    }
   ],
   "source": [
    "arr9 = np.random.randn(3, 3)  # normal distribution\n",
    "print(arr9)"
   ]
  },
  {
   "cell_type": "code",
   "execution_count": 18,
   "id": "248923d0-ffe7-4708-8055-5a992718f63f",
   "metadata": {},
   "outputs": [
    {
     "name": "stdout",
     "output_type": "stream",
     "text": [
      "[91 15 18 67 49]\n"
     ]
    }
   ],
   "source": [
    "arr10 = np.random.randint(1, 100, 5)  # random integers\n",
    "print(arr10)"
   ]
  },
  {
   "cell_type": "code",
   "execution_count": 19,
   "id": "2798f824-fc13-471c-a37b-288d51bdc3e8",
   "metadata": {},
   "outputs": [
    {
     "name": "stdout",
     "output_type": "stream",
     "text": [
      "[[12 52 54  7]\n",
      " [95 41 28 36]\n",
      " [12 16  8 64]]\n"
     ]
    }
   ],
   "source": [
    "# Generate 2D random integers (say 3 rows, 4 columns)\n",
    "arr2d = np.random.randint(1, 100, (3, 4))\n",
    "print(arr2d)"
   ]
  },
  {
   "cell_type": "code",
   "execution_count": 20,
   "id": "66c97dd2-78b7-4561-a372-503e6d0b4bb6",
   "metadata": {},
   "outputs": [
    {
     "name": "stdout",
     "output_type": "stream",
     "text": [
      "1D Array: [34 98 55 80 35]\n",
      "Row vector:\n",
      " [[34 98 55 80 35]]\n",
      "Column vector:\n",
      " [[34]\n",
      " [98]\n",
      " [55]\n",
      " [80]\n",
      " [35]]\n"
     ]
    }
   ],
   "source": [
    "# Extra Numpy\n",
    "arr10 = np.random.randint(1, 100, 5)\n",
    "print(\"1D Array:\", arr10)\n",
    "\n",
    "# Convert to 2D (row vector)\n",
    "arr2d_row = arr10.reshape(1, 5)\n",
    "print(\"Row vector:\\n\", arr2d_row)\n",
    "\n",
    "# Convert to 2D (column vector)\n",
    "arr2d_col = arr10.reshape(5, 1)\n",
    "print(\"Column vector:\\n\", arr2d_col)\n"
   ]
  },
  {
   "cell_type": "markdown",
   "id": "eeeb641b-12a4-4664-90d5-c75f4c74001b",
   "metadata": {},
   "source": [
    "# Array Properties"
   ]
  },
  {
   "cell_type": "code",
   "execution_count": 21,
   "id": "508be7b7-50da-4c92-ab57-30bd0b778240",
   "metadata": {},
   "outputs": [],
   "source": [
    "arr = np.array([[1,2,3],[4,5,6]])"
   ]
  },
  {
   "cell_type": "code",
   "execution_count": 22,
   "id": "90bf3d55-c44c-4342-ad23-07d2e9d19112",
   "metadata": {},
   "outputs": [
    {
     "name": "stdout",
     "output_type": "stream",
     "text": [
      "2\n"
     ]
    }
   ],
   "source": [
    "print(arr.ndim)      # dimensions"
   ]
  },
  {
   "cell_type": "code",
   "execution_count": 23,
   "id": "f52ecc54-2b8d-46b4-a2e5-2386c34f2f4c",
   "metadata": {},
   "outputs": [
    {
     "name": "stdout",
     "output_type": "stream",
     "text": [
      "(2, 3)\n"
     ]
    }
   ],
   "source": [
    "print(arr.shape)     # rows and cols"
   ]
  },
  {
   "cell_type": "code",
   "execution_count": 24,
   "id": "cf02f009-d08c-4628-bd51-460224b5def4",
   "metadata": {},
   "outputs": [
    {
     "name": "stdout",
     "output_type": "stream",
     "text": [
      "6\n"
     ]
    }
   ],
   "source": [
    "print(arr.size)      # total elements"
   ]
  },
  {
   "cell_type": "code",
   "execution_count": 25,
   "id": "dc229cce-35d5-4b12-9464-8e66e0818c8e",
   "metadata": {},
   "outputs": [
    {
     "name": "stdout",
     "output_type": "stream",
     "text": [
      "int64\n"
     ]
    }
   ],
   "source": [
    "print(arr.dtype)     # datatype"
   ]
  },
  {
   "cell_type": "code",
   "execution_count": 26,
   "id": "440786ba-c2e1-4e56-bb05-9898d779f4c8",
   "metadata": {},
   "outputs": [
    {
     "name": "stdout",
     "output_type": "stream",
     "text": [
      "8\n"
     ]
    }
   ],
   "source": [
    "print(arr.itemsize)  # size of each element in bytes"
   ]
  }
 ],
 "metadata": {
  "kernelspec": {
   "display_name": "Python 3 (ipykernel)",
   "language": "python",
   "name": "python3"
  },
  "language_info": {
   "codemirror_mode": {
    "name": "ipython",
    "version": 3
   },
   "file_extension": ".py",
   "mimetype": "text/x-python",
   "name": "python",
   "nbconvert_exporter": "python",
   "pygments_lexer": "ipython3",
   "version": "3.13.0"
  }
 },
 "nbformat": 4,
 "nbformat_minor": 5
}
