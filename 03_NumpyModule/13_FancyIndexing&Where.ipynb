{
 "cells": [
  {
   "cell_type": "markdown",
   "id": "12672d6c-255e-44a0-82bd-051d69501fec",
   "metadata": {},
   "source": [
    "## Fancy Indexing vs np.where()"
   ]
  },
  {
   "cell_type": "code",
   "execution_count": 2,
   "id": "ec7755a6-c2f5-4dec-b1dd-60c7d7d70dea",
   "metadata": {},
   "outputs": [],
   "source": [
    "numbers = np.array([1,2,3,4,5,6,7,8,9,10])"
   ]
  },
  {
   "cell_type": "code",
   "execution_count": 1,
   "id": "97b772a7-4e5a-471d-afc0-75050ee46202",
   "metadata": {},
   "outputs": [],
   "source": [
    "import numpy as np"
   ]
  },
  {
   "cell_type": "code",
   "execution_count": 3,
   "id": "a99cf34d-4b7f-4287-9599-072e865d7e86",
   "metadata": {},
   "outputs": [
    {
     "name": "stdout",
     "output_type": "stream",
     "text": [
      "[1 3 5]\n"
     ]
    }
   ],
   "source": [
    "indices = [0,2,4]\n",
    "print(numbers[indices])"
   ]
  },
  {
   "cell_type": "code",
   "execution_count": 5,
   "id": "67978331-0713-4cb4-be29-4c113d852a7d",
   "metadata": {},
   "outputs": [
    {
     "name": "stdout",
     "output_type": "stream",
     "text": [
      "(array([5, 6, 7, 8, 9]),)\n",
      "NP where  [ 6  7  8  9 10]\n"
     ]
    }
   ],
   "source": [
    "where_result = np.where(numbers>5)\n",
    "print(where_result)\n",
    "print(\"NP where \",numbers[where_result])"
   ]
  },
  {
   "cell_type": "code",
   "execution_count": 7,
   "id": "a041dd84-5f8c-46d7-a3a9-73ad09242d03",
   "metadata": {},
   "outputs": [
    {
     "name": "stdout",
     "output_type": "stream",
     "text": [
      "[ 1  2  3  4  5 24 28 32 36 40]\n"
     ]
    }
   ],
   "source": [
    "condition_array = np.where(numbers>5, numbers*4,numbers)\n",
    "print(condition_array)"
   ]
  },
  {
   "cell_type": "code",
   "execution_count": 8,
   "id": "2ae845a9-73a0-4108-ba26-a1194e0856d8",
   "metadata": {},
   "outputs": [
    {
     "name": "stdout",
     "output_type": "stream",
     "text": [
      "['false' 'false' 'false' 'false' 'false' 'true' 'true' 'true' 'true'\n",
      " 'true']\n"
     ]
    }
   ],
   "source": [
    "condition_array = np.where(numbers>5, \"true\",\"false\")\n",
    "print(condition_array)"
   ]
  }
 ],
 "metadata": {
  "kernelspec": {
   "display_name": "Python 3 (ipykernel)",
   "language": "python",
   "name": "python3"
  },
  "language_info": {
   "codemirror_mode": {
    "name": "ipython",
    "version": 3
   },
   "file_extension": ".py",
   "mimetype": "text/x-python",
   "name": "python",
   "nbconvert_exporter": "python",
   "pygments_lexer": "ipython3",
   "version": "3.13.0"
  }
 },
 "nbformat": 4,
 "nbformat_minor": 5
}
