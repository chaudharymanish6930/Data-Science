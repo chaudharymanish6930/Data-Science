{
 "cells": [
  {
   "cell_type": "markdown",
   "id": "047bab4a-cc52-4b64-809d-7aa4dfbaf0bb",
   "metadata": {},
   "source": [
    "# Concatenate"
   ]
  },
  {
   "cell_type": "code",
   "execution_count": 1,
   "id": "9a6b90f3-55a4-4ba1-bc0a-43a5d4035898",
   "metadata": {},
   "outputs": [],
   "source": [
    "import pandas as pd"
   ]
  },
  {
   "cell_type": "code",
   "execution_count": 2,
   "id": "abcbd6ce-9f69-4819-ad27-85ccb989160a",
   "metadata": {},
   "outputs": [
    {
     "name": "stdout",
     "output_type": "stream",
     "text": [
      "   CustomerId    Name\n",
      "0           1  Ramesh\n",
      "1           2  Manish\n",
      "2           3  Vishal\n",
      "3           3  Ramesh\n",
      "4           4  Manish\n",
      "5           5  Vishal\n"
     ]
    }
   ],
   "source": [
    "region1 = pd.DataFrame({\n",
    "    \"CustomerId\":[1,2,3],\n",
    "    \"Name\":[\"Ramesh\",\"Manish\",\"Vishal\"]\n",
    "})\n",
    "\n",
    "region2 = pd.DataFrame({\n",
    "    \"CustomerId\":[3,4,5],\n",
    "    \"Name\":[\"Ramesh\",\"Manish\",\"Vishal\"]\n",
    "})\n",
    "\n",
    "concatenate =pd.concat([region1, region2], ignore_index =True)  # by default axis=0\n",
    "print(concatenate)"
   ]
  },
  {
   "cell_type": "code",
   "execution_count": 3,
   "id": "1937634a-87d1-4bca-bd5f-36e094506a96",
   "metadata": {},
   "outputs": [
    {
     "name": "stdout",
     "output_type": "stream",
     "text": [
      "   0       1  2       3\n",
      "0  1  Ramesh  3  Ramesh\n",
      "1  2  Manish  4  Manish\n",
      "2  3  Vishal  5  Vishal\n"
     ]
    }
   ],
   "source": [
    "concatenate =pd.concat([region1, region2], axis=1, ignore_index =True)  # by default axis=0\n",
    "print(concatenate)"
   ]
  }
 ],
 "metadata": {
  "kernelspec": {
   "display_name": "Python 3 (ipykernel)",
   "language": "python",
   "name": "python3"
  },
  "language_info": {
   "codemirror_mode": {
    "name": "ipython",
    "version": 3
   },
   "file_extension": ".py",
   "mimetype": "text/x-python",
   "name": "python",
   "nbconvert_exporter": "python",
   "pygments_lexer": "ipython3",
   "version": "3.13.0"
  }
 },
 "nbformat": 4,
 "nbformat_minor": 5
}
