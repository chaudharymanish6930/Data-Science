{
 "cells": [
  {
   "cell_type": "markdown",
   "id": "c8e8434e-2a17-47c4-96a1-6968cc7ae911",
   "metadata": {},
   "source": [
    "## Merging, Joining, Concatenation"
   ]
  },
  {
   "cell_type": "code",
   "execution_count": 2,
   "id": "f2667499-30c4-4420-92bb-44b30e921b32",
   "metadata": {},
   "outputs": [],
   "source": [
    "df_a = pd.DataFrame({\"ID\": [1, 2], \"Name\": [\"A\", \"B\"]})\n",
    "df_b = pd.DataFrame({\"ID\": [1, 2], \"Marks\": [85, 90]})"
   ]
  },
  {
   "cell_type": "code",
   "execution_count": 1,
   "id": "749bfe75-306a-4286-881a-536a56b21756",
   "metadata": {},
   "outputs": [],
   "source": [
    "import pandas as pd\n",
    "import numpy as np"
   ]
  },
  {
   "cell_type": "code",
   "execution_count": 3,
   "id": "8b804eb9-54f6-4d0c-a96b-7f29d06eff0f",
   "metadata": {},
   "outputs": [
    {
     "name": "stdout",
     "output_type": "stream",
     "text": [
      "   ID Name  Marks\n",
      "0   1    A     85\n",
      "1   2    B     90\n"
     ]
    }
   ],
   "source": [
    "# Merge\n",
    "print(pd.merge(df_a, df_b, on=\"ID\"))"
   ]
  },
  {
   "cell_type": "code",
   "execution_count": 4,
   "id": "552a0c00-c7e0-4d35-a164-57a07296eaf9",
   "metadata": {},
   "outputs": [
    {
     "name": "stdout",
     "output_type": "stream",
     "text": [
      "   ID Name  Marks\n",
      "0   1    A    NaN\n",
      "1   2    B    NaN\n",
      "0   1  NaN   85.0\n",
      "1   2  NaN   90.0\n",
      "   ID Name  ID  Marks\n",
      "0   1    A   1     85\n",
      "1   2    B   2     90\n"
     ]
    }
   ],
   "source": [
    "# Concat\n",
    "print(pd.concat([df_a, df_b], axis=0))  # rows\n",
    "print(pd.concat([df_a, df_b], axis=1))  # columns"
   ]
  },
  {
   "cell_type": "code",
   "execution_count": 5,
   "id": "e55e76b3-f054-4506-9752-30c06e386b76",
   "metadata": {},
   "outputs": [
    {
     "name": "stdout",
     "output_type": "stream",
     "text": [
      "   ID Name  Score\n",
      "0   1    A     10\n",
      "1   2    B     20\n"
     ]
    }
   ],
   "source": [
    "# Join\n",
    "df_c = pd.DataFrame({\"Score\": [10, 20]}, index=[1, 2])\n",
    "print(df_a.join(df_c, on=\"ID\"))"
   ]
  }
 ],
 "metadata": {
  "kernelspec": {
   "display_name": "Python 3 (ipykernel)",
   "language": "python",
   "name": "python3"
  },
  "language_info": {
   "codemirror_mode": {
    "name": "ipython",
    "version": 3
   },
   "file_extension": ".py",
   "mimetype": "text/x-python",
   "name": "python",
   "nbconvert_exporter": "python",
   "pygments_lexer": "ipython3",
   "version": "3.13.0"
  }
 },
 "nbformat": 4,
 "nbformat_minor": 5
}
