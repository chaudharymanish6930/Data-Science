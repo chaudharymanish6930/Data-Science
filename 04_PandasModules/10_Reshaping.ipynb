{
 "cells": [
  {
   "cell_type": "markdown",
   "id": "1dec006c-2e11-4b9a-b416-39955c0d86b7",
   "metadata": {},
   "source": [
    "## Reshaping"
   ]
  },
  {
   "cell_type": "code",
   "execution_count": 1,
   "id": "1731090a-c9e3-4fa3-90d5-e3a0b4c1f046",
   "metadata": {},
   "outputs": [],
   "source": [
    "import pandas as pd\n",
    "import numpy as np"
   ]
  },
  {
   "cell_type": "code",
   "execution_count": 2,
   "id": "edc1e4ad-05fe-4e19-baeb-b5ec31af2123",
   "metadata": {},
   "outputs": [],
   "source": [
    "df4 = pd.DataFrame({\n",
    "    \"Name\": [\"A\", \"B\", \"C\"],\n",
    "    \"Subject\": [\"Math\", \"Math\", \"Eng\"],\n",
    "    \"Marks\": [90, 80, 70]\n",
    "})"
   ]
  },
  {
   "cell_type": "code",
   "execution_count": 3,
   "id": "e0535e7f-6a9b-4262-9cb1-296849c30e5b",
   "metadata": {},
   "outputs": [
    {
     "name": "stdout",
     "output_type": "stream",
     "text": [
      "Name        A     B     C\n",
      "Subject                  \n",
      "Eng       NaN   NaN  70.0\n",
      "Math     90.0  80.0   NaN\n"
     ]
    }
   ],
   "source": [
    "print(df4.pivot_table(values=\"Marks\", index=\"Subject\", columns=\"Name\"))"
   ]
  },
  {
   "cell_type": "code",
   "execution_count": 4,
   "id": "96756d54-f4fe-4de7-903e-a3591476a83f",
   "metadata": {},
   "outputs": [
    {
     "name": "stdout",
     "output_type": "stream",
     "text": [
      "  Name variable  value\n",
      "0    A    Marks     90\n",
      "1    B    Marks     80\n",
      "2    C    Marks     70\n"
     ]
    }
   ],
   "source": [
    "print(pd.melt(df4, id_vars=[\"Name\"], value_vars=[\"Marks\"]))"
   ]
  }
 ],
 "metadata": {
  "kernelspec": {
   "display_name": "Python 3 (ipykernel)",
   "language": "python",
   "name": "python3"
  },
  "language_info": {
   "codemirror_mode": {
    "name": "ipython",
    "version": 3
   },
   "file_extension": ".py",
   "mimetype": "text/x-python",
   "name": "python",
   "nbconvert_exporter": "python",
   "pygments_lexer": "ipython3",
   "version": "3.13.0"
  }
 },
 "nbformat": 4,
 "nbformat_minor": 5
}
