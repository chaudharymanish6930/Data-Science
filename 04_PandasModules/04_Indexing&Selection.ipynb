{
 "cells": [
  {
   "cell_type": "markdown",
   "id": "c139e86c-cabb-4bb8-b2db-4305fe8675b4",
   "metadata": {},
   "source": [
    "#### Indexing & Selection"
   ]
  },
  {
   "cell_type": "code",
   "execution_count": 1,
   "id": "0dfecbae-831e-477d-adc8-6b7c8ac535c2",
   "metadata": {},
   "outputs": [],
   "source": [
    "import pandas as pd\n",
    "import numpy as np"
   ]
  },
  {
   "cell_type": "code",
   "execution_count": 2,
   "id": "9be6de95-a753-4ca5-8860-d28beef37c62",
   "metadata": {},
   "outputs": [],
   "source": [
    "df = pd.DataFrame({\n",
    "    \"Name\": [\"Amit\", \"Priya\", \"Ravi\", \"Neha\"],\n",
    "    \"Age\": [23, 21, 25, 22],\n",
    "    \"Marks\": [85, 90, 88, 92]\n",
    "})"
   ]
  },
  {
   "cell_type": "code",
   "execution_count": 3,
   "id": "32e6f631-2e85-4a1c-8adf-116b0e32f44d",
   "metadata": {},
   "outputs": [
    {
     "data": {
      "text/html": [
       "<div>\n",
       "<style scoped>\n",
       "    .dataframe tbody tr th:only-of-type {\n",
       "        vertical-align: middle;\n",
       "    }\n",
       "\n",
       "    .dataframe tbody tr th {\n",
       "        vertical-align: top;\n",
       "    }\n",
       "\n",
       "    .dataframe thead th {\n",
       "        text-align: right;\n",
       "    }\n",
       "</style>\n",
       "<table border=\"1\" class=\"dataframe\">\n",
       "  <thead>\n",
       "    <tr style=\"text-align: right;\">\n",
       "      <th></th>\n",
       "      <th>Name</th>\n",
       "      <th>Age</th>\n",
       "      <th>Marks</th>\n",
       "    </tr>\n",
       "  </thead>\n",
       "  <tbody>\n",
       "    <tr>\n",
       "      <th>0</th>\n",
       "      <td>Amit</td>\n",
       "      <td>23</td>\n",
       "      <td>85</td>\n",
       "    </tr>\n",
       "    <tr>\n",
       "      <th>1</th>\n",
       "      <td>Priya</td>\n",
       "      <td>21</td>\n",
       "      <td>90</td>\n",
       "    </tr>\n",
       "    <tr>\n",
       "      <th>2</th>\n",
       "      <td>Ravi</td>\n",
       "      <td>25</td>\n",
       "      <td>88</td>\n",
       "    </tr>\n",
       "    <tr>\n",
       "      <th>3</th>\n",
       "      <td>Neha</td>\n",
       "      <td>22</td>\n",
       "      <td>92</td>\n",
       "    </tr>\n",
       "  </tbody>\n",
       "</table>\n",
       "</div>"
      ],
      "text/plain": [
       "    Name  Age  Marks\n",
       "0   Amit   23     85\n",
       "1  Priya   21     90\n",
       "2   Ravi   25     88\n",
       "3   Neha   22     92"
      ]
     },
     "execution_count": 3,
     "metadata": {},
     "output_type": "execute_result"
    }
   ],
   "source": [
    "df"
   ]
  },
  {
   "cell_type": "code",
   "execution_count": 4,
   "id": "10e13214-78fc-4767-aa3b-0213ccc97cac",
   "metadata": {},
   "outputs": [
    {
     "name": "stdout",
     "output_type": "stream",
     "text": [
      "Name     Amit\n",
      "Age        23\n",
      "Marks      85\n",
      "Name: 0, dtype: object\n",
      "Name     Ravi\n",
      "Age        25\n",
      "Marks      88\n",
      "Name: 2, dtype: object\n",
      "Amit\n"
     ]
    }
   ],
   "source": [
    "# Label-based\n",
    "print(df.loc[0])          # row by label index\n",
    "print(df.loc[2])          # row by label index\n",
    "print(df.loc[0, \"Name\"])  # single value"
   ]
  },
  {
   "cell_type": "code",
   "execution_count": 6,
   "id": "529e2ceb-1275-40c0-94d0-80d17e543860",
   "metadata": {},
   "outputs": [
    {
     "name": "stdout",
     "output_type": "stream",
     "text": [
      "Name     Priya\n",
      "Age         21\n",
      "Marks       90\n",
      "Name: 1, dtype: object\n",
      "Name     Ravi\n",
      "Age        25\n",
      "Marks      88\n",
      "Name: 2, dtype: object\n",
      "90\n"
     ]
    }
   ],
   "source": [
    "# Position-based\n",
    "print(df.iloc[1])         # row by position\n",
    "print(df.iloc[2]) \n",
    "print(df.iloc[1, 2])      # specific cell"
   ]
  },
  {
   "cell_type": "code",
   "execution_count": 5,
   "id": "4b38ae87-9577-45d5-ab29-f57c0e0f2d05",
   "metadata": {},
   "outputs": [
    {
     "name": "stdout",
     "output_type": "stream",
     "text": [
      "    Name  Age  Marks\n",
      "1  Priya   21     90\n",
      "3   Neha   22     92\n"
     ]
    }
   ],
   "source": [
    "# Boolean indexing\n",
    "print(df[df[\"Marks\"] > 88])"
   ]
  }
 ],
 "metadata": {
  "kernelspec": {
   "display_name": "Python 3 (ipykernel)",
   "language": "python",
   "name": "python3"
  },
  "language_info": {
   "codemirror_mode": {
    "name": "ipython",
    "version": 3
   },
   "file_extension": ".py",
   "mimetype": "text/x-python",
   "name": "python",
   "nbconvert_exporter": "python",
   "pygments_lexer": "ipython3",
   "version": "3.13.0"
  }
 },
 "nbformat": 4,
 "nbformat_minor": 5
}
