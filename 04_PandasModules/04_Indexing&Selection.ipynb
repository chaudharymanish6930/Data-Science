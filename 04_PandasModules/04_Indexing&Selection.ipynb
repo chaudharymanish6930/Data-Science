{
 "cells": [
  {
   "cell_type": "markdown",
   "id": "c139e86c-cabb-4bb8-b2db-4305fe8675b4",
   "metadata": {},
   "source": [
    "# Indexing & Selection"
   ]
  },
  {
   "cell_type": "code",
   "execution_count": 1,
   "id": "0dfecbae-831e-477d-adc8-6b7c8ac535c2",
   "metadata": {},
   "outputs": [],
   "source": [
    "import pandas as pd\n",
    "import numpy as np"
   ]
  },
  {
   "cell_type": "code",
   "execution_count": 2,
   "id": "9be6de95-a753-4ca5-8860-d28beef37c62",
   "metadata": {},
   "outputs": [],
   "source": [
    "df = pd.DataFrame({\n",
    "    \"Name\": [\"Amit\", \"Priya\", \"Ravi\", \"Neha\"],\n",
    "    \"Age\": [23, 21, 25, 22],\n",
    "    \"Marks\": [85, 90, 88, 92]\n",
    "})"
   ]
  },
  {
   "cell_type": "code",
   "execution_count": 4,
   "id": "10e13214-78fc-4767-aa3b-0213ccc97cac",
   "metadata": {},
   "outputs": [
    {
     "name": "stdout",
     "output_type": "stream",
     "text": [
      "Name     Amit\n",
      "Age        23\n",
      "Marks      85\n",
      "Name: 0, dtype: object\n",
      "Name     Ravi\n",
      "Age        25\n",
      "Marks      88\n",
      "Name: 2, dtype: object\n",
      "Amit\n"
     ]
    }
   ],
   "source": [
    "# Label-based\n",
    "print(df.loc[0])          # row by label index\n",
    "print(df.loc[2])          # row by label index\n",
    "print(df.loc[0, \"Name\"])  # single value"
   ]
  },
  {
   "cell_type": "code",
   "execution_count": 5,
   "id": "529e2ceb-1275-40c0-94d0-80d17e543860",
   "metadata": {},
   "outputs": [
    {
     "name": "stdout",
     "output_type": "stream",
     "text": [
      "Name     Priya\n",
      "Age         21\n",
      "Marks       90\n",
      "Name: 1, dtype: object\n",
      "Name     Ravi\n",
      "Age        25\n",
      "Marks      88\n",
      "Name: 2, dtype: object\n",
      "90\n"
     ]
    }
   ],
   "source": [
    "# Position-based\n",
    "print(df.iloc[1])         # row by position\n",
    "print(df.iloc[2]) \n",
    "print(df.iloc[1, 2])      # specific cell"
   ]
  },
  {
   "cell_type": "code",
   "execution_count": 6,
   "id": "4b38ae87-9577-45d5-ab29-f57c0e0f2d05",
   "metadata": {},
   "outputs": [
    {
     "name": "stdout",
     "output_type": "stream",
     "text": [
      "    Name  Age  Marks\n",
      "1  Priya   21     90\n",
      "3   Neha   22     92\n"
     ]
    }
   ],
   "source": [
    "# Boolean indexing\n",
    "print(df[df[\"Marks\"] > 88])"
   ]
  }
 ],
 "metadata": {
  "kernelspec": {
   "display_name": "Python 3 (ipykernel)",
   "language": "python",
   "name": "python3"
  },
  "language_info": {
   "codemirror_mode": {
    "name": "ipython",
    "version": 3
   },
   "file_extension": ".py",
   "mimetype": "text/x-python",
   "name": "python",
   "nbconvert_exporter": "python",
   "pygments_lexer": "ipython3",
   "version": "3.13.0"
  }
 },
 "nbformat": 4,
 "nbformat_minor": 5
}
