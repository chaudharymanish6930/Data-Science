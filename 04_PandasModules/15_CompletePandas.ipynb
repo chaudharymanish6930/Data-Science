{
 "cells": [
  {
   "cell_type": "markdown",
   "metadata": {},
   "source": [
    "# 📘 Pandas Complete Guide\n",
    "Step-by-step programs and explanations for learning pandas."
   ]
  },
  {
   "cell_type": "code",
   "execution_count": null,
   "metadata": {},
   "outputs": [],
   "source": [
    "import pandas as pd\n",
    "import numpy as np"
   ]
  },
  {
   "cell_type": "markdown",
   "metadata": {},
   "source": [
    "## 1. Introduction"
   ]
  },
  {
   "cell_type": "code",
   "execution_count": null,
   "metadata": {},
   "outputs": [],
   "source": [
    "# Series example\n",
    "s = pd.Series([10, 20, 30, 40])\n",
    "print(s)\n",
    "\n",
    "# DataFrame example\n",
    "data = {\n",
    "    \"Name\": [\"Amit\", \"Priya\", \"Ravi\"],\n",
    "    \"Age\": [23, 21, 25],\n",
    "    \"Marks\": [85, 90, 88]\n",
    "}\n",
    "df = pd.DataFrame(data)\n",
    "print(df)"
   ]
  },
  {
   "cell_type": "markdown",
   "metadata": {},
   "source": [
    "## 2. Creating Objects"
   ]
  },
  {
   "cell_type": "code",
   "execution_count": null,
   "metadata": {},
   "outputs": [],
   "source": [
    "# From list\n",
    "s = pd.Series([1, 2, 3, 4])\n",
    "\n",
    "# From dict\n",
    "data = {\"A\": 10, \"B\": 20, \"C\": 30}\n",
    "s_dict = pd.Series(data)\n",
    "\n",
    "# From numpy array\n",
    "arr = np.array([100, 200, 300])\n",
    "s_arr = pd.Series(arr, index=['x', 'y', 'z'])\n",
    "\n",
    "# From CSV (if file exists)\n",
    "# df_csv = pd.read_csv(\"sample.csv\")"
   ]
  },
  {
   "cell_type": "markdown",
   "metadata": {},
   "source": [
    "## 3. Viewing & Inspecting Data"
   ]
  },
  {
   "cell_type": "code",
   "execution_count": null,
   "metadata": {},
   "outputs": [],
   "source": [
    "df = pd.DataFrame({\n",
    "    \"Name\": [\"Amit\", \"Priya\", \"Ravi\", \"Neha\"],\n",
    "    \"Age\": [23, 21, 25, 22],\n",
    "    \"Marks\": [85, 90, 88, 92]\n",
    "})\n",
    "\n",
    "print(df.head(2))\n",
    "print(df.tail(2))\n",
    "print(df.info())\n",
    "print(df.describe())\n",
    "print(df.shape)\n",
    "print(df.columns)\n",
    "print(df.dtypes)"
   ]
  },
  {
   "cell_type": "markdown",
   "metadata": {},
   "source": [
    "## 4. Indexing & Selection"
   ]
  },
  {
   "cell_type": "code",
   "execution_count": null,
   "metadata": {},
   "outputs": [],
   "source": [
    "print(df.loc[0])\n",
    "print(df.loc[0, \"Name\"])\n",
    "print(df.iloc[1])\n",
    "print(df.iloc[1, 2])\n",
    "print(df[df[\"Marks\"] > 88])"
   ]
  },
  {
   "cell_type": "markdown",
   "metadata": {},
   "source": [
    "## 5. Operations"
   ]
  },
  {
   "cell_type": "code",
   "execution_count": null,
   "metadata": {},
   "outputs": [],
   "source": [
    "df[\"Grade\"] = [\"B\", \"A\", \"B\", \"A\"]\n",
    "df[\"Marks\"] = df[\"Marks\"] + 5\n",
    "df = df.drop(\"Grade\", axis=1)\n",
    "df.rename(columns={\"Marks\": \"Score\"}, inplace=True)\n",
    "df[\"Name\"] = df[\"Name\"].replace(\"Amit\", \"Aman\")\n",
    "print(df)"
   ]
  },
  {
   "cell_type": "markdown",
   "metadata": {},
   "source": [
    "## 6. Handling Missing Data"
   ]
  },
  {
   "cell_type": "code",
   "execution_count": null,
   "metadata": {},
   "outputs": [],
   "source": [
    "data = {\"A\": [1, np.nan, 3], \"B\": [4, 5, np.nan]}\n",
    "df2 = pd.DataFrame(data)\n",
    "print(df2.isnull())\n",
    "print(df2.notnull())\n",
    "print(df2.dropna())\n",
    "print(df2.fillna(0))"
   ]
  },
  {
   "cell_type": "markdown",
   "metadata": {},
   "source": [
    "## 7. Sorting & Ranking"
   ]
  },
  {
   "cell_type": "code",
   "execution_count": null,
   "metadata": {},
   "outputs": [],
   "source": [
    "print(df.sort_values(\"Score\", ascending=False))\n",
    "print(df.sort_index())\n",
    "print(df[\"Score\"].rank())"
   ]
  },
  {
   "cell_type": "markdown",
   "metadata": {},
   "source": [
    "## 8. Aggregations & Statistics"
   ]
  },
  {
   "cell_type": "code",
   "execution_count": null,
   "metadata": {},
   "outputs": [],
   "source": [
    "print(df[\"Score\"].sum())\n",
    "print(df[\"Score\"].mean())\n",
    "print(df[\"Score\"].median())\n",
    "print(df[\"Score\"].value_counts())\n",
    "\n",
    "data = {\n",
    "    \"Dept\": [\"IT\", \"HR\", \"IT\", \"Finance\"],\n",
    "    \"Salary\": [40000, 50000, 45000, 60000]\n",
    "}\n",
    "df3 = pd.DataFrame(data)\n",
    "print(df3.groupby(\"Dept\")[\"Salary\"].mean())"
   ]
  },
  {
   "cell_type": "markdown",
   "metadata": {},
   "source": [
    "## 9. Merging, Joining, Concatenation"
   ]
  },
  {
   "cell_type": "code",
   "execution_count": null,
   "metadata": {},
   "outputs": [],
   "source": [
    "df_a = pd.DataFrame({\"ID\": [1, 2], \"Name\": [\"A\", \"B\"]})\n",
    "df_b = pd.DataFrame({\"ID\": [1, 2], \"Marks\": [85, 90]})\n",
    "\n",
    "print(pd.merge(df_a, df_b, on=\"ID\"))\n",
    "print(pd.concat([df_a, df_b], axis=0))\n",
    "print(pd.concat([df_a, df_b], axis=1))\n",
    "\n",
    "df_c = pd.DataFrame({\"Score\": [10, 20]}, index=[1, 2])\n",
    "print(df_a.join(df_c, on=\"ID\"))"
   ]
  },
  {
   "cell_type": "markdown",
   "metadata": {},
   "source": [
    "## 10. Reshaping"
   ]
  },
  {
   "cell_type": "code",
   "execution_count": null,
   "metadata": {},
   "outputs": [],
   "source": [
    "df4 = pd.DataFrame({\n",
    "    \"Name\": [\"A\", \"B\", \"C\"],\n",
    "    \"Subject\": [\"Math\", \"Math\", \"Eng\"],\n",
    "    \"Marks\": [90, 80, 70]\n",
    "})\n",
    "\n",
    "print(df4.pivot_table(values=\"Marks\", index=\"Subject\", columns=\"Name\"))\n",
    "print(pd.melt(df4, id_vars=[\"Name\"], value_vars=[\"Marks\"]))"
   ]
  },
  {
   "cell_type": "markdown",
   "metadata": {},
   "source": [
    "## 11. Time Series Basics"
   ]
  },
  {
   "cell_type": "code",
   "execution_count": null,
   "metadata": {},
   "outputs": [],
   "source": [
    "dates = pd.date_range(\"2023-01-01\", periods=5, freq=\"D\")\n",
    "ts = pd.Series(np.random.randn(5), index=dates)\n",
    "\n",
    "print(ts)\n",
    "print(ts.resample(\"2D\").mean())\n",
    "print(ts.shift(1))"
   ]
  },
  {
   "cell_type": "markdown",
   "metadata": {},
   "source": [
    "## 12. Input / Output (I/O)"
   ]
  },
  {
   "cell_type": "code",
   "execution_count": null,
   "metadata": {},
   "outputs": [],
   "source": [
    "df.to_csv(\"output.csv\", index=False)\n",
    "# df.to_excel(\"output.xlsx\", index=False)\n",
    "# df.to_json(\"output.json\")"
   ]
  },
  {
   "cell_type": "markdown",
   "metadata": {},
   "source": [
    "## 13. Useful Programs & Practice"
   ]
  },
  {
   "cell_type": "code",
   "execution_count": null,
   "metadata": {},
   "outputs": [],
   "source": [
    "print(df[df[\"Score\"] > 50])\n",
    "print(df2.isnull().sum())\n",
    "print(df.nlargest(2, \"Score\"))\n",
    "\n",
    "df['Gender'] = [\"M\", \"F\", \"M\", \"F\"]\n",
    "df['Gender_num'] = df['Gender'].map({\"M\": 1, \"F\": 0})\n",
    "\n",
    "df_group = pd.DataFrame({\n",
    "    \"Dept\": [\"IT\", \"IT\", \"HR\", \"HR\"],\n",
    "    \"Gender\": [\"M\", \"F\", \"M\", \"F\"],\n",
    "    \"Salary\": [40000, 42000, 50000, 52000]\n",
    "})\n",
    "print(df_group.groupby([\"Dept\", \"Gender\"])[\"Salary\"].mean())"
   ]
  },
  {
   "cell_type": "markdown",
   "metadata": {},
   "source": [
    "## 14. Bonus — Plotting"
   ]
  },
  {
   "cell_type": "code",
   "execution_count": null,
   "metadata": {},
   "outputs": [],
   "source": [
    "import matplotlib.pyplot as plt\n",
    "\n",
    "df[\"Score\"].plot(kind=\"bar\", title=\"Student Scores\")\n",
    "plt.show()"
   ]
  }
 ],
 "metadata": {
  "kernelspec": {
   "display_name": "Python 3 (ipykernel)",
   "language": "python",
   "name": "python3"
  },
  "language_info": {
   "codemirror_mode": {
    "name": "ipython",
    "version": 3
   },
   "file_extension": ".py",
   "mimetype": "text/x-python",
   "name": "python",
   "nbconvert_exporter": "python",
   "pygments_lexer": "ipython3",
   "version": "3.13.0"
  }
 },
 "nbformat": 4,
 "nbformat_minor": 4
}
