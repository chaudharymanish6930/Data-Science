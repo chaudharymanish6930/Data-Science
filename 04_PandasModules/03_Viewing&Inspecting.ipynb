{
 "cells": [
  {
   "cell_type": "markdown",
   "id": "006bd19b-e0ca-489a-ad63-dda093b46313",
   "metadata": {},
   "source": [
    "# Viewing & Inspecting Data"
   ]
  },
  {
   "cell_type": "code",
   "execution_count": 1,
   "id": "5d0a4c3a-ba01-4311-9af7-e0ef1ec3c807",
   "metadata": {},
   "outputs": [],
   "source": [
    "import pandas as pd \n",
    "import numpy as np"
   ]
  },
  {
   "cell_type": "code",
   "execution_count": 2,
   "id": "c587a0e2-575a-4c5a-80fb-1901bb8ace1f",
   "metadata": {},
   "outputs": [],
   "source": [
    "df = pd.DataFrame({\n",
    "    \"Name\": [\"Amit\", \"Priya\", \"Ravi\", \"Neha\"],\n",
    "    \"Age\": [23, 21, 25, 22],\n",
    "    \"Marks\": [85, 90, 88, 92]\n",
    "})"
   ]
  },
  {
   "cell_type": "code",
   "execution_count": 3,
   "id": "f1ece033-7b56-4a6f-a5d0-14eccabac415",
   "metadata": {},
   "outputs": [
    {
     "name": "stdout",
     "output_type": "stream",
     "text": [
      "    Name  Age  Marks\n",
      "0   Amit   23     85\n",
      "1  Priya   21     90\n"
     ]
    }
   ],
   "source": [
    "print(df.head(2))    # first 2 rows"
   ]
  },
  {
   "cell_type": "code",
   "execution_count": 4,
   "id": "97fe07a3-778c-43a0-b983-2bf881425f01",
   "metadata": {},
   "outputs": [
    {
     "name": "stdout",
     "output_type": "stream",
     "text": [
      "   Name  Age  Marks\n",
      "2  Ravi   25     88\n",
      "3  Neha   22     92\n"
     ]
    }
   ],
   "source": [
    "print(df.tail(2))    # last 2 rows"
   ]
  },
  {
   "cell_type": "code",
   "execution_count": 5,
   "id": "4adf7a16-ac7e-4af5-9c51-16a87e717532",
   "metadata": {},
   "outputs": [
    {
     "name": "stdout",
     "output_type": "stream",
     "text": [
      "<class 'pandas.core.frame.DataFrame'>\n",
      "RangeIndex: 4 entries, 0 to 3\n",
      "Data columns (total 3 columns):\n",
      " #   Column  Non-Null Count  Dtype \n",
      "---  ------  --------------  ----- \n",
      " 0   Name    4 non-null      object\n",
      " 1   Age     4 non-null      int64 \n",
      " 2   Marks   4 non-null      int64 \n",
      "dtypes: int64(2), object(1)\n",
      "memory usage: 228.0+ bytes\n",
      "None\n"
     ]
    }
   ],
   "source": [
    "print(df.info())     # summary"
   ]
  },
  {
   "cell_type": "code",
   "execution_count": 6,
   "id": "9a101ff6-cc56-4777-a587-b922859610e8",
   "metadata": {},
   "outputs": [
    {
     "name": "stdout",
     "output_type": "stream",
     "text": [
      "             Age      Marks\n",
      "count   4.000000   4.000000\n",
      "mean   22.750000  88.750000\n",
      "std     1.707825   2.986079\n",
      "min    21.000000  85.000000\n",
      "25%    21.750000  87.250000\n",
      "50%    22.500000  89.000000\n",
      "75%    23.500000  90.500000\n",
      "max    25.000000  92.000000\n"
     ]
    }
   ],
   "source": [
    "print(df.describe()) # statistics"
   ]
  },
  {
   "cell_type": "code",
   "execution_count": 7,
   "id": "cdac6a77-7d25-48f2-b020-06d10d175534",
   "metadata": {},
   "outputs": [
    {
     "name": "stdout",
     "output_type": "stream",
     "text": [
      "(4, 3)\n"
     ]
    }
   ],
   "source": [
    "print(df.shape)      # (rows, cols)"
   ]
  },
  {
   "cell_type": "code",
   "execution_count": 8,
   "id": "fac58efa-e957-42d3-a14f-a1f543473e40",
   "metadata": {},
   "outputs": [
    {
     "name": "stdout",
     "output_type": "stream",
     "text": [
      "Index(['Name', 'Age', 'Marks'], dtype='object')\n"
     ]
    }
   ],
   "source": [
    "print(df.columns)    # column names"
   ]
  },
  {
   "cell_type": "code",
   "execution_count": 9,
   "id": "62949d9f-4c6f-4fce-a347-d0d73fa10721",
   "metadata": {},
   "outputs": [
    {
     "name": "stdout",
     "output_type": "stream",
     "text": [
      "Name     object\n",
      "Age       int64\n",
      "Marks     int64\n",
      "dtype: object\n"
     ]
    }
   ],
   "source": [
    "print(df.dtypes)     # data types"
   ]
  }
 ],
 "metadata": {
  "kernelspec": {
   "display_name": "Python 3 (ipykernel)",
   "language": "python",
   "name": "python3"
  },
  "language_info": {
   "codemirror_mode": {
    "name": "ipython",
    "version": 3
   },
   "file_extension": ".py",
   "mimetype": "text/x-python",
   "name": "python",
   "nbconvert_exporter": "python",
   "pygments_lexer": "ipython3",
   "version": "3.13.0"
  }
 },
 "nbformat": 4,
 "nbformat_minor": 5
}
