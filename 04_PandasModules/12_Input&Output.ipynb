{
 "cells": [
  {
   "cell_type": "markdown",
   "id": "a64275fa-aca9-4898-b4d6-0428ff11e49b",
   "metadata": {},
   "source": [
    "## Input / Output (I/O)"
   ]
  },
  {
   "cell_type": "code",
   "execution_count": 1,
   "id": "cc90e325-4873-4796-ba19-3560612ed7c1",
   "metadata": {},
   "outputs": [],
   "source": [
    "import pandas as pd"
   ]
  },
  {
   "cell_type": "code",
   "execution_count": 4,
   "id": "b22cff14-e4ce-4af6-8238-32ff1f8c348b",
   "metadata": {},
   "outputs": [],
   "source": [
    "# To CSV\n",
    "df.to_csv(\"output.csv\", index=False)\n",
    "\n",
    "# To Excel\n",
    "# df.to_excel(\"output.xlsx\", index=False)\n",
    "\n",
    "# To JSON\n",
    "# df.to_json(\"output.json\")"
   ]
  },
  {
   "cell_type": "code",
   "execution_count": 3,
   "id": "5aa15362-1bed-4a1d-9c5e-91427c495eb2",
   "metadata": {},
   "outputs": [],
   "source": [
    "df = pd.DataFrame({\n",
    "    \"Name\": [\"Amit\", \"Priya\", \"Ravi\", \"Neha\"],\n",
    "    \"Age\": [23, 21, 25, 22],\n",
    "    \"Marks\": [85, 90, 88, 92]\n",
    "})"
   ]
  }
 ],
 "metadata": {
  "kernelspec": {
   "display_name": "Python 3 (ipykernel)",
   "language": "python",
   "name": "python3"
  },
  "language_info": {
   "codemirror_mode": {
    "name": "ipython",
    "version": 3
   },
   "file_extension": ".py",
   "mimetype": "text/x-python",
   "name": "python",
   "nbconvert_exporter": "python",
   "pygments_lexer": "ipython3",
   "version": "3.13.0"
  }
 },
 "nbformat": 4,
 "nbformat_minor": 5
}
