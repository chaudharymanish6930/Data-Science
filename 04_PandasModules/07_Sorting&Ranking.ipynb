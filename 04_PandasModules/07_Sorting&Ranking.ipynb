{
 "cells": [
  {
   "cell_type": "markdown",
   "id": "1843a389-46fb-4bdb-b8c3-4ae25a093baf",
   "metadata": {},
   "source": [
    "# Sorting and Ranking"
   ]
  },
  {
   "cell_type": "code",
   "execution_count": 2,
   "id": "2447dfc1-0b6d-44e0-9b07-6cf94fc98519",
   "metadata": {},
   "outputs": [],
   "source": [
    "import pandas as pd\n",
    "import numpy as np"
   ]
  },
  {
   "cell_type": "code",
   "execution_count": 9,
   "id": "959ed294-49bc-4d5f-916d-be411fde76b3",
   "metadata": {},
   "outputs": [],
   "source": [
    "df = pd.DataFrame({\n",
    "    \"Name\": [\"Amit\", \"Priya\", \"Ravi\", \"Neha\"],\n",
    "    \"Age\": [23, 21, 25, 22],\n",
    "    \"Marks\": [85, 90, 88, 92],\n",
    "    \"Score\": [85, 90, 88, 92]\n",
    "})"
   ]
  },
  {
   "cell_type": "code",
   "execution_count": 10,
   "id": "c9e80521-30ee-4fe8-b756-4eb8947fbf63",
   "metadata": {},
   "outputs": [
    {
     "name": "stdout",
     "output_type": "stream",
     "text": [
      "    Name  Age  Marks  Score\n",
      "3   Neha   22     92     92\n",
      "1  Priya   21     90     90\n",
      "2   Ravi   25     88     88\n",
      "0   Amit   23     85     85\n"
     ]
    }
   ],
   "source": [
    "print(df.sort_values(\"Score\", ascending=False))"
   ]
  },
  {
   "cell_type": "code",
   "execution_count": 12,
   "id": "52179049-9424-4408-aa85-04e151dc2eba",
   "metadata": {},
   "outputs": [
    {
     "name": "stdout",
     "output_type": "stream",
     "text": [
      "    Name  Age  Marks  Score\n",
      "0   Amit   23     85     85\n",
      "1  Priya   21     90     90\n",
      "2   Ravi   25     88     88\n",
      "3   Neha   22     92     92\n"
     ]
    }
   ],
   "source": [
    "print(df.sort_index())"
   ]
  },
  {
   "cell_type": "code",
   "execution_count": 11,
   "id": "9046745a-4814-44aa-b1e2-b42861e8f840",
   "metadata": {},
   "outputs": [
    {
     "name": "stdout",
     "output_type": "stream",
     "text": [
      "0    1.0\n",
      "1    3.0\n",
      "2    2.0\n",
      "3    4.0\n",
      "Name: Score, dtype: float64\n"
     ]
    }
   ],
   "source": [
    "print(df[\"Score\"].rank())"
   ]
  }
 ],
 "metadata": {
  "kernelspec": {
   "display_name": "Python 3 (ipykernel)",
   "language": "python",
   "name": "python3"
  },
  "language_info": {
   "codemirror_mode": {
    "name": "ipython",
    "version": 3
   },
   "file_extension": ".py",
   "mimetype": "text/x-python",
   "name": "python",
   "nbconvert_exporter": "python",
   "pygments_lexer": "ipython3",
   "version": "3.13.0"
  }
 },
 "nbformat": 4,
 "nbformat_minor": 5
}
