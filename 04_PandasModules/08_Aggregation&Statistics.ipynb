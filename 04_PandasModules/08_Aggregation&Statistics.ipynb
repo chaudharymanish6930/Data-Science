{
 "cells": [
  {
   "cell_type": "markdown",
   "id": "bae81969-d74f-478a-9630-53812a423b66",
   "metadata": {},
   "source": [
    "## Aggregations & Statistics"
   ]
  },
  {
   "cell_type": "code",
   "execution_count": 1,
   "id": "52abb553-462d-4b92-add8-6dcbda38e1b4",
   "metadata": {},
   "outputs": [],
   "source": [
    "import pandas as pd\n",
    "import numpy as np"
   ]
  },
  {
   "cell_type": "code",
   "execution_count": 2,
   "id": "5286e866-4114-44d0-a7fd-5edb683f12ea",
   "metadata": {},
   "outputs": [],
   "source": [
    "df = pd.DataFrame({\n",
    "    \"Name\": [\"Amit\", \"Priya\", \"Ravi\", \"Neha\"],\n",
    "    \"Age\": [23, 21, 25, 22],\n",
    "    \"Marks\": [85, 90, 88, 92],\n",
    "    \"Score\": [85, 90, 88, 92]\n",
    "})"
   ]
  },
  {
   "cell_type": "code",
   "execution_count": 3,
   "id": "d666b84f-4c3a-4a74-ab29-3462c29f5914",
   "metadata": {},
   "outputs": [
    {
     "name": "stdout",
     "output_type": "stream",
     "text": [
      "355\n"
     ]
    }
   ],
   "source": [
    "print(df[\"Score\"].sum())"
   ]
  },
  {
   "cell_type": "code",
   "execution_count": 4,
   "id": "f5cfd363-7c8a-4ec6-bd27-5a1144dc920f",
   "metadata": {},
   "outputs": [
    {
     "name": "stdout",
     "output_type": "stream",
     "text": [
      "88.75\n"
     ]
    }
   ],
   "source": [
    "print(df[\"Score\"].mean())"
   ]
  },
  {
   "cell_type": "code",
   "execution_count": 5,
   "id": "6aa8f1ce-6fc1-4fd2-b720-a141cefb2a6d",
   "metadata": {},
   "outputs": [
    {
     "name": "stdout",
     "output_type": "stream",
     "text": [
      "89.0\n"
     ]
    }
   ],
   "source": [
    "print(df[\"Score\"].median())"
   ]
  },
  {
   "cell_type": "code",
   "execution_count": 6,
   "id": "4a1ca727-4c8f-4196-afea-0aa8401f5870",
   "metadata": {},
   "outputs": [
    {
     "name": "stdout",
     "output_type": "stream",
     "text": [
      "Score\n",
      "85    1\n",
      "90    1\n",
      "88    1\n",
      "92    1\n",
      "Name: count, dtype: int64\n"
     ]
    }
   ],
   "source": [
    "print(df[\"Score\"].value_counts())"
   ]
  },
  {
   "cell_type": "code",
   "execution_count": 7,
   "id": "cd686c06-a2c1-4a57-bd18-53d9a6e7d764",
   "metadata": {},
   "outputs": [
    {
     "name": "stdout",
     "output_type": "stream",
     "text": [
      "Dept\n",
      "Finance    60000.0\n",
      "HR         50000.0\n",
      "IT         42500.0\n",
      "Name: Salary, dtype: float64\n"
     ]
    }
   ],
   "source": [
    "# GroupBy\n",
    "data = {\n",
    "    \"Dept\": [\"IT\", \"HR\", \"IT\", \"Finance\"],\n",
    "    \"Salary\": [40000, 50000, 45000, 60000]\n",
    "}\n",
    "df3 = pd.DataFrame(data)\n",
    "print(df3.groupby(\"Dept\")[\"Salary\"].mean())"
   ]
  }
 ],
 "metadata": {
  "kernelspec": {
   "display_name": "Python 3 (ipykernel)",
   "language": "python",
   "name": "python3"
  },
  "language_info": {
   "codemirror_mode": {
    "name": "ipython",
    "version": 3
   },
   "file_extension": ".py",
   "mimetype": "text/x-python",
   "name": "python",
   "nbconvert_exporter": "python",
   "pygments_lexer": "ipython3",
   "version": "3.13.0"
  }
 },
 "nbformat": 4,
 "nbformat_minor": 5
}
