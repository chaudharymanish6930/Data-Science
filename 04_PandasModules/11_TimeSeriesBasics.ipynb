{
 "cells": [
  {
   "cell_type": "markdown",
   "id": "0274649b-e00d-470e-857d-3cb4037d7a48",
   "metadata": {},
   "source": [
    "## Time Series Basics"
   ]
  },
  {
   "cell_type": "code",
   "execution_count": 3,
   "id": "31436f59-361d-4a98-990f-b1230b371462",
   "metadata": {},
   "outputs": [],
   "source": [
    "dates = pd.date_range(\"2023-01-01\", periods=5, freq=\"D\")\n",
    "ts = pd.Series(np.random.randn(5), index=dates)"
   ]
  },
  {
   "cell_type": "code",
   "execution_count": 2,
   "id": "099ccd9c-50cc-4e3f-8695-56d62714b7b9",
   "metadata": {},
   "outputs": [],
   "source": [
    "import pandas as pd\n",
    "import numpy as np"
   ]
  },
  {
   "cell_type": "code",
   "execution_count": 4,
   "id": "25b9e9fc-e426-4714-835d-b2315860d189",
   "metadata": {},
   "outputs": [
    {
     "name": "stdout",
     "output_type": "stream",
     "text": [
      "2023-01-01    0.075311\n",
      "2023-01-02   -0.545311\n",
      "2023-01-03    0.194331\n",
      "2023-01-04    0.606939\n",
      "2023-01-05    0.822641\n",
      "Freq: D, dtype: float64\n"
     ]
    }
   ],
   "source": [
    "print(ts)"
   ]
  },
  {
   "cell_type": "code",
   "execution_count": 5,
   "id": "b19dc036-6d79-4804-911d-c7975c08468b",
   "metadata": {},
   "outputs": [
    {
     "name": "stdout",
     "output_type": "stream",
     "text": [
      "2023-01-01   -0.235000\n",
      "2023-01-03    0.400635\n",
      "2023-01-05    0.822641\n",
      "Freq: 2D, dtype: float64\n"
     ]
    }
   ],
   "source": [
    "print(ts.resample(\"2D\").mean())  # resample every 2 days"
   ]
  },
  {
   "cell_type": "code",
   "execution_count": 6,
   "id": "e9bd9efd-970c-4746-8504-db464f2ad696",
   "metadata": {},
   "outputs": [
    {
     "name": "stdout",
     "output_type": "stream",
     "text": [
      "2023-01-01         NaN\n",
      "2023-01-02    0.075311\n",
      "2023-01-03   -0.545311\n",
      "2023-01-04    0.194331\n",
      "2023-01-05    0.606939\n",
      "Freq: D, dtype: float64\n"
     ]
    }
   ],
   "source": [
    "print(ts.shift(1))               # shift by 1 day"
   ]
  }
 ],
 "metadata": {
  "kernelspec": {
   "display_name": "Python 3 (ipykernel)",
   "language": "python",
   "name": "python3"
  },
  "language_info": {
   "codemirror_mode": {
    "name": "ipython",
    "version": 3
   },
   "file_extension": ".py",
   "mimetype": "text/x-python",
   "name": "python",
   "nbconvert_exporter": "python",
   "pygments_lexer": "ipython3",
   "version": "3.13.0"
  }
 },
 "nbformat": 4,
 "nbformat_minor": 5
}
