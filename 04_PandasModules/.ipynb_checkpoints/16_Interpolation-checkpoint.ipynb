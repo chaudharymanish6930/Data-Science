{
 "cells": [
  {
   "cell_type": "markdown",
   "id": "e602fa88-a6dd-42c5-b59e-6ab24287321f",
   "metadata": {},
   "source": [
    "# Interpolaton"
   ]
  },
  {
   "cell_type": "code",
   "execution_count": 1,
   "id": "556f8cbd-078d-4cc1-9757-dad61f62f548",
   "metadata": {},
   "outputs": [],
   "source": [
    "import pandas as pd"
   ]
  },
  {
   "cell_type": "code",
   "execution_count": 2,
   "id": "bf5b4c34-ca1a-4ee3-bf1f-5cced46ae4d5",
   "metadata": {},
   "outputs": [],
   "source": [
    "data ={\n",
    "    \"Time\":[1,2,3,4,5],\n",
    "    \"Value\":[10, None, 30, None, 50]\n",
    "}\n"
   ]
  },
  {
   "cell_type": "markdown",
   "id": "ef6e1fa8-25dc-4212-a50d-f96f2eb1c03f",
   "metadata": {},
   "source": [
    "### Linear Interpolation"
   ]
  },
  {
   "cell_type": "code",
   "execution_count": 5,
   "id": "544ec0e0-3ab9-4d67-828b-32734495528a",
   "metadata": {},
   "outputs": [
    {
     "data": {
      "text/html": [
       "<div>\n",
       "<style scoped>\n",
       "    .dataframe tbody tr th:only-of-type {\n",
       "        vertical-align: middle;\n",
       "    }\n",
       "\n",
       "    .dataframe tbody tr th {\n",
       "        vertical-align: top;\n",
       "    }\n",
       "\n",
       "    .dataframe thead th {\n",
       "        text-align: right;\n",
       "    }\n",
       "</style>\n",
       "<table border=\"1\" class=\"dataframe\">\n",
       "  <thead>\n",
       "    <tr style=\"text-align: right;\">\n",
       "      <th></th>\n",
       "      <th>Time</th>\n",
       "      <th>Value</th>\n",
       "    </tr>\n",
       "  </thead>\n",
       "  <tbody>\n",
       "    <tr>\n",
       "      <th>0</th>\n",
       "      <td>1</td>\n",
       "      <td>10.0</td>\n",
       "    </tr>\n",
       "    <tr>\n",
       "      <th>1</th>\n",
       "      <td>2</td>\n",
       "      <td>NaN</td>\n",
       "    </tr>\n",
       "    <tr>\n",
       "      <th>2</th>\n",
       "      <td>3</td>\n",
       "      <td>30.0</td>\n",
       "    </tr>\n",
       "    <tr>\n",
       "      <th>3</th>\n",
       "      <td>4</td>\n",
       "      <td>NaN</td>\n",
       "    </tr>\n",
       "    <tr>\n",
       "      <th>4</th>\n",
       "      <td>5</td>\n",
       "      <td>50.0</td>\n",
       "    </tr>\n",
       "  </tbody>\n",
       "</table>\n",
       "</div>"
      ],
      "text/plain": [
       "   Time  Value\n",
       "0     1   10.0\n",
       "1     2    NaN\n",
       "2     3   30.0\n",
       "3     4    NaN\n",
       "4     5   50.0"
      ]
     },
     "execution_count": 5,
     "metadata": {},
     "output_type": "execute_result"
    }
   ],
   "source": [
    "\"berfore interpolation\"\n",
    "df = pd.DataFrame(data)\n",
    "df"
   ]
  },
  {
   "cell_type": "code",
   "execution_count": 9,
   "id": "276c02d0-fd10-4349-929d-554e3bd592d7",
   "metadata": {},
   "outputs": [
    {
     "name": "stdout",
     "output_type": "stream",
     "text": [
      "after Interpolation\n",
      "   Time  Value\n",
      "0     1   10.0\n",
      "1     2   20.0\n",
      "2     3   30.0\n",
      "3     4   40.0\n",
      "4     5   50.0\n"
     ]
    }
   ],
   "source": [
    "df[\"Value\"] = df[\"Value\"].interpolate(method=\"linear\")\n",
    "print(\"after Interpolation\")\n",
    "print(df)"
   ]
  },
  {
   "cell_type": "code",
   "execution_count": 11,
   "id": "18ecae54-8ecd-4b3f-9b09-9aaf36b19315",
   "metadata": {},
   "outputs": [
    {
     "name": "stdout",
     "output_type": "stream",
     "text": [
      "Original:\n",
      " 0    10.0\n",
      "1     NaN\n",
      "2    30.0\n",
      "3     NaN\n",
      "4    50.0\n",
      "dtype: float64\n",
      "\n",
      "Linear Interpolation:\n",
      " 0    10.0\n",
      "1    20.0\n",
      "2    30.0\n",
      "3    40.0\n",
      "4    50.0\n",
      "dtype: float64\n"
     ]
    }
   ],
   "source": [
    "import pandas as pd\n",
    "import numpy as np\n",
    "\n",
    "data = [10, np.nan, 30, np.nan, 50]\n",
    "s = pd.Series(data)\n",
    "print(\"Original:\\n\", s)\n",
    "\n",
    "print(\"\\nLinear Interpolation:\\n\", s.interpolate(method='linear'))\n"
   ]
  },
  {
   "cell_type": "markdown",
   "id": "2218e0fc-fac4-47cd-98ae-5f71b290f275",
   "metadata": {},
   "source": [
    "##  Time Interpolation"
   ]
  },
  {
   "cell_type": "code",
   "execution_count": 13,
   "id": "0a44fdb7-b4e6-45e2-80fe-0b133d651510",
   "metadata": {},
   "outputs": [
    {
     "name": "stdout",
     "output_type": "stream",
     "text": [
      "\n",
      "Time Interpolation:\n",
      " 2025-01-01    1.0\n",
      "2025-01-02    2.0\n",
      "2025-01-03    3.0\n",
      "2025-01-04    4.0\n",
      "2025-01-05    5.0\n",
      "2025-01-06    6.0\n",
      "Freq: D, dtype: float64\n"
     ]
    }
   ],
   "source": [
    "dates = pd.date_range('2025-01-01', periods=6)\n",
    "data = [1, np.nan, np.nan, 4, np.nan, 6]\n",
    "s = pd.Series(data, index=dates)\n",
    "\n",
    "print(\"\\nTime Interpolation:\\n\", s.interpolate(method='time'))"
   ]
  },
  {
   "cell_type": "code",
   "execution_count": 15,
   "id": "eb336e4e-f4b6-4845-8eb7-f5272b6287ae",
   "metadata": {},
   "outputs": [
    {
     "data": {
      "text/plain": [
       "0    1.0\n",
       "1    3.0\n",
       "2    2.0\n",
       "dtype: float64"
      ]
     },
     "execution_count": 15,
     "metadata": {},
     "output_type": "execute_result"
    }
   ],
   "source": [
    "x = [0, 1, 2]\n",
    "y = [1, 3, 2]\n",
    "\n",
    "s = pd.Series(y, index=x, dtype=float)\n",
    "s"
   ]
  },
  {
   "cell_type": "code",
   "execution_count": 16,
   "id": "95968ab2-34c5-4184-adae-60bd6d002499",
   "metadata": {},
   "outputs": [
    {
     "data": {
      "text/plain": [
       "0.0    1.0\n",
       "1.0    3.0\n",
       "1.5    NaN\n",
       "2.0    2.0\n",
       "dtype: float64"
      ]
     },
     "execution_count": 16,
     "metadata": {},
     "output_type": "execute_result"
    }
   ],
   "source": [
    "s.loc[1.5] = np.nan\n",
    "s = s.sort_index()\n",
    "s"
   ]
  },
  {
   "cell_type": "code",
   "execution_count": 19,
   "id": "770f9dbf-6008-4457-b2f4-a177ae4f314d",
   "metadata": {},
   "outputs": [
    {
     "name": "stdout",
     "output_type": "stream",
     "text": [
      "\n",
      "With NaN at x=1.5:\n",
      " 0.0    1.0\n",
      "1.0    3.0\n",
      "1.5    NaN\n",
      "2.0    2.0\n",
      "dtype: float64\n",
      "\n",
      "After Polynomial Interpolation:\n",
      " 0.0    1.000\n",
      "1.0    3.000\n",
      "1.5    2.875\n",
      "2.0    2.000\n",
      "dtype: float64\n",
      "\n",
      "Interpolated value at x=1.5 is: 2.875\n"
     ]
    }
   ],
   "source": [
    "print(\"\\nWith NaN at x=1.5:\\n\", s)\n",
    "\n",
    "result = s.interpolate(method='polynomial', order=2)\n",
    "\n",
    "print(\"\\nAfter Polynomial Interpolation:\\n\", result)\n",
    "print(\"\\nInterpolated value at x=1.5 is:\", result.loc[1.5])"
   ]
  },
  {
   "cell_type": "code",
   "execution_count": 21,
   "id": "083fd869-1a9d-4963-ba08-c8d9a5f234aa",
   "metadata": {},
   "outputs": [
    {
     "name": "stdout",
     "output_type": "stream",
     "text": [
      "Original Data:\n",
      " 0     0.0\n",
      "1     2.0\n",
      "2     NaN\n",
      "3     8.0\n",
      "4     NaN\n",
      "5    18.0\n",
      "dtype: float64\n",
      "\n",
      "After Polynomial Interpolation:\n",
      " 0     0.000000\n",
      "1     2.000000\n",
      "2     4.588235\n",
      "3     8.000000\n",
      "4    12.470588\n",
      "5    18.000000\n",
      "dtype: float64\n"
     ]
    }
   ],
   "source": [
    "import pandas as pd\n",
    "import numpy as np\n",
    "\n",
    "# Sample data with missing values\n",
    "data = pd.Series([0, 2, np.nan, 8, np.nan, 18], index=[0, 1, 2, 3, 4, 5])\n",
    "\n",
    "print(\"Original Data:\\n\", data)\n",
    "\n",
    "# Apply polynomial interpolation of degree 2\n",
    "interpolated = data.interpolate(method='polynomial', order=2)\n",
    "\n",
    "print(\"\\nAfter Polynomial Interpolation:\\n\", interpolated)"
   ]
  }
 ],
 "metadata": {
  "kernelspec": {
   "display_name": "Python 3 (ipykernel)",
   "language": "python",
   "name": "python3"
  },
  "language_info": {
   "codemirror_mode": {
    "name": "ipython",
    "version": 3
   },
   "file_extension": ".py",
   "mimetype": "text/x-python",
   "name": "python",
   "nbconvert_exporter": "python",
   "pygments_lexer": "ipython3",
   "version": "3.13.0"
  }
 },
 "nbformat": 4,
 "nbformat_minor": 5
}
