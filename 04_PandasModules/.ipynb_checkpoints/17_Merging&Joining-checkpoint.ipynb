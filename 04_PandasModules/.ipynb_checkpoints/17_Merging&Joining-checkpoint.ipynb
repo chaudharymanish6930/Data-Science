{
 "cells": [
  {
   "cell_type": "markdown",
   "id": "a6317015-5f6e-4d07-ab54-fc127e78d688",
   "metadata": {},
   "source": [
    "# Merging & joining"
   ]
  },
  {
   "cell_type": "code",
   "execution_count": 1,
   "id": "e2f6583f-1d87-4a5d-bc30-17f62c0040c9",
   "metadata": {},
   "outputs": [],
   "source": [
    "import pandas as pd\n",
    "import numpy as np"
   ]
  },
  {
   "cell_type": "code",
   "execution_count": 2,
   "id": "32eeb7ec-0c94-45e6-8025-fd9ea3dc7dc9",
   "metadata": {},
   "outputs": [
    {
     "name": "stdout",
     "output_type": "stream",
     "text": [
      "   CustomerId    Name  OrderAmount\n",
      "0           1  Ramesh          250\n",
      "1           2  Manish          450\n"
     ]
    }
   ],
   "source": [
    "customers = pd.DataFrame({\n",
    "    \"CustomerId\":[1,2,3],\n",
    "    \"Name\":[\"Ramesh\",\"Manish\",\"Vishal\"]\n",
    "})\n",
    "\n",
    "orders = pd.DataFrame({\n",
    "    \"CustomerId\":[1,2,4],\n",
    "    \"OrderAmount\":[250,450,350]\n",
    "})\n",
    "\n",
    "df_merged = pd.merge(customers, orders, on=\"CustomerId\", how=\"inner\")\n",
    "print(df_merged)\n"
   ]
  },
  {
   "cell_type": "code",
   "execution_count": 3,
   "id": "7cb7446e-9c8a-46e1-8e9e-87fc43609e82",
   "metadata": {},
   "outputs": [
    {
     "name": "stdout",
     "output_type": "stream",
     "text": [
      "   CustomerId    Name  OrderAmount\n",
      "0           1  Ramesh        250.0\n",
      "1           2  Manish        450.0\n",
      "2           3  Vishal          NaN\n",
      "3           4     NaN        350.0\n"
     ]
    }
   ],
   "source": [
    "customers = pd.DataFrame({\n",
    "    \"CustomerId\":[1,2,3],\n",
    "    \"Name\":[\"Ramesh\",\"Manish\",\"Vishal\"]\n",
    "})\n",
    "\n",
    "orders = pd.DataFrame({\n",
    "    \"CustomerId\":[1,2,4],\n",
    "    \"OrderAmount\":[250,450,350]\n",
    "})\n",
    "\n",
    "df_merged = pd.merge(customers, orders, on=\"CustomerId\", how=\"outer\")\n",
    "print(df_merged)\n"
   ]
  },
  {
   "cell_type": "code",
   "execution_count": 4,
   "id": "f00271b9-455d-4d94-8ca4-c0aa85fa2db0",
   "metadata": {},
   "outputs": [
    {
     "name": "stdout",
     "output_type": "stream",
     "text": [
      "   CustomerId    Name  OrderAmount\n",
      "0           1  Ramesh          250\n",
      "1           2  Manish          450\n",
      "2           4     NaN          350\n"
     ]
    }
   ],
   "source": [
    "customers = pd.DataFrame({\n",
    "    \"CustomerId\":[1,2,3],\n",
    "    \"Name\":[\"Ramesh\",\"Manish\",\"Vishal\"]\n",
    "})\n",
    "\n",
    "orders = pd.DataFrame({\n",
    "    \"CustomerId\":[1,2,4],\n",
    "    \"OrderAmount\":[250,450,350]\n",
    "})\n",
    "\n",
    "df_merged = pd.merge(customers, orders, on=\"CustomerId\", how=\"right\")\n",
    "print(df_merged)"
   ]
  },
  {
   "cell_type": "code",
   "execution_count": 5,
   "id": "1984bdbe-d61b-463d-84d4-691273751300",
   "metadata": {},
   "outputs": [
    {
     "ename": "MergeError",
     "evalue": "Can not pass on, right_on, left_on or set right_index=True or left_index=True",
     "output_type": "error",
     "traceback": [
      "\u001b[31m---------------------------------------------------------------------------\u001b[39m",
      "\u001b[31mMergeError\u001b[39m                                Traceback (most recent call last)",
      "\u001b[36mCell\u001b[39m\u001b[36m \u001b[39m\u001b[32mIn[5]\u001b[39m\u001b[32m, line 11\u001b[39m\n\u001b[32m      1\u001b[39m customers = pd.DataFrame({\n\u001b[32m      2\u001b[39m     \u001b[33m\"\u001b[39m\u001b[33mCustomerId\u001b[39m\u001b[33m\"\u001b[39m:[\u001b[32m1\u001b[39m,\u001b[32m2\u001b[39m,\u001b[32m3\u001b[39m],\n\u001b[32m      3\u001b[39m     \u001b[33m\"\u001b[39m\u001b[33mName\u001b[39m\u001b[33m\"\u001b[39m:[\u001b[33m\"\u001b[39m\u001b[33mRamesh\u001b[39m\u001b[33m\"\u001b[39m,\u001b[33m\"\u001b[39m\u001b[33mManish\u001b[39m\u001b[33m\"\u001b[39m,\u001b[33m\"\u001b[39m\u001b[33mVishal\u001b[39m\u001b[33m\"\u001b[39m]\n\u001b[32m      4\u001b[39m })\n\u001b[32m      6\u001b[39m orders = pd.DataFrame({\n\u001b[32m      7\u001b[39m     \u001b[33m\"\u001b[39m\u001b[33mCustomerId\u001b[39m\u001b[33m\"\u001b[39m:[\u001b[32m1\u001b[39m,\u001b[32m2\u001b[39m,\u001b[32m4\u001b[39m],\n\u001b[32m      8\u001b[39m     \u001b[33m\"\u001b[39m\u001b[33mOrderAmount\u001b[39m\u001b[33m\"\u001b[39m:[\u001b[32m250\u001b[39m,\u001b[32m450\u001b[39m,\u001b[32m350\u001b[39m]\n\u001b[32m      9\u001b[39m })\n\u001b[32m---> \u001b[39m\u001b[32m11\u001b[39m df_merged = \u001b[43mpd\u001b[49m\u001b[43m.\u001b[49m\u001b[43mmerge\u001b[49m\u001b[43m(\u001b[49m\u001b[43mcustomers\u001b[49m\u001b[43m,\u001b[49m\u001b[43m \u001b[49m\u001b[43morders\u001b[49m\u001b[43m,\u001b[49m\u001b[43m \u001b[49m\u001b[43mon\u001b[49m\u001b[43m=\u001b[49m\u001b[33;43m\"\u001b[39;49m\u001b[33;43mCustomerId\u001b[39;49m\u001b[33;43m\"\u001b[39;49m\u001b[43m,\u001b[49m\u001b[43m \u001b[49m\u001b[43mhow\u001b[49m\u001b[43m=\u001b[49m\u001b[33;43m\"\u001b[39;49m\u001b[33;43mcross\u001b[39;49m\u001b[33;43m\"\u001b[39;49m\u001b[43m)\u001b[49m\n\u001b[32m     12\u001b[39m \u001b[38;5;28mprint\u001b[39m(df_merged)\n",
      "\u001b[36mFile \u001b[39m\u001b[32m~\\AppData\\Local\\Programs\\Python\\Python313\\Lib\\site-packages\\pandas\\core\\reshape\\merge.py:155\u001b[39m, in \u001b[36mmerge\u001b[39m\u001b[34m(left, right, how, on, left_on, right_on, left_index, right_index, sort, suffixes, copy, indicator, validate)\u001b[39m\n\u001b[32m    153\u001b[39m right_df = _validate_operand(right)\n\u001b[32m    154\u001b[39m \u001b[38;5;28;01mif\u001b[39;00m how == \u001b[33m\"\u001b[39m\u001b[33mcross\u001b[39m\u001b[33m\"\u001b[39m:\n\u001b[32m--> \u001b[39m\u001b[32m155\u001b[39m     \u001b[38;5;28;01mreturn\u001b[39;00m \u001b[43m_cross_merge\u001b[49m\u001b[43m(\u001b[49m\n\u001b[32m    156\u001b[39m \u001b[43m        \u001b[49m\u001b[43mleft_df\u001b[49m\u001b[43m,\u001b[49m\n\u001b[32m    157\u001b[39m \u001b[43m        \u001b[49m\u001b[43mright_df\u001b[49m\u001b[43m,\u001b[49m\n\u001b[32m    158\u001b[39m \u001b[43m        \u001b[49m\u001b[43mon\u001b[49m\u001b[43m=\u001b[49m\u001b[43mon\u001b[49m\u001b[43m,\u001b[49m\n\u001b[32m    159\u001b[39m \u001b[43m        \u001b[49m\u001b[43mleft_on\u001b[49m\u001b[43m=\u001b[49m\u001b[43mleft_on\u001b[49m\u001b[43m,\u001b[49m\n\u001b[32m    160\u001b[39m \u001b[43m        \u001b[49m\u001b[43mright_on\u001b[49m\u001b[43m=\u001b[49m\u001b[43mright_on\u001b[49m\u001b[43m,\u001b[49m\n\u001b[32m    161\u001b[39m \u001b[43m        \u001b[49m\u001b[43mleft_index\u001b[49m\u001b[43m=\u001b[49m\u001b[43mleft_index\u001b[49m\u001b[43m,\u001b[49m\n\u001b[32m    162\u001b[39m \u001b[43m        \u001b[49m\u001b[43mright_index\u001b[49m\u001b[43m=\u001b[49m\u001b[43mright_index\u001b[49m\u001b[43m,\u001b[49m\n\u001b[32m    163\u001b[39m \u001b[43m        \u001b[49m\u001b[43msort\u001b[49m\u001b[43m=\u001b[49m\u001b[43msort\u001b[49m\u001b[43m,\u001b[49m\n\u001b[32m    164\u001b[39m \u001b[43m        \u001b[49m\u001b[43msuffixes\u001b[49m\u001b[43m=\u001b[49m\u001b[43msuffixes\u001b[49m\u001b[43m,\u001b[49m\n\u001b[32m    165\u001b[39m \u001b[43m        \u001b[49m\u001b[43mindicator\u001b[49m\u001b[43m=\u001b[49m\u001b[43mindicator\u001b[49m\u001b[43m,\u001b[49m\n\u001b[32m    166\u001b[39m \u001b[43m        \u001b[49m\u001b[43mvalidate\u001b[49m\u001b[43m=\u001b[49m\u001b[43mvalidate\u001b[49m\u001b[43m,\u001b[49m\n\u001b[32m    167\u001b[39m \u001b[43m        \u001b[49m\u001b[43mcopy\u001b[49m\u001b[43m=\u001b[49m\u001b[43mcopy\u001b[49m\u001b[43m,\u001b[49m\n\u001b[32m    168\u001b[39m \u001b[43m    \u001b[49m\u001b[43m)\u001b[49m\n\u001b[32m    169\u001b[39m \u001b[38;5;28;01melse\u001b[39;00m:\n\u001b[32m    170\u001b[39m     op = _MergeOperation(\n\u001b[32m    171\u001b[39m         left_df,\n\u001b[32m    172\u001b[39m         right_df,\n\u001b[32m   (...)\u001b[39m\u001b[32m    182\u001b[39m         validate=validate,\n\u001b[32m    183\u001b[39m     )\n",
      "\u001b[36mFile \u001b[39m\u001b[32m~\\AppData\\Local\\Programs\\Python\\Python313\\Lib\\site-packages\\pandas\\core\\reshape\\merge.py:212\u001b[39m, in \u001b[36m_cross_merge\u001b[39m\u001b[34m(left, right, on, left_on, right_on, left_index, right_index, sort, suffixes, copy, indicator, validate)\u001b[39m\n\u001b[32m    201\u001b[39m \u001b[38;5;250m\u001b[39m\u001b[33;03m\"\"\"\u001b[39;00m\n\u001b[32m    202\u001b[39m \u001b[33;03mSee merge.__doc__ with how='cross'\u001b[39;00m\n\u001b[32m    203\u001b[39m \u001b[33;03m\"\"\"\u001b[39;00m\n\u001b[32m    205\u001b[39m \u001b[38;5;28;01mif\u001b[39;00m (\n\u001b[32m    206\u001b[39m     left_index\n\u001b[32m    207\u001b[39m     \u001b[38;5;129;01mor\u001b[39;00m right_index\n\u001b[32m   (...)\u001b[39m\u001b[32m    210\u001b[39m     \u001b[38;5;129;01mor\u001b[39;00m on \u001b[38;5;129;01mis\u001b[39;00m \u001b[38;5;129;01mnot\u001b[39;00m \u001b[38;5;28;01mNone\u001b[39;00m\n\u001b[32m    211\u001b[39m ):\n\u001b[32m--> \u001b[39m\u001b[32m212\u001b[39m     \u001b[38;5;28;01mraise\u001b[39;00m MergeError(\n\u001b[32m    213\u001b[39m         \u001b[33m\"\u001b[39m\u001b[33mCan not pass on, right_on, left_on or set right_index=True or \u001b[39m\u001b[33m\"\u001b[39m\n\u001b[32m    214\u001b[39m         \u001b[33m\"\u001b[39m\u001b[33mleft_index=True\u001b[39m\u001b[33m\"\u001b[39m\n\u001b[32m    215\u001b[39m     )\n\u001b[32m    217\u001b[39m cross_col = \u001b[33mf\u001b[39m\u001b[33m\"\u001b[39m\u001b[33m_cross_\u001b[39m\u001b[38;5;132;01m{\u001b[39;00muuid.uuid4()\u001b[38;5;132;01m}\u001b[39;00m\u001b[33m\"\u001b[39m\n\u001b[32m    218\u001b[39m left = left.assign(**{cross_col: \u001b[32m1\u001b[39m})\n",
      "\u001b[31mMergeError\u001b[39m: Can not pass on, right_on, left_on or set right_index=True or left_index=True"
     ]
    }
   ],
   "source": [
    "customers = pd.DataFrame({\n",
    "    \"CustomerId\":[1,2,3],\n",
    "    \"Name\":[\"Ramesh\",\"Manish\",\"Vishal\"]\n",
    "})\n",
    "\n",
    "orders = pd.DataFrame({\n",
    "    \"CustomerId\":[1,2,4],\n",
    "    \"OrderAmount\":[250,450,350]\n",
    "})\n",
    "\n",
    "df_merged = pd.merge(customers, orders, on=\"CustomerId\", how=\"cross\")\n",
    "print(df_merged)\n"
   ]
  },
  {
   "cell_type": "code",
   "execution_count": 6,
   "id": "00f05254-be7b-45b1-b532-b29971583440",
   "metadata": {},
   "outputs": [
    {
     "name": "stdout",
     "output_type": "stream",
     "text": [
      "   CustomerId    Name  OrderAmount\n",
      "0           1  Ramesh        250.0\n",
      "1           2  Manish        450.0\n",
      "2           3  Vishal          NaN\n"
     ]
    }
   ],
   "source": [
    "customers = pd.DataFrame({\n",
    "    \"CustomerId\":[1,2,3],\n",
    "    \"Name\":[\"Ramesh\",\"Manish\",\"Vishal\"]\n",
    "})\n",
    "\n",
    "orders = pd.DataFrame({\n",
    "    \"CustomerId\":[1,2,4],\n",
    "    \"OrderAmount\":[250,450,350]\n",
    "})\n",
    "\n",
    "df_merged = pd.merge(customers, orders, on=\"CustomerId\", how=\"left\")\n",
    "print(df_merged)\n"
   ]
  }
 ],
 "metadata": {
  "kernelspec": {
   "display_name": "Python 3 (ipykernel)",
   "language": "python",
   "name": "python3"
  },
  "language_info": {
   "codemirror_mode": {
    "name": "ipython",
    "version": 3
   },
   "file_extension": ".py",
   "mimetype": "text/x-python",
   "name": "python",
   "nbconvert_exporter": "python",
   "pygments_lexer": "ipython3",
   "version": "3.13.0"
  }
 },
 "nbformat": 4,
 "nbformat_minor": 5
}
